{
 "cells": [
  {
   "cell_type": "markdown",
   "metadata": {
    "nbgrader": {
     "grade": false,
     "grade_id": "cell-fc1c39d0d6f8b82a",
     "locked": true,
     "schema_version": 1,
     "solution": false
    }
   },
   "source": [
    "# Week 13 Review Assignmnet\n",
    "\n",
    "For the questions below, we're going to refer exclusively to an HHCAPS survey data set that is available in `/data/hhcaps.csv`.  Use whatever commands you want to calculate the information required to get to the answer.  Then, enter your answer in the answers cell as usual.\n",
    "\n",
    "**NOTE: Enter your answers as string values (inside quotation marks \"\") even if the answer is actually numeric.**\n",
    "\n",
    "---\n",
    "---\n"
   ]
  },
  {
   "cell_type": "code",
   "execution_count": 1,
   "metadata": {
    "nbgrader": {
     "grade": false,
     "grade_id": "intro",
     "locked": true,
     "schema_version": 1,
     "solution": false
    }
   },
   "outputs": [],
   "source": [
    "%matplotlib inline\n",
    "import pandas as pd\n",
    "\n",
    "hhcaps = pd.read_csv('/data/hhcaps.csv')"
   ]
  },
  {
   "cell_type": "markdown",
   "metadata": {
    "nbgrader": {
     "grade": false,
     "grade_id": "q01-intro",
     "locked": true,
     "schema_version": 1,
     "solution": false
    }
   },
   "source": [
    "## #01 - \n",
    "\n",
    "How many columns does this file contain?"
   ]
  },
  {
   "cell_type": "code",
   "execution_count": 2,
   "metadata": {},
   "outputs": [
    {
     "data": {
      "text/plain": [
       "Index(['State', 'CMS Certification Number (CCN)*', 'Provider Name', 'Address',\n",
       "       'City', 'Zip', 'Phone', 'Type of Ownership',\n",
       "       'Offers Nursing Care Services', 'Offers Physical Therapy Services',\n",
       "       'Offers Occupational Therapy Services',\n",
       "       'Offers Speech Pathology Services', 'Offers Medical Social Services',\n",
       "       'Offers Home Health Aide Services', 'Date Certified',\n",
       "       'HHCAHPS Survey Summary Star Rating',\n",
       "       'Footnote HHCAHPS Survey Summary Star Rating',\n",
       "       'Star Rating for health team gave care in a professional way',\n",
       "       'Footnote for Star Rating for gave care in a professional way',\n",
       "       'Percent of patients who reported that their home health team gave care in a professional way',\n",
       "       'Footnote for percent of patients who reported that their home health team gave care in a professional way',\n",
       "       'Star Rating for health team communicated well with them',\n",
       "       'Footnote for Star Rating for communicated well with them',\n",
       "       'Percent of patients who reported that their home health team communicated well with them',\n",
       "       'Footnote for percent of patients who reported that their home health team communicated well with them',\n",
       "       'Star Rating team discussed medicines, pain, and home safety',\n",
       "       'Footnote Star Rating discussed medicines, pain, home safety',\n",
       "       'Percent of patients who reported that their home health team discussed medicines, pain, and home safety with them',\n",
       "       'Footnote for percent of patients who reported that their home health team discussed medicines, pain, and home safety with them',\n",
       "       'Star Rating for how patients rated overall care from agency',\n",
       "       'Footnote for Star Rating for overall care from agency',\n",
       "       'Percent of patients who gave their home health agency a rating of 9 or 10 on a scale from 0 (lowest) to 10 (highest)',\n",
       "       'Footnote for percent of patients who gave their home health agency a rating of 9 or 10 on a scale from 0 (lowest) to 10 (highest)',\n",
       "       'Percent of patients who reported YES, they would definitely recommend the home health agency to friends and family',\n",
       "       'Footnote for percent of patients who reported YES, they would definitely recommend the home health agency to friends and family',\n",
       "       'Number of completed Surveys',\n",
       "       'Footnote for number of completed surveys', 'Response rate',\n",
       "       'Footnote for response rate'],\n",
       "      dtype='object')"
      ]
     },
     "execution_count": 2,
     "metadata": {},
     "output_type": "execute_result"
    }
   ],
   "source": [
    "# Write some code to figure it out\n",
    "hhcaps.columns"
   ]
  },
  {
   "cell_type": "code",
   "execution_count": 3,
   "metadata": {},
   "outputs": [],
   "source": [
    "column_count = len(hhcaps.columns)"
   ]
  },
  {
   "cell_type": "code",
   "execution_count": 4,
   "metadata": {},
   "outputs": [
    {
     "data": {
      "text/plain": [
       "39"
      ]
     },
     "execution_count": 4,
     "metadata": {},
     "output_type": "execute_result"
    }
   ],
   "source": [
    "column_count"
   ]
  },
  {
   "cell_type": "code",
   "execution_count": 5,
   "metadata": {
    "nbgrader": {
     "grade": false,
     "grade_id": "q01-solution",
     "locked": false,
     "schema_version": 1,
     "solution": true
    }
   },
   "outputs": [],
   "source": [
    "answers={}\n",
    "answers['40.1'] = \"39\""
   ]
  },
  {
   "cell_type": "markdown",
   "metadata": {
    "nbgrader": {
     "grade": false,
     "grade_id": "q02-intro",
     "locked": true,
     "schema_version": 1,
     "solution": false
    }
   },
   "source": [
    "## #02 - \n",
    "\n",
    "How many different values for State are there in this file?"
   ]
  },
  {
   "cell_type": "code",
   "execution_count": 6,
   "metadata": {},
   "outputs": [],
   "source": [
    "# Write some code to figure it out\n",
    "States = hhcaps.groupby('State')['Zip'].count()"
   ]
  },
  {
   "cell_type": "code",
   "execution_count": 7,
   "metadata": {},
   "outputs": [
    {
     "data": {
      "text/plain": [
       "55"
      ]
     },
     "execution_count": 7,
     "metadata": {},
     "output_type": "execute_result"
    }
   ],
   "source": [
    "len(States)"
   ]
  },
  {
   "cell_type": "code",
   "execution_count": 8,
   "metadata": {
    "nbgrader": {
     "grade": false,
     "grade_id": "q02-solution",
     "locked": false,
     "schema_version": 1,
     "solution": true
    }
   },
   "outputs": [],
   "source": [
    "answers['40.2'] = \"55\""
   ]
  },
  {
   "cell_type": "markdown",
   "metadata": {
    "nbgrader": {
     "grade": false,
     "grade_id": "q03-intro",
     "locked": true,
     "schema_version": 1,
     "solution": false
    }
   },
   "source": [
    "## #03 - \n",
    "\n",
    "Which of those State values has the highest frequency of occurence?"
   ]
  },
  {
   "cell_type": "code",
   "execution_count": 9,
   "metadata": {
    "nbgrader": {
     "grade": false,
     "grade_id": "q03-solution",
     "locked": false,
     "schema_version": 1,
     "solution": true
    }
   },
   "outputs": [
    {
     "data": {
      "text/plain": [
       "TX    2518\n",
       "CA    1319\n",
       "FL    1069\n",
       "OH     781\n",
       "IL     735\n",
       "MI     597\n",
       "PA     425\n",
       "MA     261\n",
       "OK     256\n",
       "VA     244\n",
       "IN     229\n",
       "MN     197\n",
       "LA     195\n",
       "CO     187\n",
       "NC     174\n",
       "AR     172\n",
       "AZ     169\n",
       "MO     169\n",
       "IA     163\n",
       "AL     152\n",
       "NV     143\n",
       "NY     141\n",
       "TN     140\n",
       "WI     119\n",
       "KS     117\n",
       "GA     106\n",
       "KY     104\n",
       "UT      98\n",
       "CT      91\n",
       "NM      77\n",
       "NE      75\n",
       "SC      70\n",
       "WA      63\n",
       "WV      61\n",
       "OR      57\n",
       "MD      53\n",
       "MS      48\n",
       "NJ      47\n",
       "PR      45\n",
       "ID      45\n",
       "SD      33\n",
       "NH      31\n",
       "DC      28\n",
       "RI      27\n",
       "MT      27\n",
       "WY      26\n",
       "DE      26\n",
       "ME      24\n",
       "ND      18\n",
       "HI      16\n",
       "AK      14\n",
       "VT      11\n",
       "GU       4\n",
       "MP       2\n",
       "VI       1\n",
       "Name: State, dtype: int64"
      ]
     },
     "execution_count": 9,
     "metadata": {},
     "output_type": "execute_result"
    }
   ],
   "source": [
    "# Write some code to figure it out\n",
    "hhcaps['State'].value_counts()"
   ]
  },
  {
   "cell_type": "code",
   "execution_count": 10,
   "metadata": {
    "nbgrader": {
     "grade": true,
     "grade_id": "q03-test",
     "locked": true,
     "points": 2,
     "schema_version": 1,
     "solution": false
    }
   },
   "outputs": [],
   "source": [
    "answers['40.3'] = \"TX\""
   ]
  },
  {
   "cell_type": "markdown",
   "metadata": {
    "nbgrader": {
     "grade": false,
     "grade_id": "q04-intro",
     "locked": true,
     "schema_version": 1,
     "solution": false
    }
   },
   "source": [
    "## #04 - \n",
    "\n",
    "Which of those State values has the best average performance on the `Star Rating for health team communicated well with them` score?"
   ]
  },
  {
   "cell_type": "code",
   "execution_count": 11,
   "metadata": {
    "nbgrader": {
     "grade": false,
     "grade_id": "q04-solution",
     "locked": false,
     "schema_version": 1,
     "solution": true
    }
   },
   "outputs": [],
   "source": [
    "# Write some code to figure it out\n",
    "States_grp = hhcaps.groupby('State')"
   ]
  },
  {
   "cell_type": "code",
   "execution_count": 12,
   "metadata": {
    "nbgrader": {
     "grade": false,
     "grade_id": "q04-solution",
     "locked": false,
     "schema_version": 1,
     "solution": true
    }
   },
   "outputs": [
    {
     "data": {
      "text/html": [
       "<div>\n",
       "<style scoped>\n",
       "    .dataframe tbody tr th:only-of-type {\n",
       "        vertical-align: middle;\n",
       "    }\n",
       "\n",
       "    .dataframe tbody tr th {\n",
       "        vertical-align: top;\n",
       "    }\n",
       "\n",
       "    .dataframe thead th {\n",
       "        text-align: right;\n",
       "    }\n",
       "</style>\n",
       "<table border=\"1\" class=\"dataframe\">\n",
       "  <thead>\n",
       "    <tr style=\"text-align: right;\">\n",
       "      <th></th>\n",
       "      <th>State</th>\n",
       "      <th>CMS Certification Number (CCN)*</th>\n",
       "      <th>Provider Name</th>\n",
       "      <th>Address</th>\n",
       "      <th>City</th>\n",
       "      <th>Zip</th>\n",
       "      <th>Phone</th>\n",
       "      <th>Type of Ownership</th>\n",
       "      <th>Offers Nursing Care Services</th>\n",
       "      <th>Offers Physical Therapy Services</th>\n",
       "      <th>...</th>\n",
       "      <th>Star Rating for how patients rated overall care from agency</th>\n",
       "      <th>Footnote for Star Rating for overall care from agency</th>\n",
       "      <th>Percent of patients who gave their home health agency a rating of 9 or 10 on a scale from 0 (lowest) to 10 (highest)</th>\n",
       "      <th>Footnote for percent of patients who gave their home health agency a rating of 9 or 10 on a scale from 0 (lowest) to 10 (highest)</th>\n",
       "      <th>Percent of patients who reported YES, they would definitely recommend the home health agency to friends and family</th>\n",
       "      <th>Footnote for percent of patients who reported YES, they would definitely recommend the home health agency to friends and family</th>\n",
       "      <th>Number of completed Surveys</th>\n",
       "      <th>Footnote for number of completed surveys</th>\n",
       "      <th>Response rate</th>\n",
       "      <th>Footnote for response rate</th>\n",
       "    </tr>\n",
       "  </thead>\n",
       "  <tbody>\n",
       "    <tr>\n",
       "      <th>0</th>\n",
       "      <td>AL</td>\n",
       "      <td>17000</td>\n",
       "      <td>BUREAU OF HOME &amp; COMMUNITY SERVICES           ...</td>\n",
       "      <td>201 MONROE STREET, THE RSA TOWER,  SUITE 1200 ...</td>\n",
       "      <td>MONTGOMERY</td>\n",
       "      <td>36104</td>\n",
       "      <td>3342065341</td>\n",
       "      <td>Official Health Agency</td>\n",
       "      <td>True</td>\n",
       "      <td>True</td>\n",
       "      <td>...</td>\n",
       "      <td>NaN</td>\n",
       "      <td>No survey results are available for this period.</td>\n",
       "      <td>Not Available</td>\n",
       "      <td>No survey results are available for this period.</td>\n",
       "      <td>Not Available</td>\n",
       "      <td>No survey results are available for this period.</td>\n",
       "      <td>Not Available</td>\n",
       "      <td>No survey results are available for this period.</td>\n",
       "      <td>Not Available</td>\n",
       "      <td>No survey results are available for this period.</td>\n",
       "    </tr>\n",
       "    <tr>\n",
       "      <th>1</th>\n",
       "      <td>AL</td>\n",
       "      <td>17008</td>\n",
       "      <td>JEFFERSON COUNTY HOME CARE                    ...</td>\n",
       "      <td>2201 ARLINGTON AVENUE                         ...</td>\n",
       "      <td>BESSEMER</td>\n",
       "      <td>35020</td>\n",
       "      <td>2059169500</td>\n",
       "      <td>Official Health Agency</td>\n",
       "      <td>True</td>\n",
       "      <td>True</td>\n",
       "      <td>...</td>\n",
       "      <td>4.0</td>\n",
       "      <td>Fewer than 100 patients completed the survey. ...</td>\n",
       "      <td>91</td>\n",
       "      <td>Fewer than 100 patients completed the survey. ...</td>\n",
       "      <td>77</td>\n",
       "      <td>Fewer than 100 patients completed the survey. ...</td>\n",
       "      <td>55</td>\n",
       "      <td>Fewer than 100 patients completed the survey. ...</td>\n",
       "      <td>23</td>\n",
       "      <td>Fewer than 100 patients completed the survey. ...</td>\n",
       "    </tr>\n",
       "    <tr>\n",
       "      <th>2</th>\n",
       "      <td>AL</td>\n",
       "      <td>17009</td>\n",
       "      <td>ALACARE HOME HEALTH &amp; HOSPICE                 ...</td>\n",
       "      <td>2970 LORNA ROAD                               ...</td>\n",
       "      <td>BIRMINGHAM</td>\n",
       "      <td>35216</td>\n",
       "      <td>2058242680</td>\n",
       "      <td>Local</td>\n",
       "      <td>True</td>\n",
       "      <td>True</td>\n",
       "      <td>...</td>\n",
       "      <td>4.0</td>\n",
       "      <td>NaN</td>\n",
       "      <td>88</td>\n",
       "      <td>NaN</td>\n",
       "      <td>81</td>\n",
       "      <td>NaN</td>\n",
       "      <td>327</td>\n",
       "      <td>NaN</td>\n",
       "      <td>32</td>\n",
       "      <td>NaN</td>\n",
       "    </tr>\n",
       "    <tr>\n",
       "      <th>3</th>\n",
       "      <td>AL</td>\n",
       "      <td>17013</td>\n",
       "      <td>GENTIVA HEALTH SERVICES                       ...</td>\n",
       "      <td>1239 RUCKER BLVD                              ...</td>\n",
       "      <td>ENTERPRISE</td>\n",
       "      <td>36330</td>\n",
       "      <td>3343470234</td>\n",
       "      <td>Official Health Agency</td>\n",
       "      <td>True</td>\n",
       "      <td>True</td>\n",
       "      <td>...</td>\n",
       "      <td>4.0</td>\n",
       "      <td>NaN</td>\n",
       "      <td>91</td>\n",
       "      <td>NaN</td>\n",
       "      <td>91</td>\n",
       "      <td>NaN</td>\n",
       "      <td>252</td>\n",
       "      <td>NaN</td>\n",
       "      <td>34</td>\n",
       "      <td>NaN</td>\n",
       "    </tr>\n",
       "    <tr>\n",
       "      <th>4</th>\n",
       "      <td>AL</td>\n",
       "      <td>17014</td>\n",
       "      <td>AMEDISYS HOME HEALTH                          ...</td>\n",
       "      <td>68278 MAIN STREET                             ...</td>\n",
       "      <td>BLOUNTSVILLE</td>\n",
       "      <td>35031</td>\n",
       "      <td>2054294919</td>\n",
       "      <td>Local</td>\n",
       "      <td>True</td>\n",
       "      <td>True</td>\n",
       "      <td>...</td>\n",
       "      <td>4.0</td>\n",
       "      <td>NaN</td>\n",
       "      <td>88</td>\n",
       "      <td>NaN</td>\n",
       "      <td>79</td>\n",
       "      <td>NaN</td>\n",
       "      <td>205</td>\n",
       "      <td>NaN</td>\n",
       "      <td>34</td>\n",
       "      <td>NaN</td>\n",
       "    </tr>\n",
       "    <tr>\n",
       "      <th>...</th>\n",
       "      <td>...</td>\n",
       "      <td>...</td>\n",
       "      <td>...</td>\n",
       "      <td>...</td>\n",
       "      <td>...</td>\n",
       "      <td>...</td>\n",
       "      <td>...</td>\n",
       "      <td>...</td>\n",
       "      <td>...</td>\n",
       "      <td>...</td>\n",
       "      <td>...</td>\n",
       "      <td>...</td>\n",
       "      <td>...</td>\n",
       "      <td>...</td>\n",
       "      <td>...</td>\n",
       "      <td>...</td>\n",
       "      <td>...</td>\n",
       "      <td>...</td>\n",
       "      <td>...</td>\n",
       "      <td>...</td>\n",
       "      <td>...</td>\n",
       "    </tr>\n",
       "    <tr>\n",
       "      <th>9886</th>\n",
       "      <td>GU</td>\n",
       "      <td>657004</td>\n",
       "      <td>HEALTH SERVICES OF THE PACIFIC - HOME CARE    ...</td>\n",
       "      <td>809 CHALAN PASAHERU, UNIT 2                   ...</td>\n",
       "      <td>BARRIGADA</td>\n",
       "      <td>96913</td>\n",
       "      <td>6716475356</td>\n",
       "      <td>Local</td>\n",
       "      <td>True</td>\n",
       "      <td>True</td>\n",
       "      <td>...</td>\n",
       "      <td>NaN</td>\n",
       "      <td>Fewer than 100 patients completed the survey. ...</td>\n",
       "      <td>58</td>\n",
       "      <td>Fewer than 100 patients completed the survey. ...</td>\n",
       "      <td>77</td>\n",
       "      <td>Fewer than 100 patients completed the survey. ...</td>\n",
       "      <td>24</td>\n",
       "      <td>Fewer than 100 patients completed the survey. ...</td>\n",
       "      <td>15</td>\n",
       "      <td>Fewer than 100 patients completed the survey. ...</td>\n",
       "    </tr>\n",
       "    <tr>\n",
       "      <th>9887</th>\n",
       "      <td>GU</td>\n",
       "      <td>657005</td>\n",
       "      <td>FHP HOME HEALTH                               ...</td>\n",
       "      <td>548 SOUTH MARINE CORPS DRIVE                  ...</td>\n",
       "      <td>TAMUNING</td>\n",
       "      <td>96913</td>\n",
       "      <td>6716464933</td>\n",
       "      <td>Local</td>\n",
       "      <td>True</td>\n",
       "      <td>True</td>\n",
       "      <td>...</td>\n",
       "      <td>NaN</td>\n",
       "      <td>Fewer than 100 patients completed the survey. ...</td>\n",
       "      <td>71</td>\n",
       "      <td>Fewer than 100 patients completed the survey. ...</td>\n",
       "      <td>79</td>\n",
       "      <td>Fewer than 100 patients completed the survey. ...</td>\n",
       "      <td>20</td>\n",
       "      <td>Fewer than 100 patients completed the survey. ...</td>\n",
       "      <td>21</td>\n",
       "      <td>Fewer than 100 patients completed the survey. ...</td>\n",
       "    </tr>\n",
       "    <tr>\n",
       "      <th>9888</th>\n",
       "      <td>GU</td>\n",
       "      <td>657006</td>\n",
       "      <td>GUAM VISITING NURSES                          ...</td>\n",
       "      <td>396 CHALAN SAN ANTONIO, BRI BUILDING, SUITE 10...</td>\n",
       "      <td>TAMUNING</td>\n",
       "      <td>96913</td>\n",
       "      <td>6716466877</td>\n",
       "      <td>Local</td>\n",
       "      <td>True</td>\n",
       "      <td>False</td>\n",
       "      <td>...</td>\n",
       "      <td>NaN</td>\n",
       "      <td>No survey results are available for this period.</td>\n",
       "      <td>Not Available</td>\n",
       "      <td>No survey results are available for this period.</td>\n",
       "      <td>Not Available</td>\n",
       "      <td>No survey results are available for this period.</td>\n",
       "      <td>Not Available</td>\n",
       "      <td>No survey results are available for this period.</td>\n",
       "      <td>Not Available</td>\n",
       "      <td>No survey results are available for this period.</td>\n",
       "    </tr>\n",
       "    <tr>\n",
       "      <th>9889</th>\n",
       "      <td>MP</td>\n",
       "      <td>667001</td>\n",
       "      <td>MHS HOME CARE                                 ...</td>\n",
       "      <td>SAIPAN PLAZA BUILDING, SUITE 7                ...</td>\n",
       "      <td>GARAPAN</td>\n",
       "      <td>96950</td>\n",
       "      <td>6702334646</td>\n",
       "      <td>Official Health Agency</td>\n",
       "      <td>True</td>\n",
       "      <td>True</td>\n",
       "      <td>...</td>\n",
       "      <td>NaN</td>\n",
       "      <td>Zero, or very few, patients met the surveys r...</td>\n",
       "      <td>94</td>\n",
       "      <td>Zero, or very few, patients met the surveys r...</td>\n",
       "      <td>100</td>\n",
       "      <td>Zero, or very few, patients met the surveys r...</td>\n",
       "      <td>9</td>\n",
       "      <td>Zero, or very few, patients met the surveys r...</td>\n",
       "      <td>8</td>\n",
       "      <td>Zero, or very few, patients met the surveys r...</td>\n",
       "    </tr>\n",
       "    <tr>\n",
       "      <th>9890</th>\n",
       "      <td>MP</td>\n",
       "      <td>667002</td>\n",
       "      <td>MARIANAS VISITING NURSES                      ...</td>\n",
       "      <td>KIM'S BUILDING, SUITE 102                     ...</td>\n",
       "      <td>GARAPAN</td>\n",
       "      <td>96950</td>\n",
       "      <td>6703236877</td>\n",
       "      <td>Official Health Agency</td>\n",
       "      <td>True</td>\n",
       "      <td>True</td>\n",
       "      <td>...</td>\n",
       "      <td>NaN</td>\n",
       "      <td>Fewer than 100 patients completed the survey. ...</td>\n",
       "      <td>74</td>\n",
       "      <td>Fewer than 100 patients completed the survey. ...</td>\n",
       "      <td>58</td>\n",
       "      <td>Fewer than 100 patients completed the survey. ...</td>\n",
       "      <td>35</td>\n",
       "      <td>Fewer than 100 patients completed the survey. ...</td>\n",
       "      <td>21</td>\n",
       "      <td>Fewer than 100 patients completed the survey. ...</td>\n",
       "    </tr>\n",
       "  </tbody>\n",
       "</table>\n",
       "<p>267 rows × 39 columns</p>\n",
       "</div>"
      ],
      "text/plain": [
       "     State  CMS Certification Number (CCN)*  \\\n",
       "0       AL                            17000   \n",
       "1       AL                            17008   \n",
       "2       AL                            17009   \n",
       "3       AL                            17013   \n",
       "4       AL                            17014   \n",
       "...    ...                              ...   \n",
       "9886    GU                           657004   \n",
       "9887    GU                           657005   \n",
       "9888    GU                           657006   \n",
       "9889    MP                           667001   \n",
       "9890    MP                           667002   \n",
       "\n",
       "                                          Provider Name  \\\n",
       "0     BUREAU OF HOME & COMMUNITY SERVICES           ...   \n",
       "1     JEFFERSON COUNTY HOME CARE                    ...   \n",
       "2     ALACARE HOME HEALTH & HOSPICE                 ...   \n",
       "3     GENTIVA HEALTH SERVICES                       ...   \n",
       "4     AMEDISYS HOME HEALTH                          ...   \n",
       "...                                                 ...   \n",
       "9886  HEALTH SERVICES OF THE PACIFIC - HOME CARE    ...   \n",
       "9887  FHP HOME HEALTH                               ...   \n",
       "9888  GUAM VISITING NURSES                          ...   \n",
       "9889  MHS HOME CARE                                 ...   \n",
       "9890  MARIANAS VISITING NURSES                      ...   \n",
       "\n",
       "                                                Address                  City  \\\n",
       "0     201 MONROE STREET, THE RSA TOWER,  SUITE 1200 ...  MONTGOMERY             \n",
       "1     2201 ARLINGTON AVENUE                         ...  BESSEMER               \n",
       "2     2970 LORNA ROAD                               ...  BIRMINGHAM             \n",
       "3     1239 RUCKER BLVD                              ...  ENTERPRISE             \n",
       "4     68278 MAIN STREET                             ...  BLOUNTSVILLE           \n",
       "...                                                 ...                   ...   \n",
       "9886  809 CHALAN PASAHERU, UNIT 2                   ...  BARRIGADA              \n",
       "9887  548 SOUTH MARINE CORPS DRIVE                  ...  TAMUNING               \n",
       "9888  396 CHALAN SAN ANTONIO, BRI BUILDING, SUITE 10...  TAMUNING               \n",
       "9889  SAIPAN PLAZA BUILDING, SUITE 7                ...  GARAPAN                \n",
       "9890  KIM'S BUILDING, SUITE 102                     ...  GARAPAN                \n",
       "\n",
       "        Zip       Phone       Type of Ownership  Offers Nursing Care Services  \\\n",
       "0     36104  3342065341  Official Health Agency                          True   \n",
       "1     35020  2059169500  Official Health Agency                          True   \n",
       "2     35216  2058242680                   Local                          True   \n",
       "3     36330  3343470234  Official Health Agency                          True   \n",
       "4     35031  2054294919                   Local                          True   \n",
       "...     ...         ...                     ...                           ...   \n",
       "9886  96913  6716475356                   Local                          True   \n",
       "9887  96913  6716464933                   Local                          True   \n",
       "9888  96913  6716466877                   Local                          True   \n",
       "9889  96950  6702334646  Official Health Agency                          True   \n",
       "9890  96950  6703236877  Official Health Agency                          True   \n",
       "\n",
       "      Offers Physical Therapy Services  ...  \\\n",
       "0                                 True  ...   \n",
       "1                                 True  ...   \n",
       "2                                 True  ...   \n",
       "3                                 True  ...   \n",
       "4                                 True  ...   \n",
       "...                                ...  ...   \n",
       "9886                              True  ...   \n",
       "9887                              True  ...   \n",
       "9888                             False  ...   \n",
       "9889                              True  ...   \n",
       "9890                              True  ...   \n",
       "\n",
       "      Star Rating for how patients rated overall care from agency  \\\n",
       "0                                                   NaN             \n",
       "1                                                   4.0             \n",
       "2                                                   4.0             \n",
       "3                                                   4.0             \n",
       "4                                                   4.0             \n",
       "...                                                 ...             \n",
       "9886                                                NaN             \n",
       "9887                                                NaN             \n",
       "9888                                                NaN             \n",
       "9889                                                NaN             \n",
       "9890                                                NaN             \n",
       "\n",
       "      Footnote for Star Rating for overall care from agency  \\\n",
       "0      No survey results are available for this period.       \n",
       "1     Fewer than 100 patients completed the survey. ...       \n",
       "2                                                   NaN       \n",
       "3                                                   NaN       \n",
       "4                                                   NaN       \n",
       "...                                                 ...       \n",
       "9886  Fewer than 100 patients completed the survey. ...       \n",
       "9887  Fewer than 100 patients completed the survey. ...       \n",
       "9888   No survey results are available for this period.       \n",
       "9889  Zero, or very few, patients met the surveys r...       \n",
       "9890  Fewer than 100 patients completed the survey. ...       \n",
       "\n",
       "      Percent of patients who gave their home health agency a rating of 9 or 10 on a scale from 0 (lowest) to 10 (highest)  \\\n",
       "0                                         Not Available                                                                      \n",
       "1                                                    91                                                                      \n",
       "2                                                    88                                                                      \n",
       "3                                                    91                                                                      \n",
       "4                                                    88                                                                      \n",
       "...                                                 ...                                                                      \n",
       "9886                                                 58                                                                      \n",
       "9887                                                 71                                                                      \n",
       "9888                                      Not Available                                                                      \n",
       "9889                                                 94                                                                      \n",
       "9890                                                 74                                                                      \n",
       "\n",
       "      Footnote for percent of patients who gave their home health agency a rating of 9 or 10 on a scale from 0 (lowest) to 10 (highest)  \\\n",
       "0      No survey results are available for this period.                                                                                   \n",
       "1     Fewer than 100 patients completed the survey. ...                                                                                   \n",
       "2                                                   NaN                                                                                   \n",
       "3                                                   NaN                                                                                   \n",
       "4                                                   NaN                                                                                   \n",
       "...                                                 ...                                                                                   \n",
       "9886  Fewer than 100 patients completed the survey. ...                                                                                   \n",
       "9887  Fewer than 100 patients completed the survey. ...                                                                                   \n",
       "9888   No survey results are available for this period.                                                                                   \n",
       "9889  Zero, or very few, patients met the surveys r...                                                                                   \n",
       "9890  Fewer than 100 patients completed the survey. ...                                                                                   \n",
       "\n",
       "     Percent of patients who reported YES, they would definitely recommend the home health agency to friends and family  \\\n",
       "0                                         Not Available                                                                   \n",
       "1                                                    77                                                                   \n",
       "2                                                    81                                                                   \n",
       "3                                                    91                                                                   \n",
       "4                                                    79                                                                   \n",
       "...                                                 ...                                                                   \n",
       "9886                                                 77                                                                   \n",
       "9887                                                 79                                                                   \n",
       "9888                                      Not Available                                                                   \n",
       "9889                                                100                                                                   \n",
       "9890                                                 58                                                                   \n",
       "\n",
       "      Footnote for percent of patients who reported YES, they would definitely recommend the home health agency to friends and family  \\\n",
       "0      No survey results are available for this period.                                                                                 \n",
       "1     Fewer than 100 patients completed the survey. ...                                                                                 \n",
       "2                                                   NaN                                                                                 \n",
       "3                                                   NaN                                                                                 \n",
       "4                                                   NaN                                                                                 \n",
       "...                                                 ...                                                                                 \n",
       "9886  Fewer than 100 patients completed the survey. ...                                                                                 \n",
       "9887  Fewer than 100 patients completed the survey. ...                                                                                 \n",
       "9888   No survey results are available for this period.                                                                                 \n",
       "9889  Zero, or very few, patients met the surveys r...                                                                                 \n",
       "9890  Fewer than 100 patients completed the survey. ...                                                                                 \n",
       "\n",
       "     Number of completed Surveys  \\\n",
       "0                  Not Available   \n",
       "1                             55   \n",
       "2                            327   \n",
       "3                            252   \n",
       "4                            205   \n",
       "...                          ...   \n",
       "9886                          24   \n",
       "9887                          20   \n",
       "9888               Not Available   \n",
       "9889                           9   \n",
       "9890                          35   \n",
       "\n",
       "               Footnote for number of completed surveys  Response rate  \\\n",
       "0      No survey results are available for this period.  Not Available   \n",
       "1     Fewer than 100 patients completed the survey. ...             23   \n",
       "2                                                   NaN             32   \n",
       "3                                                   NaN             34   \n",
       "4                                                   NaN             34   \n",
       "...                                                 ...            ...   \n",
       "9886  Fewer than 100 patients completed the survey. ...             15   \n",
       "9887  Fewer than 100 patients completed the survey. ...             21   \n",
       "9888   No survey results are available for this period.  Not Available   \n",
       "9889  Zero, or very few, patients met the surveys r...              8   \n",
       "9890  Fewer than 100 patients completed the survey. ...             21   \n",
       "\n",
       "                             Footnote for response rate  \n",
       "0      No survey results are available for this period.  \n",
       "1     Fewer than 100 patients completed the survey. ...  \n",
       "2                                                   NaN  \n",
       "3                                                   NaN  \n",
       "4                                                   NaN  \n",
       "...                                                 ...  \n",
       "9886  Fewer than 100 patients completed the survey. ...  \n",
       "9887  Fewer than 100 patients completed the survey. ...  \n",
       "9888   No survey results are available for this period.  \n",
       "9889  Zero, or very few, patients met the surveys r...  \n",
       "9890  Fewer than 100 patients completed the survey. ...  \n",
       "\n",
       "[267 rows x 39 columns]"
      ]
     },
     "execution_count": 12,
     "metadata": {},
     "output_type": "execute_result"
    }
   ],
   "source": [
    "States_grp.head()"
   ]
  },
  {
   "cell_type": "code",
   "execution_count": 13,
   "metadata": {
    "nbgrader": {
     "grade": false,
     "grade_id": "q04-solution",
     "locked": false,
     "schema_version": 1,
     "solution": true
    }
   },
   "outputs": [],
   "source": [
    "avg_perf= States_grp['Star Rating for health team communicated well with them'].agg('mean')"
   ]
  },
  {
   "cell_type": "code",
   "execution_count": 14,
   "metadata": {
    "nbgrader": {
     "grade": false,
     "grade_id": "q04-solution",
     "locked": false,
     "schema_version": 1,
     "solution": true
    }
   },
   "outputs": [
    {
     "data": {
      "text/plain": [
       "State\n",
       "AK    3.500000\n",
       "AL    4.507692\n",
       "AR    4.384615\n",
       "AZ    3.277108\n",
       "CA    3.104508\n",
       "CO    3.770833\n",
       "CT    3.550725\n",
       "DC    2.000000\n",
       "DE    3.846154\n",
       "FL    3.645228\n",
       "GA    3.917526\n",
       "GU         NaN\n",
       "HI    3.818182\n",
       "IA    4.204082\n",
       "ID    3.972222\n",
       "IL    3.667820\n",
       "IN    4.030075\n",
       "KS    4.166667\n",
       "KY    4.484536\n",
       "LA    4.487805\n",
       "MA    3.817308\n",
       "MD    3.695652\n",
       "ME    4.650000\n",
       "MI    3.716279\n",
       "MN    3.544554\n",
       "MO    4.300885\n",
       "MP         NaN\n",
       "MS    4.636364\n",
       "MT    4.333333\n",
       "NC    4.138158\n",
       "ND    4.250000\n",
       "NE    4.250000\n",
       "NH    4.136364\n",
       "NJ    3.833333\n",
       "NM    3.714286\n",
       "NV    3.000000\n",
       "NY    3.378641\n",
       "OH    3.666667\n",
       "OK    4.128655\n",
       "OR    3.409091\n",
       "PA    4.148325\n",
       "PR    2.846154\n",
       "RI    3.947368\n",
       "SC    4.333333\n",
       "SD    4.166667\n",
       "TN    4.372881\n",
       "TX    3.811648\n",
       "UT    3.603774\n",
       "VA    3.865772\n",
       "VI    4.000000\n",
       "VT    4.272727\n",
       "WA    3.642857\n",
       "WI    4.101449\n",
       "WV    4.647059\n",
       "WY    3.833333\n",
       "Name: Star Rating for health team communicated well with them, dtype: float64"
      ]
     },
     "execution_count": 14,
     "metadata": {},
     "output_type": "execute_result"
    }
   ],
   "source": [
    "avg_perf"
   ]
  },
  {
   "cell_type": "code",
   "execution_count": 15,
   "metadata": {
    "nbgrader": {
     "grade": false,
     "grade_id": "q04-solution",
     "locked": false,
     "schema_version": 1,
     "solution": true
    }
   },
   "outputs": [
    {
     "data": {
      "text/plain": [
       "4.65"
      ]
     },
     "execution_count": 15,
     "metadata": {},
     "output_type": "execute_result"
    }
   ],
   "source": [
    "max(avg_perf)"
   ]
  },
  {
   "cell_type": "code",
   "execution_count": 16,
   "metadata": {
    "nbgrader": {
     "grade": true,
     "grade_id": "q04-test",
     "locked": true,
     "points": 2,
     "schema_version": 1,
     "solution": false
    }
   },
   "outputs": [],
   "source": [
    "answers['40.4'] = \"ME\""
   ]
  },
  {
   "cell_type": "markdown",
   "metadata": {
    "nbgrader": {
     "grade": false,
     "grade_id": "q05-intro",
     "locked": true,
     "schema_version": 1,
     "solution": false
    }
   },
   "source": [
    "## #05 - \n",
    "\n",
    "What was the average score on `Star Rating for how patients rated overall care from agency` for providers listed as having a `Type of Ownership` of `Hospital Based Program`\n",
    "\n",
    "**NOTE: Enter your answer with two decimal precision: 0.00**"
   ]
  },
  {
   "cell_type": "code",
   "execution_count": 17,
   "metadata": {
    "nbgrader": {
     "grade": false,
     "grade_id": "q05-solution",
     "locked": false,
     "schema_version": 1,
     "solution": true
    }
   },
   "outputs": [],
   "source": [
    "# Write some code to figure it out\n",
    "filter = hhcaps['Type of Ownership'] == 'Hospital Based Program'"
   ]
  },
  {
   "cell_type": "code",
   "execution_count": 18,
   "metadata": {
    "nbgrader": {
     "grade": false,
     "grade_id": "q05-solution",
     "locked": false,
     "schema_version": 1,
     "solution": true
    }
   },
   "outputs": [],
   "source": [
    "ownership_HBP = hhcaps[filter]"
   ]
  },
  {
   "cell_type": "code",
   "execution_count": 19,
   "metadata": {
    "nbgrader": {
     "grade": false,
     "grade_id": "q05-solution",
     "locked": false,
     "schema_version": 1,
     "solution": true
    }
   },
   "outputs": [
    {
     "data": {
      "text/plain": [
       "3.6925207756232687"
      ]
     },
     "execution_count": 19,
     "metadata": {},
     "output_type": "execute_result"
    }
   ],
   "source": [
    "ownership_HBP['Star Rating for how patients rated overall care from agency'].agg('mean')"
   ]
  },
  {
   "cell_type": "code",
   "execution_count": 20,
   "metadata": {
    "nbgrader": {
     "grade": true,
     "grade_id": "q05-test",
     "locked": true,
     "points": 2,
     "schema_version": 1,
     "solution": false
    }
   },
   "outputs": [],
   "source": [
    "answers['40.5'] = \"3.69\""
   ]
  },
  {
   "cell_type": "markdown",
   "metadata": {},
   "source": [
    "---\n",
    "\n",
    "Checking Your Work\n",
    "---\n",
    "\n",
    "After completing your work above and running each cell, you can check your answers by running the code below. \n",
    "\n",
    "The easiest way to do this is to use the `Kernel` -> `Restart Kernel and Run All Cells` menu option. This option restarts Python and runs every cell from top to bottom until it encounters an exception of some kind.  It will stop after running the cell below and outputing a summary of how many answers you have correct or incorrect.\n"
   ]
  },
  {
   "cell_type": "code",
   "execution_count": 21,
   "metadata": {
    "jupyter": {
     "source_hidden": true
    }
   },
   "outputs": [
    {
     "name": "stdout",
     "output_type": "stream",
     "text": [
      "   Q#               Yours  Correct?\n",
      " 40.1                  39        OK\n",
      " 40.2                  55        OK\n",
      " 40.3                  TX        OK\n",
      " 40.4                  ME        OK\n",
      " 40.5                3.69        OK\n"
     ]
    }
   ],
   "source": [
    "import getpass\n",
    "import boto3\n",
    "import json\n",
    "\n",
    "test = {\n",
    "    \"user\": getpass.getuser(),\n",
    "    \"week\": \"week13\",\n",
    "    \"answers\": answers\n",
    "}\n",
    "\n",
    "client = boto3.client('lambda')\n",
    "\n",
    "response = client.invoke(\n",
    "    FunctionName=\"hds5210\",\n",
    "    InvocationType=\"RequestResponse\",\n",
    "    Payload=json.dumps(test))\n",
    "\n",
    "result = json.loads(response['Payload'].read().decode('utf-8'))\n",
    "# print(result)\n",
    "\n",
    "try:\n",
    "    print('{0:>5}{1:>20}{2:>10}'.format('Q#','Yours','Correct?'))\n",
    "    for row in result.get('results'):\n",
    "        print('{0:>5}{1:>20}{2:>10}'.format(str(row[0]),str(row[1]),str(row[2])))\n",
    "except:\n",
    "    print(result)"
   ]
  },
  {
   "cell_type": "markdown",
   "metadata": {},
   "source": [
    "---\n",
    "\n",
    "## Check your work above\n",
    "\n",
    "If you didn't get them all correct, take a few minutes to think through those that aren't correct.\n",
    "\n",
    "\n",
    "## Submitting Your Work\n",
    "\n",
    "In order to submit your work, you'll need to use the `git` command line program to **add** your homework file (this file) to your local repository, **commit** your changes to your local repository, and then **push** those changes up to github.com.  From there, I'll be able to **pull** the changes down and do my grading.  I'll provide some feedback, **commit** and **push** my comments back to you.  Next week, I'll show you how to **pull** down my comments.\n",
    "\n",
    "To run through everything one last time and submit your work:\n",
    "1. Use the `Kernel` -> `Restart Kernel and Run All Cells` menu option to run everything from top to bottom and stop here.\n",
    "2. Follow the instruction on the prompt below to either ssave and submit your work, or continue working.\n",
    "\n",
    "If anything fails along the way with this submission part of the process, let me know.  I'll help you troubleshoort."
   ]
  },
  {
   "cell_type": "markdown",
   "metadata": {},
   "source": [
    "---"
   ]
  },
  {
   "cell_type": "code",
   "execution_count": 23,
   "metadata": {
    "jupyter": {
     "source_hidden": true
    }
   },
   "outputs": [
    {
     "name": "stdin",
     "output_type": "stream",
     "text": [
      "\n",
      "Are you ready to submit your work?\n",
      "1. Click the Save icon (or do Ctrl-S / Cmd-S)\n",
      "2. Type \"yes\" or \"no\" below\n",
      "3. Press Enter\n",
      "\n",
      " yes\n"
     ]
    },
    {
     "name": "stdout",
     "output_type": "stream",
     "text": [
      "[main 26c19a8] Submitting the week 13 review exercises\n",
      " 1 file changed, 36 insertions(+), 6 deletions(-)\n",
      "Counting objects: 4, done.\n",
      "Delta compression using up to 2 threads.\n",
      "Compressing objects: 100% (4/4), done.\n",
      "Writing objects: 100% (4/4), 823 bytes | 823.00 KiB/s, done.\n",
      "Total 4 (delta 2), reused 0 (delta 0)\n",
      "remote: Resolving deltas: 100% (2/2), completed with 2 local objects.\u001b[K\n",
      "To github.com:msimkins7/hds5210-2022.git\n",
      "   1b0c511..26c19a8  main -> main\n"
     ]
    }
   ],
   "source": [
    "a=input('''\n",
    "Are you ready to submit your work?\n",
    "1. Click the Save icon (or do Ctrl-S / Cmd-S)\n",
    "2. Type \"yes\" or \"no\" below\n",
    "3. Press Enter\n",
    "\n",
    "''')\n",
    "\n",
    "if a=='yes':\n",
    "    !git add week13_assignment_1.ipynb\n",
    "    !git commit -a -m \"Submitting the week 13 review exercises\"\n",
    "    !git push\n",
    "else:\n",
    "    print('''\n",
    "    \n",
    "OK. We can wait.\n",
    "''')"
   ]
  },
  {
   "cell_type": "code",
   "execution_count": null,
   "metadata": {},
   "outputs": [],
   "source": []
  }
 ],
 "metadata": {
  "celltoolbar": "Create Assignment",
  "kernelspec": {
   "display_name": "Python 3",
   "language": "python",
   "name": "python3"
  },
  "language_info": {
   "codemirror_mode": {
    "name": "ipython",
    "version": 3
   },
   "file_extension": ".py",
   "mimetype": "text/x-python",
   "name": "python",
   "nbconvert_exporter": "python",
   "pygments_lexer": "ipython3",
   "version": "3.6.7"
  }
 },
 "nbformat": 4,
 "nbformat_minor": 2
}
