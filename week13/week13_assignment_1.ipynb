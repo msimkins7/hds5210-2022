{
 "cells": [
  {
   "cell_type": "markdown",
   "metadata": {
    "nbgrader": {
     "grade": false,
     "grade_id": "cell-fc1c39d0d6f8b82a",
     "locked": true,
     "schema_version": 1,
     "solution": false
    }
   },
   "source": [
    "# Week 13 Review Assignmnet\n",
    "\n",
    "For the questions below, we're going to refer exclusively to an HHCAPS survey data set that is available in `/data/hhcaps.csv`.  Use whatever commands you want to calculate the information required to get to the answer.  Then, enter your answer in the answers cell as usual.\n",
    "\n",
    "**NOTE: Enter your answers as string values (inside quotation marks \"\") even if the answer is actually numeric.**\n",
    "\n",
    "---\n",
    "---\n"
   ]
  },
  {
   "cell_type": "code",
   "execution_count": 1,
   "metadata": {
    "nbgrader": {
     "grade": false,
     "grade_id": "intro",
     "locked": true,
     "schema_version": 1,
     "solution": false
    }
   },
   "outputs": [],
   "source": [
    "%matplotlib inline\n",
    "import pandas as pd\n",
    "\n",
    "hhcaps = pd.read_csv('/data/hhcaps.csv')"
   ]
  },
  {
   "cell_type": "markdown",
   "metadata": {
    "nbgrader": {
     "grade": false,
     "grade_id": "q01-intro",
     "locked": true,
     "schema_version": 1,
     "solution": false
    }
   },
   "source": [
    "## #01 - \n",
    "\n",
    "How many columns does this file contain?"
   ]
  },
  {
   "cell_type": "code",
   "execution_count": 2,
   "metadata": {},
   "outputs": [
    {
     "data": {
      "text/plain": [
       "Index(['State', 'CMS Certification Number (CCN)*', 'Provider Name', 'Address',\n",
       "       'City', 'Zip', 'Phone', 'Type of Ownership',\n",
       "       'Offers Nursing Care Services', 'Offers Physical Therapy Services',\n",
       "       'Offers Occupational Therapy Services',\n",
       "       'Offers Speech Pathology Services', 'Offers Medical Social Services',\n",
       "       'Offers Home Health Aide Services', 'Date Certified',\n",
       "       'HHCAHPS Survey Summary Star Rating',\n",
       "       'Footnote HHCAHPS Survey Summary Star Rating',\n",
       "       'Star Rating for health team gave care in a professional way',\n",
       "       'Footnote for Star Rating for gave care in a professional way',\n",
       "       'Percent of patients who reported that their home health team gave care in a professional way',\n",
       "       'Footnote for percent of patients who reported that their home health team gave care in a professional way',\n",
       "       'Star Rating for health team communicated well with them',\n",
       "       'Footnote for Star Rating for communicated well with them',\n",
       "       'Percent of patients who reported that their home health team communicated well with them',\n",
       "       'Footnote for percent of patients who reported that their home health team communicated well with them',\n",
       "       'Star Rating team discussed medicines, pain, and home safety',\n",
       "       'Footnote Star Rating discussed medicines, pain, home safety',\n",
       "       'Percent of patients who reported that their home health team discussed medicines, pain, and home safety with them',\n",
       "       'Footnote for percent of patients who reported that their home health team discussed medicines, pain, and home safety with them',\n",
       "       'Star Rating for how patients rated overall care from agency',\n",
       "       'Footnote for Star Rating for overall care from agency',\n",
       "       'Percent of patients who gave their home health agency a rating of 9 or 10 on a scale from 0 (lowest) to 10 (highest)',\n",
       "       'Footnote for percent of patients who gave their home health agency a rating of 9 or 10 on a scale from 0 (lowest) to 10 (highest)',\n",
       "       'Percent of patients who reported YES, they would definitely recommend the home health agency to friends and family',\n",
       "       'Footnote for percent of patients who reported YES, they would definitely recommend the home health agency to friends and family',\n",
       "       'Number of completed Surveys',\n",
       "       'Footnote for number of completed surveys', 'Response rate',\n",
       "       'Footnote for response rate'],\n",
       "      dtype='object')"
      ]
     },
     "execution_count": 2,
     "metadata": {},
     "output_type": "execute_result"
    }
   ],
   "source": [
    "# Write some code to figure it out\n",
    "hhcaps.columns"
   ]
  },
  {
   "cell_type": "code",
   "execution_count": 3,
   "metadata": {},
   "outputs": [],
   "source": [
    "column_count = len(hhcaps.columns)"
   ]
  },
  {
   "cell_type": "code",
   "execution_count": 4,
   "metadata": {},
   "outputs": [
    {
     "data": {
      "text/plain": [
       "39"
      ]
     },
     "execution_count": 4,
     "metadata": {},
     "output_type": "execute_result"
    }
   ],
   "source": [
    "column_count"
   ]
  },
  {
   "cell_type": "code",
   "execution_count": 5,
   "metadata": {
    "nbgrader": {
     "grade": false,
     "grade_id": "q01-solution",
     "locked": false,
     "schema_version": 1,
     "solution": true
    }
   },
   "outputs": [],
   "source": [
    "answers={}\n",
    "answers['40.1'] = \"column_count\""
   ]
  },
  {
   "cell_type": "markdown",
   "metadata": {
    "nbgrader": {
     "grade": false,
     "grade_id": "q02-intro",
     "locked": true,
     "schema_version": 1,
     "solution": false
    }
   },
   "source": [
    "## #02 - \n",
    "\n",
    "How many different values for State are there in this file?"
   ]
  },
  {
   "cell_type": "code",
   "execution_count": 6,
   "metadata": {},
   "outputs": [],
   "source": [
    "# Write some code to figure it out\n",
    "States = hhcaps.groupby('State')['Zip'].count()"
   ]
  },
  {
   "cell_type": "code",
   "execution_count": 7,
   "metadata": {},
   "outputs": [
    {
     "data": {
      "text/plain": [
       "55"
      ]
     },
     "execution_count": 7,
     "metadata": {},
     "output_type": "execute_result"
    }
   ],
   "source": [
    "len(States)"
   ]
  },
  {
   "cell_type": "code",
   "execution_count": 8,
   "metadata": {
    "nbgrader": {
     "grade": false,
     "grade_id": "q02-solution",
     "locked": false,
     "schema_version": 1,
     "solution": true
    }
   },
   "outputs": [],
   "source": [
    "answers['40.2'] = \"55\""
   ]
  },
  {
   "cell_type": "markdown",
   "metadata": {
    "nbgrader": {
     "grade": false,
     "grade_id": "q03-intro",
     "locked": true,
     "schema_version": 1,
     "solution": false
    }
   },
   "source": [
    "## #03 - \n",
    "\n",
    "Which of those State values has the highest frequency of occurence?"
   ]
  },
  {
   "cell_type": "code",
   "execution_count": 9,
   "metadata": {
    "nbgrader": {
     "grade": false,
     "grade_id": "q03-solution",
     "locked": false,
     "schema_version": 1,
     "solution": true
    }
   },
   "outputs": [
    {
     "data": {
      "text/plain": [
       "TX    2518\n",
       "CA    1319\n",
       "FL    1069\n",
       "OH     781\n",
       "IL     735\n",
       "MI     597\n",
       "PA     425\n",
       "MA     261\n",
       "OK     256\n",
       "VA     244\n",
       "IN     229\n",
       "MN     197\n",
       "LA     195\n",
       "CO     187\n",
       "NC     174\n",
       "AR     172\n",
       "AZ     169\n",
       "MO     169\n",
       "IA     163\n",
       "AL     152\n",
       "NV     143\n",
       "NY     141\n",
       "TN     140\n",
       "WI     119\n",
       "KS     117\n",
       "GA     106\n",
       "KY     104\n",
       "UT      98\n",
       "CT      91\n",
       "NM      77\n",
       "NE      75\n",
       "SC      70\n",
       "WA      63\n",
       "WV      61\n",
       "OR      57\n",
       "MD      53\n",
       "MS      48\n",
       "NJ      47\n",
       "ID      45\n",
       "PR      45\n",
       "SD      33\n",
       "NH      31\n",
       "DC      28\n",
       "RI      27\n",
       "MT      27\n",
       "DE      26\n",
       "WY      26\n",
       "ME      24\n",
       "ND      18\n",
       "HI      16\n",
       "AK      14\n",
       "VT      11\n",
       "GU       4\n",
       "MP       2\n",
       "VI       1\n",
       "Name: State, dtype: int64"
      ]
     },
     "execution_count": 9,
     "metadata": {},
     "output_type": "execute_result"
    }
   ],
   "source": [
    "# Write some code to figure it out\n",
    "hhcaps['State'].value_counts()"
   ]
  },
  {
   "cell_type": "code",
   "execution_count": 10,
   "metadata": {
    "nbgrader": {
     "grade": true,
     "grade_id": "q03-test",
     "locked": true,
     "points": 2,
     "schema_version": 1,
     "solution": false
    }
   },
   "outputs": [
    {
     "ename": "SyntaxError",
     "evalue": "EOL while scanning string literal (<ipython-input-10-ebca8495cb5f>, line 1)",
     "output_type": "error",
     "traceback": [
      "\u001b[0;36m  File \u001b[0;32m\"<ipython-input-10-ebca8495cb5f>\"\u001b[0;36m, line \u001b[0;32m1\u001b[0m\n\u001b[0;31m    answers['40.3'] = \"TX\"\"\u001b[0m\n\u001b[0m                           ^\u001b[0m\n\u001b[0;31mSyntaxError\u001b[0m\u001b[0;31m:\u001b[0m EOL while scanning string literal\n"
     ]
    }
   ],
   "source": [
    "answers['40.3'] = \"TX\"\""
   ]
  },
  {
   "cell_type": "markdown",
   "metadata": {
    "nbgrader": {
     "grade": false,
     "grade_id": "q04-intro",
     "locked": true,
     "schema_version": 1,
     "solution": false
    }
   },
   "source": [
    "## #04 - \n",
    "\n",
    "Which of those State values has the best average performance on the `Star Rating for health team communicated well with them` score?"
   ]
  },
  {
   "cell_type": "code",
   "execution_count": null,
   "metadata": {
    "nbgrader": {
     "grade": false,
     "grade_id": "q04-solution",
     "locked": false,
     "schema_version": 1,
     "solution": true
    }
   },
   "outputs": [],
   "source": [
    "# Write some code to figure it out\n",
    "States_grp = hhcaps.groupby('State')"
   ]
  },
  {
   "cell_type": "code",
   "execution_count": null,
   "metadata": {
    "nbgrader": {
     "grade": false,
     "grade_id": "q04-solution",
     "locked": false,
     "schema_version": 1,
     "solution": true
    }
   },
   "outputs": [],
   "source": [
    "States_grp.head()"
   ]
  },
  {
   "cell_type": "code",
   "execution_count": null,
   "metadata": {
    "nbgrader": {
     "grade": false,
     "grade_id": "q04-solution",
     "locked": false,
     "schema_version": 1,
     "solution": true
    }
   },
   "outputs": [],
   "source": [
    "avg_perf= States_grp['Star Rating for health team communicated well with them'].agg('mean')"
   ]
  },
  {
   "cell_type": "code",
   "execution_count": null,
   "metadata": {
    "nbgrader": {
     "grade": false,
     "grade_id": "q04-solution",
     "locked": false,
     "schema_version": 1,
     "solution": true
    }
   },
   "outputs": [],
   "source": [
    "avg_perf"
   ]
  },
  {
   "cell_type": "code",
   "execution_count": null,
   "metadata": {
    "nbgrader": {
     "grade": false,
     "grade_id": "q04-solution",
     "locked": false,
     "schema_version": 1,
     "solution": true
    }
   },
   "outputs": [],
   "source": [
    "max(avg_perf)"
   ]
  },
  {
   "cell_type": "code",
   "execution_count": null,
   "metadata": {
    "nbgrader": {
     "grade": true,
     "grade_id": "q04-test",
     "locked": true,
     "points": 2,
     "schema_version": 1,
     "solution": false
    }
   },
   "outputs": [],
   "source": [
    "answers['40.4'] = \"ME\""
   ]
  },
  {
   "cell_type": "markdown",
   "metadata": {
    "nbgrader": {
     "grade": false,
     "grade_id": "q05-intro",
     "locked": true,
     "schema_version": 1,
     "solution": false
    }
   },
   "source": [
    "## #05 - \n",
    "\n",
    "What was the average score on `Star Rating for how patients rated overall care from agency` for providers listed as having a `Type of Ownership` of `Hospital Based Program`\n",
    "\n",
    "**NOTE: Enter your answer with two decimal precision: 0.00**"
   ]
  },
  {
   "cell_type": "code",
   "execution_count": null,
   "metadata": {
    "nbgrader": {
     "grade": false,
     "grade_id": "q05-solution",
     "locked": false,
     "schema_version": 1,
     "solution": true
    }
   },
   "outputs": [],
   "source": [
    "# Write some code to figure it out\n",
    "filter = hhcaps['Type of Ownership'] == 'Hospital Based Program'"
   ]
  },
  {
   "cell_type": "code",
   "execution_count": null,
   "metadata": {
    "nbgrader": {
     "grade": false,
     "grade_id": "q05-solution",
     "locked": false,
     "schema_version": 1,
     "solution": true
    }
   },
   "outputs": [],
   "source": [
    "ownership_HBP = hhcaps[filter]"
   ]
  },
  {
   "cell_type": "code",
   "execution_count": null,
   "metadata": {
    "nbgrader": {
     "grade": false,
     "grade_id": "q05-solution",
     "locked": false,
     "schema_version": 1,
     "solution": true
    }
   },
   "outputs": [],
   "source": [
    "ownership_HBP['Star Rating for how patients rated overall care from agency'].agg('mean')"
   ]
  },
  {
   "cell_type": "code",
   "execution_count": null,
   "metadata": {
    "nbgrader": {
     "grade": true,
     "grade_id": "q05-test",
     "locked": true,
     "points": 2,
     "schema_version": 1,
     "solution": false
    }
   },
   "outputs": [],
   "source": [
    "answers['40.5'] = \"3.69\""
   ]
  },
  {
   "cell_type": "markdown",
   "metadata": {},
   "source": [
    "---\n",
    "\n",
    "Checking Your Work\n",
    "---\n",
    "\n",
    "After completing your work above and running each cell, you can check your answers by running the code below. \n",
    "\n",
    "The easiest way to do this is to use the `Kernel` -> `Restart Kernel and Run All Cells` menu option. This option restarts Python and runs every cell from top to bottom until it encounters an exception of some kind.  It will stop after running the cell below and outputing a summary of how many answers you have correct or incorrect.\n"
   ]
  },
  {
   "cell_type": "code",
   "execution_count": null,
   "metadata": {
    "jupyter": {
     "source_hidden": true
    }
   },
   "outputs": [],
   "source": [
    "import getpass\n",
    "import boto3\n",
    "import json\n",
    "\n",
    "test = {\n",
    "    \"user\": getpass.getuser(),\n",
    "    \"week\": \"week13\",\n",
    "    \"answers\": answers\n",
    "}\n",
    "\n",
    "client = boto3.client('lambda')\n",
    "\n",
    "response = client.invoke(\n",
    "    FunctionName=\"hds5210\",\n",
    "    InvocationType=\"RequestResponse\",\n",
    "    Payload=json.dumps(test))\n",
    "\n",
    "result = json.loads(response['Payload'].read().decode('utf-8'))\n",
    "# print(result)\n",
    "\n",
    "try:\n",
    "    print('{0:>5}{1:>20}{2:>10}'.format('Q#','Yours','Correct?'))\n",
    "    for row in result.get('results'):\n",
    "        print('{0:>5}{1:>20}{2:>10}'.format(str(row[0]),str(row[1]),str(row[2])))\n",
    "except:\n",
    "    print(result)"
   ]
  },
  {
   "cell_type": "markdown",
   "metadata": {},
   "source": [
    "---\n",
    "\n",
    "## Check your work above\n",
    "\n",
    "If you didn't get them all correct, take a few minutes to think through those that aren't correct.\n",
    "\n",
    "\n",
    "## Submitting Your Work\n",
    "\n",
    "In order to submit your work, you'll need to use the `git` command line program to **add** your homework file (this file) to your local repository, **commit** your changes to your local repository, and then **push** those changes up to github.com.  From there, I'll be able to **pull** the changes down and do my grading.  I'll provide some feedback, **commit** and **push** my comments back to you.  Next week, I'll show you how to **pull** down my comments.\n",
    "\n",
    "To run through everything one last time and submit your work:\n",
    "1. Use the `Kernel` -> `Restart Kernel and Run All Cells` menu option to run everything from top to bottom and stop here.\n",
    "2. Follow the instruction on the prompt below to either ssave and submit your work, or continue working.\n",
    "\n",
    "If anything fails along the way with this submission part of the process, let me know.  I'll help you troubleshoort."
   ]
  },
  {
   "cell_type": "markdown",
   "metadata": {},
   "source": [
    "---"
   ]
  },
  {
   "cell_type": "code",
   "execution_count": null,
   "metadata": {
    "jupyter": {
     "source_hidden": true
    }
   },
   "outputs": [],
   "source": [
    "a=input('''\n",
    "Are you ready to submit your work?\n",
    "1. Click the Save icon (or do Ctrl-S / Cmd-S)\n",
    "2. Type \"yes\" or \"no\" below\n",
    "3. Press Enter\n",
    "\n",
    "''')\n",
    "\n",
    "if a=='yes':\n",
    "    !git add week13_assignment_1.ipynb\n",
    "    !git commit -a -m \"Submitting the week 13 review exercises\"\n",
    "    !git push\n",
    "else:\n",
    "    print('''\n",
    "    \n",
    "OK. We can wait.\n",
    "''')"
   ]
  },
  {
   "cell_type": "code",
   "execution_count": null,
   "metadata": {},
   "outputs": [],
   "source": []
  }
 ],
 "metadata": {
  "celltoolbar": "Create Assignment",
  "kernelspec": {
   "display_name": "Python 3",
   "language": "python",
   "name": "python3"
  },
  "language_info": {
   "codemirror_mode": {
    "name": "ipython",
    "version": 3
   },
   "file_extension": ".py",
   "mimetype": "text/x-python",
   "name": "python",
   "nbconvert_exporter": "python",
   "pygments_lexer": "ipython3",
   "version": "3.6.7"
  }
 },
 "nbformat": 4,
 "nbformat_minor": 2
}
