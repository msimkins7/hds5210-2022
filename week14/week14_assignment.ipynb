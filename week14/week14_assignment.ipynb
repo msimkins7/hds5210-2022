{
 "cells": [
  {
   "cell_type": "markdown",
   "metadata": {
    "nbgrader": {
     "grade": false,
     "grade_id": "intro",
     "locked": true,
     "schema_version": 1,
     "solution": false
    }
   },
   "source": [
    "# Working with multiple data sets\n",
    "\n",
    "There are two data files that we'll be working with for this week's assignment.  They are described below.  Load those data files in with Pandas and then work to answering each of the questions below.\n",
    "\n",
    "## npidata.csv\n",
    "\n",
    "This file is basic information about every healthcare provider in the US.  It has one row for each NPI (National Provider Identifier).  It contains information such as the provider's name and address.\n",
    "\n",
    "\n",
    "## cmsYYYY.csv\n",
    "\n",
    "These are files about what kinds of procedures and patients providers in the US are serving under CMS programs, Medicare and Medicaid.  Each contains various statistics about providers over the course of a year.  There are three of these, for the years 2014, 2015, and 2016.  These files, however, don't contain information about the provider such as where the provider is located.\n",
    "\n",
    "## Our Goals\n",
    "\n",
    "For this assignment, we're going to want to compute some statistics based on the data in the **cms** files, but aggregate that data based on information in the **npidata** file.  As in last week's assignment, you'll need to store your answers in a variable called `answer` at the end of each step."
   ]
  },
  {
   "cell_type": "code",
   "execution_count": 118,
   "metadata": {
    "nbgrader": {
     "grade": false,
     "grade_id": "import",
     "locked": true,
     "schema_version": 1,
     "solution": false
    }
   },
   "outputs": [],
   "source": [
    "import pandas as pd"
   ]
  },
  {
   "cell_type": "code",
   "execution_count": 119,
   "metadata": {
    "nbgrader": {
     "grade": false,
     "grade_id": "import",
     "locked": true,
     "schema_version": 1,
     "solution": false
    }
   },
   "outputs": [
    {
     "name": "stderr",
     "output_type": "stream",
     "text": [
      "/opt/tljh/user/lib/python3.6/site-packages/IPython/core/interactiveshell.py:3051: DtypeWarning: Columns (18,33) have mixed types.Specify dtype option on import or set low_memory=False.\n",
      "  interactivity=interactivity, compiler=compiler, result=result)\n"
     ]
    }
   ],
   "source": [
    "cms_14 = pd.read_csv('/data/cms2014.csv')\n",
    "cms_15 = pd.read_csv('/data/cms2015.csv')\n",
    "cms_16 = pd.read_csv('/data/cms2016.csv')\n",
    "npidata = pd.read_csv('/data/npidata.csv')"
   ]
  },
  {
   "cell_type": "code",
   "execution_count": 120,
   "metadata": {
    "nbgrader": {
     "grade": false,
     "grade_id": "import",
     "locked": true,
     "schema_version": 1,
     "solution": false
    }
   },
   "outputs": [
    {
     "data": {
      "text/plain": [
       "Index(['nbr', 'npi', 'provider_type', 'medicare_participation_indicator',\n",
       "       'number_of_hcpcs', 'total_services', 'total_unique_benes',\n",
       "       'total_submitted_chrg_amt', 'total_medicare_allowed_amt',\n",
       "       'total_medicare_payment_amt', 'total_medicare_stnd_amt',\n",
       "       'drug_suppress_indicator', 'number_of_drug_hcpcs',\n",
       "       'total_drug_services', 'total_drug_unique_benes',\n",
       "       'total_drug_submitted_chrg_amt', 'total_drug_medicare_allowed_amt',\n",
       "       'total_drug_medicare_payment_amt', 'total_drug_medicare_stnd_amt',\n",
       "       'med_suppress_indicator', 'number_of_med_hcpcs', 'total_med_services',\n",
       "       'total_med_unique_benes', 'total_med_submitted_chrg_amt',\n",
       "       'total_med_medicare_allowed_amt', 'total_med_medicare_payment_amt',\n",
       "       'total_med_medicare_stnd_amt', 'beneficiary_average_age',\n",
       "       'beneficiary_age_less_65_count', 'beneficiary_age_65_74_count',\n",
       "       'beneficiary_age_75_84_count', 'beneficiary_age_greater_84_count',\n",
       "       'beneficiary_female_count', 'beneficiary_male_count',\n",
       "       'beneficiary_race_white_count', 'beneficiary_race_black_count',\n",
       "       'beneficiary_race_api_count', 'beneficiary_race_hispanic_count',\n",
       "       'beneficiary_race_natind_count', 'beneficiary_race_other_count',\n",
       "       'beneficiary_nondual_count', 'beneficiary_dual_count',\n",
       "       'beneficiary_cc_afib_percent', 'beneficiary_cc_alzrdsd_percent',\n",
       "       'beneficiary_cc_asthma_percent', 'beneficiary_cc_cancer_percent',\n",
       "       'beneficiary_cc_chf_percent', 'beneficiary_cc_ckd_percent',\n",
       "       'beneficiary_cc_copd_percent', 'beneficiary_cc_depr_percent',\n",
       "       'beneficiary_cc_diab_percent', 'beneficiary_cc_hyperl_percent',\n",
       "       'beneficiary_cc_hypert_percent', 'beneficiary_cc_ihd_percent',\n",
       "       'beneficiary_cc_ost_percent', 'beneficiary_cc_raoa_percent',\n",
       "       'beneficiary_cc_schiot_percent', 'beneficiary_cc_strk_percent',\n",
       "       'Beneficiary_Average_Risk_Score'],\n",
       "      dtype='object')"
      ]
     },
     "execution_count": 120,
     "metadata": {},
     "output_type": "execute_result"
    }
   ],
   "source": [
    "cms_14.columns"
   ]
  },
  {
   "cell_type": "code",
   "execution_count": 121,
   "metadata": {
    "nbgrader": {
     "grade": false,
     "grade_id": "import",
     "locked": true,
     "schema_version": 1,
     "solution": false
    }
   },
   "outputs": [],
   "source": [
    "#need to make all columns in cms_14 lowercase\n",
    "cms_14.columns=cms_14.columns.str.lower()"
   ]
  },
  {
   "cell_type": "code",
   "execution_count": 122,
   "metadata": {
    "nbgrader": {
     "grade": false,
     "grade_id": "import",
     "locked": true,
     "schema_version": 1,
     "solution": false
    }
   },
   "outputs": [
    {
     "data": {
      "text/plain": [
       "Index(['nbr', 'npi', 'provider_type', 'medicare_participation_indicator',\n",
       "       'number_of_hcpcs', 'total_services', 'total_unique_benes',\n",
       "       'total_submitted_chrg_amt', 'total_medicare_allowed_amt',\n",
       "       'total_medicare_payment_amt', 'total_medicare_stnd_amt',\n",
       "       'drug_suppress_indicator', 'number_of_drug_hcpcs',\n",
       "       'total_drug_services', 'total_drug_unique_benes',\n",
       "       'total_drug_submitted_chrg_amt', 'total_drug_medicare_allowed_amt',\n",
       "       'total_drug_medicare_payment_amt', 'total_drug_medicare_stnd_amt',\n",
       "       'med_suppress_indicator', 'number_of_med_hcpcs', 'total_med_services',\n",
       "       'total_med_unique_benes', 'total_med_submitted_chrg_amt',\n",
       "       'total_med_medicare_allowed_amt', 'total_med_medicare_payment_amt',\n",
       "       'total_med_medicare_stnd_amt', 'beneficiary_average_age',\n",
       "       'beneficiary_age_less_65_count', 'beneficiary_age_65_74_count',\n",
       "       'beneficiary_age_75_84_count', 'beneficiary_age_greater_84_count',\n",
       "       'beneficiary_female_count', 'beneficiary_male_count',\n",
       "       'beneficiary_race_white_count', 'beneficiary_race_black_count',\n",
       "       'beneficiary_race_api_count', 'beneficiary_race_hispanic_count',\n",
       "       'beneficiary_race_natind_count', 'beneficiary_race_other_count',\n",
       "       'beneficiary_nondual_count', 'beneficiary_dual_count',\n",
       "       'beneficiary_cc_afib_percent', 'beneficiary_cc_alzrdsd_percent',\n",
       "       'beneficiary_cc_asthma_percent', 'beneficiary_cc_cancer_percent',\n",
       "       'beneficiary_cc_chf_percent', 'beneficiary_cc_ckd_percent',\n",
       "       'beneficiary_cc_copd_percent', 'beneficiary_cc_depr_percent',\n",
       "       'beneficiary_cc_diab_percent', 'beneficiary_cc_hyperl_percent',\n",
       "       'beneficiary_cc_hypert_percent', 'beneficiary_cc_ihd_percent',\n",
       "       'beneficiary_cc_ost_percent', 'beneficiary_cc_raoa_percent',\n",
       "       'beneficiary_cc_schiot_percent', 'beneficiary_cc_strk_percent',\n",
       "       'Beneficiary_Average_Risk_Score'],\n",
       "      dtype='object')"
      ]
     },
     "execution_count": 122,
     "metadata": {},
     "output_type": "execute_result"
    }
   ],
   "source": [
    "cms_15.columns"
   ]
  },
  {
   "cell_type": "code",
   "execution_count": 123,
   "metadata": {
    "nbgrader": {
     "grade": false,
     "grade_id": "import",
     "locked": true,
     "schema_version": 1,
     "solution": false
    }
   },
   "outputs": [],
   "source": [
    "#need to make all columns in cms_15 lowercase\n",
    "cms_15.columns=cms_15.columns.str.lower()"
   ]
  },
  {
   "cell_type": "code",
   "execution_count": 124,
   "metadata": {
    "nbgrader": {
     "grade": false,
     "grade_id": "import",
     "locked": true,
     "schema_version": 1,
     "solution": false
    }
   },
   "outputs": [
    {
     "data": {
      "text/plain": [
       "Index(['nbr', 'NPI', 'PROVIDER_TYPE', 'MEDICARE_PARTICIPATION_INDICATOR',\n",
       "       'NUMBER_OF_HCPCS', 'TOTAL_SERVICES', 'TOTAL_UNIQUE_BENES',\n",
       "       'TOTAL_SUBMITTED_CHRG_AMT', 'TOTAL_MEDICARE_ALLOWED_AMT',\n",
       "       'TOTAL_MEDICARE_PAYMENT_AMT', 'TOTAL_MEDICARE_STND_AMT',\n",
       "       'DRUG_SUPPRESS_INDICATOR', 'NUMBER_OF_DRUG_HCPCS',\n",
       "       'TOTAL_DRUG_SERVICES', 'TOTAL_DRUG_UNIQUE_BENES',\n",
       "       'TOTAL_DRUG_SUBMITTED_CHRG_AMT', 'TOTAL_DRUG_MEDICARE_ALLOWED_AMT',\n",
       "       'TOTAL_DRUG_MEDICARE_PAYMENT_AMT', 'TOTAL_DRUG_MEDICARE_STND_AMT',\n",
       "       'MED_SUPPRESS_INDICATOR', 'NUMBER_OF_MED_HCPCS', 'TOTAL_MED_SERVICES',\n",
       "       'TOTAL_MED_UNIQUE_BENES', 'TOTAL_MED_SUBMITTED_CHRG_AMT',\n",
       "       'TOTAL_MED_MEDICARE_ALLOWED_AMT', 'TOTAL_MED_MEDICARE_PAYMENT_AMT',\n",
       "       'TOTAL_MED_MEDICARE_STND_AMT', 'BENEFICIARY_AVERAGE_AGE',\n",
       "       'BENEFICIARY_AGE_LESS_65_COUNT', 'BENEFICIARY_AGE_65_74_COUNT',\n",
       "       'BENEFICIARY_AGE_75_84_COUNT', 'BENEFICIARY_AGE_GREATER_84_COUNT',\n",
       "       'BENEFICIARY_FEMALE_COUNT', 'BENEFICIARY_MALE_COUNT',\n",
       "       'BENEFICIARY_RACE_WHITE_COUNT', 'BENEFICIARY_RACE_BLACK_COUNT',\n",
       "       'BENEFICIARY_RACE_API_COUNT', 'BENEFICIARY_RACE_HISPANIC_COUNT',\n",
       "       'BENEFICIARY_RACE_NATIND_COUNT', 'BENEFICIARY_RACE_OTHER_COUNT',\n",
       "       'BENEFICIARY_NONDUAL_COUNT', 'BENEFICIARY_DUAL_COUNT',\n",
       "       'BENEFICIARY_CC_AFIB_PERCENT', 'BENEFICIARY_CC_ALZRDSD_PERCENT',\n",
       "       'BENEFICIARY_CC_ASTHMA_PERCENT', 'BENEFICIARY_CC_CANCER_PERCENT',\n",
       "       'BENEFICIARY_CC_CHF_PERCENT', 'BENEFICIARY_CC_CKD_PERCENT',\n",
       "       'BENEFICIARY_CC_COPD_PERCENT', 'BENEFICIARY_CC_DEPR_PERCENT',\n",
       "       'BENEFICIARY_CC_DIAB_PERCENT', 'BENEFICIARY_CC_HYPERL_PERCENT',\n",
       "       'BENEFICIARY_CC_HYPERT_PERCENT', 'BENEFICIARY_CC_IHD_PERCENT',\n",
       "       'BENEFICIARY_CC_OST_PERCENT', 'BENEFICIARY_CC_RAOA_PERCENT',\n",
       "       'BENEFICIARY_CC_SCHIOT_PERCENT', 'BENEFICIARY_CC_STRK_PERCENT',\n",
       "       'BENEFICIARY_AVERAGE_RISK_SCORE'],\n",
       "      dtype='object')"
      ]
     },
     "execution_count": 124,
     "metadata": {},
     "output_type": "execute_result"
    }
   ],
   "source": [
    "cms_16.columns"
   ]
  },
  {
   "cell_type": "code",
   "execution_count": 125,
   "metadata": {
    "nbgrader": {
     "grade": false,
     "grade_id": "import",
     "locked": true,
     "schema_version": 1,
     "solution": false
    }
   },
   "outputs": [],
   "source": [
    "#need to make all columns in cms_16 lowercase\n",
    "cms_16.columns=cms_16.columns.str.lower()"
   ]
  },
  {
   "cell_type": "markdown",
   "metadata": {
    "nbgrader": {
     "grade": false,
     "grade_id": "01-intro",
     "locked": true,
     "schema_version": 1,
     "solution": false
    }
   },
   "source": [
    "## Part 1\n",
    "\n",
    "In this first step, we'll need to merge together all of the **cms** files into a single dataframe.  Be careful that these files might not be identical, so you'll have to look a little bit to figure out how to merge them.\n",
    "\n",
    "As you are merging them, make sure that you retain information about which file (i.e. which year) the data came from.  Call that new columns `year`.\n",
    "\n",
    "In your `answer` variable, provide a complete data frame that contains all of the rows and columns from the **cms** files, plus an additional column to store the year/file that particular row came from.\n",
    "\n",
    "The assertion tests will give you a good idea as to if you're merging the files correctly."
   ]
  },
  {
   "cell_type": "code",
   "execution_count": 126,
   "metadata": {
    "nbgrader": {
     "grade": false,
     "grade_id": "01-solution",
     "locked": false,
     "schema_version": 1,
     "solution": true
    }
   },
   "outputs": [],
   "source": [
    "### SOLUTION\n",
    "answer = pd.concat([cms_14,cms_15,cms_16], keys = [2014,2015,2016])"
   ]
  },
  {
   "cell_type": "code",
   "execution_count": 127,
   "metadata": {
    "nbgrader": {
     "grade": false,
     "grade_id": "01-solution",
     "locked": false,
     "schema_version": 1,
     "solution": true
    }
   },
   "outputs": [
    {
     "data": {
      "text/html": [
       "<div>\n",
       "<style scoped>\n",
       "    .dataframe tbody tr th:only-of-type {\n",
       "        vertical-align: middle;\n",
       "    }\n",
       "\n",
       "    .dataframe tbody tr th {\n",
       "        vertical-align: top;\n",
       "    }\n",
       "\n",
       "    .dataframe thead th {\n",
       "        text-align: right;\n",
       "    }\n",
       "</style>\n",
       "<table border=\"1\" class=\"dataframe\">\n",
       "  <thead>\n",
       "    <tr style=\"text-align: right;\">\n",
       "      <th></th>\n",
       "      <th></th>\n",
       "      <th>nbr</th>\n",
       "      <th>npi</th>\n",
       "      <th>provider_type</th>\n",
       "      <th>medicare_participation_indicator</th>\n",
       "      <th>number_of_hcpcs</th>\n",
       "      <th>total_services</th>\n",
       "      <th>total_unique_benes</th>\n",
       "      <th>total_submitted_chrg_amt</th>\n",
       "      <th>total_medicare_allowed_amt</th>\n",
       "      <th>total_medicare_payment_amt</th>\n",
       "      <th>...</th>\n",
       "      <th>beneficiary_cc_depr_percent</th>\n",
       "      <th>beneficiary_cc_diab_percent</th>\n",
       "      <th>beneficiary_cc_hyperl_percent</th>\n",
       "      <th>beneficiary_cc_hypert_percent</th>\n",
       "      <th>beneficiary_cc_ihd_percent</th>\n",
       "      <th>beneficiary_cc_ost_percent</th>\n",
       "      <th>beneficiary_cc_raoa_percent</th>\n",
       "      <th>beneficiary_cc_schiot_percent</th>\n",
       "      <th>beneficiary_cc_strk_percent</th>\n",
       "      <th>beneficiary_average_risk_score</th>\n",
       "    </tr>\n",
       "  </thead>\n",
       "  <tbody>\n",
       "    <tr>\n",
       "      <th rowspan=\"5\" valign=\"top\">2014</th>\n",
       "      <th>0</th>\n",
       "      <td>1</td>\n",
       "      <td>1003000134</td>\n",
       "      <td>Pathology</td>\n",
       "      <td>Y</td>\n",
       "      <td>13</td>\n",
       "      <td>8643.0</td>\n",
       "      <td>4276</td>\n",
       "      <td>1357139.00</td>\n",
       "      <td>321641.88</td>\n",
       "      <td>245364.34</td>\n",
       "      <td>...</td>\n",
       "      <td>12.0</td>\n",
       "      <td>20.0</td>\n",
       "      <td>53.0</td>\n",
       "      <td>57.0</td>\n",
       "      <td>28.0</td>\n",
       "      <td>9.0</td>\n",
       "      <td>37.0</td>\n",
       "      <td>1.0</td>\n",
       "      <td>3.0</td>\n",
       "      <td>1.0007</td>\n",
       "    </tr>\n",
       "    <tr>\n",
       "      <th>1</th>\n",
       "      <td>19</td>\n",
       "      <td>1003001249</td>\n",
       "      <td>Physical Therapist</td>\n",
       "      <td>Y</td>\n",
       "      <td>4</td>\n",
       "      <td>1221.0</td>\n",
       "      <td>69</td>\n",
       "      <td>88686.28</td>\n",
       "      <td>34060.09</td>\n",
       "      <td>26055.17</td>\n",
       "      <td>...</td>\n",
       "      <td>NaN</td>\n",
       "      <td>39.0</td>\n",
       "      <td>64.0</td>\n",
       "      <td>75.0</td>\n",
       "      <td>32.0</td>\n",
       "      <td>NaN</td>\n",
       "      <td>68.0</td>\n",
       "      <td>NaN</td>\n",
       "      <td>NaN</td>\n",
       "      <td>1.1912</td>\n",
       "    </tr>\n",
       "    <tr>\n",
       "      <th>2</th>\n",
       "      <td>21</td>\n",
       "      <td>1003001322</td>\n",
       "      <td>Mass Immunization Roster Biller</td>\n",
       "      <td>Y</td>\n",
       "      <td>7</td>\n",
       "      <td>788.0</td>\n",
       "      <td>370</td>\n",
       "      <td>21640.24</td>\n",
       "      <td>21634.91</td>\n",
       "      <td>21199.22</td>\n",
       "      <td>...</td>\n",
       "      <td>13.0</td>\n",
       "      <td>18.0</td>\n",
       "      <td>42.0</td>\n",
       "      <td>49.0</td>\n",
       "      <td>24.0</td>\n",
       "      <td>5.0</td>\n",
       "      <td>25.0</td>\n",
       "      <td>NaN</td>\n",
       "      <td>3.0</td>\n",
       "      <td>0.8019</td>\n",
       "    </tr>\n",
       "    <tr>\n",
       "      <th>3</th>\n",
       "      <td>37</td>\n",
       "      <td>1003002486</td>\n",
       "      <td>Chiropractic</td>\n",
       "      <td>Y</td>\n",
       "      <td>2</td>\n",
       "      <td>142.0</td>\n",
       "      <td>22</td>\n",
       "      <td>7458.44</td>\n",
       "      <td>5037.51</td>\n",
       "      <td>3727.01</td>\n",
       "      <td>...</td>\n",
       "      <td>NaN</td>\n",
       "      <td>NaN</td>\n",
       "      <td>59.0</td>\n",
       "      <td>59.0</td>\n",
       "      <td>NaN</td>\n",
       "      <td>0.0</td>\n",
       "      <td>64.0</td>\n",
       "      <td>0.0</td>\n",
       "      <td>0.0</td>\n",
       "      <td>0.7920</td>\n",
       "    </tr>\n",
       "    <tr>\n",
       "      <th>4</th>\n",
       "      <td>73</td>\n",
       "      <td>1003005430</td>\n",
       "      <td>Clinical Psychologist</td>\n",
       "      <td>Y</td>\n",
       "      <td>3</td>\n",
       "      <td>130.0</td>\n",
       "      <td>11</td>\n",
       "      <td>20640.00</td>\n",
       "      <td>14968.22</td>\n",
       "      <td>11334.69</td>\n",
       "      <td>...</td>\n",
       "      <td>NaN</td>\n",
       "      <td>NaN</td>\n",
       "      <td>NaN</td>\n",
       "      <td>NaN</td>\n",
       "      <td>NaN</td>\n",
       "      <td>0.0</td>\n",
       "      <td>NaN</td>\n",
       "      <td>0.0</td>\n",
       "      <td>NaN</td>\n",
       "      <td>0.9718</td>\n",
       "    </tr>\n",
       "  </tbody>\n",
       "</table>\n",
       "<p>5 rows × 59 columns</p>\n",
       "</div>"
      ],
      "text/plain": [
       "        nbr         npi                    provider_type  \\\n",
       "2014 0    1  1003000134                        Pathology   \n",
       "     1   19  1003001249               Physical Therapist   \n",
       "     2   21  1003001322  Mass Immunization Roster Biller   \n",
       "     3   37  1003002486                     Chiropractic   \n",
       "     4   73  1003005430            Clinical Psychologist   \n",
       "\n",
       "       medicare_participation_indicator  number_of_hcpcs  total_services  \\\n",
       "2014 0                                Y               13          8643.0   \n",
       "     1                                Y                4          1221.0   \n",
       "     2                                Y                7           788.0   \n",
       "     3                                Y                2           142.0   \n",
       "     4                                Y                3           130.0   \n",
       "\n",
       "        total_unique_benes  total_submitted_chrg_amt  \\\n",
       "2014 0                4276                1357139.00   \n",
       "     1                  69                  88686.28   \n",
       "     2                 370                  21640.24   \n",
       "     3                  22                   7458.44   \n",
       "     4                  11                  20640.00   \n",
       "\n",
       "        total_medicare_allowed_amt  total_medicare_payment_amt  ...  \\\n",
       "2014 0                   321641.88                   245364.34  ...   \n",
       "     1                    34060.09                    26055.17  ...   \n",
       "     2                    21634.91                    21199.22  ...   \n",
       "     3                     5037.51                     3727.01  ...   \n",
       "     4                    14968.22                    11334.69  ...   \n",
       "\n",
       "        beneficiary_cc_depr_percent beneficiary_cc_diab_percent  \\\n",
       "2014 0                         12.0                        20.0   \n",
       "     1                          NaN                        39.0   \n",
       "     2                         13.0                        18.0   \n",
       "     3                          NaN                         NaN   \n",
       "     4                          NaN                         NaN   \n",
       "\n",
       "        beneficiary_cc_hyperl_percent  beneficiary_cc_hypert_percent  \\\n",
       "2014 0                           53.0                           57.0   \n",
       "     1                           64.0                           75.0   \n",
       "     2                           42.0                           49.0   \n",
       "     3                           59.0                           59.0   \n",
       "     4                            NaN                            NaN   \n",
       "\n",
       "        beneficiary_cc_ihd_percent  beneficiary_cc_ost_percent  \\\n",
       "2014 0                        28.0                         9.0   \n",
       "     1                        32.0                         NaN   \n",
       "     2                        24.0                         5.0   \n",
       "     3                         NaN                         0.0   \n",
       "     4                         NaN                         0.0   \n",
       "\n",
       "        beneficiary_cc_raoa_percent  beneficiary_cc_schiot_percent  \\\n",
       "2014 0                         37.0                            1.0   \n",
       "     1                         68.0                            NaN   \n",
       "     2                         25.0                            NaN   \n",
       "     3                         64.0                            0.0   \n",
       "     4                          NaN                            0.0   \n",
       "\n",
       "        beneficiary_cc_strk_percent beneficiary_average_risk_score  \n",
       "2014 0                          3.0                         1.0007  \n",
       "     1                          NaN                         1.1912  \n",
       "     2                          3.0                         0.8019  \n",
       "     3                          0.0                         0.7920  \n",
       "     4                          NaN                         0.9718  \n",
       "\n",
       "[5 rows x 59 columns]"
      ]
     },
     "execution_count": 127,
     "metadata": {},
     "output_type": "execute_result"
    }
   ],
   "source": [
    "answer.head()"
   ]
  },
  {
   "cell_type": "code",
   "execution_count": 128,
   "metadata": {
    "nbgrader": {
     "grade": false,
     "grade_id": "01-solution",
     "locked": false,
     "schema_version": 1,
     "solution": true
    }
   },
   "outputs": [
    {
     "data": {
      "text/html": [
       "<div>\n",
       "<style scoped>\n",
       "    .dataframe tbody tr th:only-of-type {\n",
       "        vertical-align: middle;\n",
       "    }\n",
       "\n",
       "    .dataframe tbody tr th {\n",
       "        vertical-align: top;\n",
       "    }\n",
       "\n",
       "    .dataframe thead th {\n",
       "        text-align: right;\n",
       "    }\n",
       "</style>\n",
       "<table border=\"1\" class=\"dataframe\">\n",
       "  <thead>\n",
       "    <tr style=\"text-align: right;\">\n",
       "      <th></th>\n",
       "      <th>level_0</th>\n",
       "      <th>level_1</th>\n",
       "      <th>nbr</th>\n",
       "      <th>npi</th>\n",
       "      <th>provider_type</th>\n",
       "      <th>medicare_participation_indicator</th>\n",
       "      <th>number_of_hcpcs</th>\n",
       "      <th>total_services</th>\n",
       "      <th>total_unique_benes</th>\n",
       "      <th>total_submitted_chrg_amt</th>\n",
       "      <th>...</th>\n",
       "      <th>beneficiary_cc_depr_percent</th>\n",
       "      <th>beneficiary_cc_diab_percent</th>\n",
       "      <th>beneficiary_cc_hyperl_percent</th>\n",
       "      <th>beneficiary_cc_hypert_percent</th>\n",
       "      <th>beneficiary_cc_ihd_percent</th>\n",
       "      <th>beneficiary_cc_ost_percent</th>\n",
       "      <th>beneficiary_cc_raoa_percent</th>\n",
       "      <th>beneficiary_cc_schiot_percent</th>\n",
       "      <th>beneficiary_cc_strk_percent</th>\n",
       "      <th>beneficiary_average_risk_score</th>\n",
       "    </tr>\n",
       "  </thead>\n",
       "  <tbody>\n",
       "    <tr>\n",
       "      <th>0</th>\n",
       "      <td>2014</td>\n",
       "      <td>0</td>\n",
       "      <td>1</td>\n",
       "      <td>1003000134</td>\n",
       "      <td>Pathology</td>\n",
       "      <td>Y</td>\n",
       "      <td>13</td>\n",
       "      <td>8643.0</td>\n",
       "      <td>4276</td>\n",
       "      <td>1357139.00</td>\n",
       "      <td>...</td>\n",
       "      <td>12.0</td>\n",
       "      <td>20.0</td>\n",
       "      <td>53.0</td>\n",
       "      <td>57.0</td>\n",
       "      <td>28.0</td>\n",
       "      <td>9.0</td>\n",
       "      <td>37.0</td>\n",
       "      <td>1.0</td>\n",
       "      <td>3.0</td>\n",
       "      <td>1.0007</td>\n",
       "    </tr>\n",
       "    <tr>\n",
       "      <th>1</th>\n",
       "      <td>2014</td>\n",
       "      <td>1</td>\n",
       "      <td>19</td>\n",
       "      <td>1003001249</td>\n",
       "      <td>Physical Therapist</td>\n",
       "      <td>Y</td>\n",
       "      <td>4</td>\n",
       "      <td>1221.0</td>\n",
       "      <td>69</td>\n",
       "      <td>88686.28</td>\n",
       "      <td>...</td>\n",
       "      <td>NaN</td>\n",
       "      <td>39.0</td>\n",
       "      <td>64.0</td>\n",
       "      <td>75.0</td>\n",
       "      <td>32.0</td>\n",
       "      <td>NaN</td>\n",
       "      <td>68.0</td>\n",
       "      <td>NaN</td>\n",
       "      <td>NaN</td>\n",
       "      <td>1.1912</td>\n",
       "    </tr>\n",
       "    <tr>\n",
       "      <th>2</th>\n",
       "      <td>2014</td>\n",
       "      <td>2</td>\n",
       "      <td>21</td>\n",
       "      <td>1003001322</td>\n",
       "      <td>Mass Immunization Roster Biller</td>\n",
       "      <td>Y</td>\n",
       "      <td>7</td>\n",
       "      <td>788.0</td>\n",
       "      <td>370</td>\n",
       "      <td>21640.24</td>\n",
       "      <td>...</td>\n",
       "      <td>13.0</td>\n",
       "      <td>18.0</td>\n",
       "      <td>42.0</td>\n",
       "      <td>49.0</td>\n",
       "      <td>24.0</td>\n",
       "      <td>5.0</td>\n",
       "      <td>25.0</td>\n",
       "      <td>NaN</td>\n",
       "      <td>3.0</td>\n",
       "      <td>0.8019</td>\n",
       "    </tr>\n",
       "    <tr>\n",
       "      <th>3</th>\n",
       "      <td>2014</td>\n",
       "      <td>3</td>\n",
       "      <td>37</td>\n",
       "      <td>1003002486</td>\n",
       "      <td>Chiropractic</td>\n",
       "      <td>Y</td>\n",
       "      <td>2</td>\n",
       "      <td>142.0</td>\n",
       "      <td>22</td>\n",
       "      <td>7458.44</td>\n",
       "      <td>...</td>\n",
       "      <td>NaN</td>\n",
       "      <td>NaN</td>\n",
       "      <td>59.0</td>\n",
       "      <td>59.0</td>\n",
       "      <td>NaN</td>\n",
       "      <td>0.0</td>\n",
       "      <td>64.0</td>\n",
       "      <td>0.0</td>\n",
       "      <td>0.0</td>\n",
       "      <td>0.7920</td>\n",
       "    </tr>\n",
       "    <tr>\n",
       "      <th>4</th>\n",
       "      <td>2014</td>\n",
       "      <td>4</td>\n",
       "      <td>73</td>\n",
       "      <td>1003005430</td>\n",
       "      <td>Clinical Psychologist</td>\n",
       "      <td>Y</td>\n",
       "      <td>3</td>\n",
       "      <td>130.0</td>\n",
       "      <td>11</td>\n",
       "      <td>20640.00</td>\n",
       "      <td>...</td>\n",
       "      <td>NaN</td>\n",
       "      <td>NaN</td>\n",
       "      <td>NaN</td>\n",
       "      <td>NaN</td>\n",
       "      <td>NaN</td>\n",
       "      <td>0.0</td>\n",
       "      <td>NaN</td>\n",
       "      <td>0.0</td>\n",
       "      <td>NaN</td>\n",
       "      <td>0.9718</td>\n",
       "    </tr>\n",
       "    <tr>\n",
       "      <th>...</th>\n",
       "      <td>...</td>\n",
       "      <td>...</td>\n",
       "      <td>...</td>\n",
       "      <td>...</td>\n",
       "      <td>...</td>\n",
       "      <td>...</td>\n",
       "      <td>...</td>\n",
       "      <td>...</td>\n",
       "      <td>...</td>\n",
       "      <td>...</td>\n",
       "      <td>...</td>\n",
       "      <td>...</td>\n",
       "      <td>...</td>\n",
       "      <td>...</td>\n",
       "      <td>...</td>\n",
       "      <td>...</td>\n",
       "      <td>...</td>\n",
       "      <td>...</td>\n",
       "      <td>...</td>\n",
       "      <td>...</td>\n",
       "      <td>...</td>\n",
       "    </tr>\n",
       "    <tr>\n",
       "      <th>193857</th>\n",
       "      <td>2016</td>\n",
       "      <td>66224</td>\n",
       "      <td>1053890</td>\n",
       "      <td>1992995542</td>\n",
       "      <td>Ophthalmology</td>\n",
       "      <td>Y</td>\n",
       "      <td>49</td>\n",
       "      <td>2623.0</td>\n",
       "      <td>611</td>\n",
       "      <td>845229.00</td>\n",
       "      <td>...</td>\n",
       "      <td>11.0</td>\n",
       "      <td>58.0</td>\n",
       "      <td>54.0</td>\n",
       "      <td>75.0</td>\n",
       "      <td>38.0</td>\n",
       "      <td>7.0</td>\n",
       "      <td>48.0</td>\n",
       "      <td>NaN</td>\n",
       "      <td>7.0</td>\n",
       "      <td>1.8015</td>\n",
       "    </tr>\n",
       "    <tr>\n",
       "      <th>193858</th>\n",
       "      <td>2016</td>\n",
       "      <td>66225</td>\n",
       "      <td>1053892</td>\n",
       "      <td>1992995591</td>\n",
       "      <td>Obstetrics &amp; Gynecology</td>\n",
       "      <td>Y</td>\n",
       "      <td>18</td>\n",
       "      <td>27.0</td>\n",
       "      <td>17</td>\n",
       "      <td>9800.23</td>\n",
       "      <td>...</td>\n",
       "      <td>NaN</td>\n",
       "      <td>NaN</td>\n",
       "      <td>NaN</td>\n",
       "      <td>NaN</td>\n",
       "      <td>NaN</td>\n",
       "      <td>NaN</td>\n",
       "      <td>NaN</td>\n",
       "      <td>NaN</td>\n",
       "      <td>0.0</td>\n",
       "      <td>1.4364</td>\n",
       "    </tr>\n",
       "    <tr>\n",
       "      <th>193859</th>\n",
       "      <td>2016</td>\n",
       "      <td>66226</td>\n",
       "      <td>1053900</td>\n",
       "      <td>1992996219</td>\n",
       "      <td>Neurology</td>\n",
       "      <td>Y</td>\n",
       "      <td>25</td>\n",
       "      <td>1121.0</td>\n",
       "      <td>620</td>\n",
       "      <td>565393.00</td>\n",
       "      <td>...</td>\n",
       "      <td>46.0</td>\n",
       "      <td>36.0</td>\n",
       "      <td>54.0</td>\n",
       "      <td>68.0</td>\n",
       "      <td>45.0</td>\n",
       "      <td>5.0</td>\n",
       "      <td>40.0</td>\n",
       "      <td>12.0</td>\n",
       "      <td>31.0</td>\n",
       "      <td>2.3548</td>\n",
       "    </tr>\n",
       "    <tr>\n",
       "      <th>193860</th>\n",
       "      <td>2016</td>\n",
       "      <td>66227</td>\n",
       "      <td>1053901</td>\n",
       "      <td>1992996284</td>\n",
       "      <td>Internal Medicine</td>\n",
       "      <td>Y</td>\n",
       "      <td>21</td>\n",
       "      <td>4501.6</td>\n",
       "      <td>381</td>\n",
       "      <td>194576.60</td>\n",
       "      <td>...</td>\n",
       "      <td>34.0</td>\n",
       "      <td>57.0</td>\n",
       "      <td>64.0</td>\n",
       "      <td>75.0</td>\n",
       "      <td>62.0</td>\n",
       "      <td>12.0</td>\n",
       "      <td>75.0</td>\n",
       "      <td>9.0</td>\n",
       "      <td>12.0</td>\n",
       "      <td>2.4551</td>\n",
       "    </tr>\n",
       "    <tr>\n",
       "      <th>193861</th>\n",
       "      <td>2016</td>\n",
       "      <td>66228</td>\n",
       "      <td>1053906</td>\n",
       "      <td>1992996458</td>\n",
       "      <td>Sleep Medicine</td>\n",
       "      <td>Y</td>\n",
       "      <td>14</td>\n",
       "      <td>1204.0</td>\n",
       "      <td>480</td>\n",
       "      <td>323712.00</td>\n",
       "      <td>...</td>\n",
       "      <td>34.0</td>\n",
       "      <td>36.0</td>\n",
       "      <td>56.0</td>\n",
       "      <td>72.0</td>\n",
       "      <td>51.0</td>\n",
       "      <td>4.0</td>\n",
       "      <td>48.0</td>\n",
       "      <td>3.0</td>\n",
       "      <td>8.0</td>\n",
       "      <td>1.2075</td>\n",
       "    </tr>\n",
       "  </tbody>\n",
       "</table>\n",
       "<p>193862 rows × 61 columns</p>\n",
       "</div>"
      ],
      "text/plain": [
       "        level_0  level_1      nbr         npi  \\\n",
       "0          2014        0        1  1003000134   \n",
       "1          2014        1       19  1003001249   \n",
       "2          2014        2       21  1003001322   \n",
       "3          2014        3       37  1003002486   \n",
       "4          2014        4       73  1003005430   \n",
       "...         ...      ...      ...         ...   \n",
       "193857     2016    66224  1053890  1992995542   \n",
       "193858     2016    66225  1053892  1992995591   \n",
       "193859     2016    66226  1053900  1992996219   \n",
       "193860     2016    66227  1053901  1992996284   \n",
       "193861     2016    66228  1053906  1992996458   \n",
       "\n",
       "                          provider_type medicare_participation_indicator  \\\n",
       "0                             Pathology                                Y   \n",
       "1                    Physical Therapist                                Y   \n",
       "2       Mass Immunization Roster Biller                                Y   \n",
       "3                          Chiropractic                                Y   \n",
       "4                 Clinical Psychologist                                Y   \n",
       "...                                 ...                              ...   \n",
       "193857                    Ophthalmology                                Y   \n",
       "193858          Obstetrics & Gynecology                                Y   \n",
       "193859                        Neurology                                Y   \n",
       "193860                Internal Medicine                                Y   \n",
       "193861                   Sleep Medicine                                Y   \n",
       "\n",
       "        number_of_hcpcs  total_services  total_unique_benes  \\\n",
       "0                    13          8643.0                4276   \n",
       "1                     4          1221.0                  69   \n",
       "2                     7           788.0                 370   \n",
       "3                     2           142.0                  22   \n",
       "4                     3           130.0                  11   \n",
       "...                 ...             ...                 ...   \n",
       "193857               49          2623.0                 611   \n",
       "193858               18            27.0                  17   \n",
       "193859               25          1121.0                 620   \n",
       "193860               21          4501.6                 381   \n",
       "193861               14          1204.0                 480   \n",
       "\n",
       "        total_submitted_chrg_amt  ...  beneficiary_cc_depr_percent  \\\n",
       "0                     1357139.00  ...                         12.0   \n",
       "1                       88686.28  ...                          NaN   \n",
       "2                       21640.24  ...                         13.0   \n",
       "3                        7458.44  ...                          NaN   \n",
       "4                       20640.00  ...                          NaN   \n",
       "...                          ...  ...                          ...   \n",
       "193857                 845229.00  ...                         11.0   \n",
       "193858                   9800.23  ...                          NaN   \n",
       "193859                 565393.00  ...                         46.0   \n",
       "193860                 194576.60  ...                         34.0   \n",
       "193861                 323712.00  ...                         34.0   \n",
       "\n",
       "        beneficiary_cc_diab_percent  beneficiary_cc_hyperl_percent  \\\n",
       "0                              20.0                           53.0   \n",
       "1                              39.0                           64.0   \n",
       "2                              18.0                           42.0   \n",
       "3                               NaN                           59.0   \n",
       "4                               NaN                            NaN   \n",
       "...                             ...                            ...   \n",
       "193857                         58.0                           54.0   \n",
       "193858                          NaN                            NaN   \n",
       "193859                         36.0                           54.0   \n",
       "193860                         57.0                           64.0   \n",
       "193861                         36.0                           56.0   \n",
       "\n",
       "       beneficiary_cc_hypert_percent  beneficiary_cc_ihd_percent  \\\n",
       "0                               57.0                        28.0   \n",
       "1                               75.0                        32.0   \n",
       "2                               49.0                        24.0   \n",
       "3                               59.0                         NaN   \n",
       "4                                NaN                         NaN   \n",
       "...                              ...                         ...   \n",
       "193857                          75.0                        38.0   \n",
       "193858                           NaN                         NaN   \n",
       "193859                          68.0                        45.0   \n",
       "193860                          75.0                        62.0   \n",
       "193861                          72.0                        51.0   \n",
       "\n",
       "        beneficiary_cc_ost_percent  beneficiary_cc_raoa_percent  \\\n",
       "0                              9.0                         37.0   \n",
       "1                              NaN                         68.0   \n",
       "2                              5.0                         25.0   \n",
       "3                              0.0                         64.0   \n",
       "4                              0.0                          NaN   \n",
       "...                            ...                          ...   \n",
       "193857                         7.0                         48.0   \n",
       "193858                         NaN                          NaN   \n",
       "193859                         5.0                         40.0   \n",
       "193860                        12.0                         75.0   \n",
       "193861                         4.0                         48.0   \n",
       "\n",
       "        beneficiary_cc_schiot_percent  beneficiary_cc_strk_percent  \\\n",
       "0                                 1.0                          3.0   \n",
       "1                                 NaN                          NaN   \n",
       "2                                 NaN                          3.0   \n",
       "3                                 0.0                          0.0   \n",
       "4                                 0.0                          NaN   \n",
       "...                               ...                          ...   \n",
       "193857                            NaN                          7.0   \n",
       "193858                            NaN                          0.0   \n",
       "193859                           12.0                         31.0   \n",
       "193860                            9.0                         12.0   \n",
       "193861                            3.0                          8.0   \n",
       "\n",
       "        beneficiary_average_risk_score  \n",
       "0                               1.0007  \n",
       "1                               1.1912  \n",
       "2                               0.8019  \n",
       "3                               0.7920  \n",
       "4                               0.9718  \n",
       "...                                ...  \n",
       "193857                          1.8015  \n",
       "193858                          1.4364  \n",
       "193859                          2.3548  \n",
       "193860                          2.4551  \n",
       "193861                          1.2075  \n",
       "\n",
       "[193862 rows x 61 columns]"
      ]
     },
     "execution_count": 128,
     "metadata": {},
     "output_type": "execute_result"
    }
   ],
   "source": [
    "answer.reset_index()"
   ]
  },
  {
   "cell_type": "code",
   "execution_count": 129,
   "metadata": {
    "nbgrader": {
     "grade": false,
     "grade_id": "01-solution",
     "locked": false,
     "schema_version": 1,
     "solution": true
    }
   },
   "outputs": [
    {
     "data": {
      "text/plain": [
       "Int64Index([2014, 2015, 2016], dtype='int64')"
      ]
     },
     "execution_count": 129,
     "metadata": {},
     "output_type": "execute_result"
    }
   ],
   "source": [
    "answer.index.levels[0]"
   ]
  },
  {
   "cell_type": "code",
   "execution_count": 130,
   "metadata": {
    "nbgrader": {
     "grade": false,
     "grade_id": "01-solution",
     "locked": false,
     "schema_version": 1,
     "solution": true
    }
   },
   "outputs": [],
   "source": [
    "answer.reset_index(inplace=True)"
   ]
  },
  {
   "cell_type": "code",
   "execution_count": 131,
   "metadata": {
    "nbgrader": {
     "grade": false,
     "grade_id": "01-solution",
     "locked": false,
     "schema_version": 1,
     "solution": true
    }
   },
   "outputs": [],
   "source": [
    "#create year column\n",
    "answer['year']= answer['level_0']"
   ]
  },
  {
   "cell_type": "code",
   "execution_count": 132,
   "metadata": {
    "nbgrader": {
     "grade": false,
     "grade_id": "01-solution",
     "locked": false,
     "schema_version": 1,
     "solution": true
    }
   },
   "outputs": [
    {
     "data": {
      "text/html": [
       "<div>\n",
       "<style scoped>\n",
       "    .dataframe tbody tr th:only-of-type {\n",
       "        vertical-align: middle;\n",
       "    }\n",
       "\n",
       "    .dataframe tbody tr th {\n",
       "        vertical-align: top;\n",
       "    }\n",
       "\n",
       "    .dataframe thead th {\n",
       "        text-align: right;\n",
       "    }\n",
       "</style>\n",
       "<table border=\"1\" class=\"dataframe\">\n",
       "  <thead>\n",
       "    <tr style=\"text-align: right;\">\n",
       "      <th></th>\n",
       "      <th>level_0</th>\n",
       "      <th>level_1</th>\n",
       "      <th>nbr</th>\n",
       "      <th>npi</th>\n",
       "      <th>provider_type</th>\n",
       "      <th>medicare_participation_indicator</th>\n",
       "      <th>number_of_hcpcs</th>\n",
       "      <th>total_services</th>\n",
       "      <th>total_unique_benes</th>\n",
       "      <th>total_submitted_chrg_amt</th>\n",
       "      <th>...</th>\n",
       "      <th>beneficiary_cc_diab_percent</th>\n",
       "      <th>beneficiary_cc_hyperl_percent</th>\n",
       "      <th>beneficiary_cc_hypert_percent</th>\n",
       "      <th>beneficiary_cc_ihd_percent</th>\n",
       "      <th>beneficiary_cc_ost_percent</th>\n",
       "      <th>beneficiary_cc_raoa_percent</th>\n",
       "      <th>beneficiary_cc_schiot_percent</th>\n",
       "      <th>beneficiary_cc_strk_percent</th>\n",
       "      <th>beneficiary_average_risk_score</th>\n",
       "      <th>year</th>\n",
       "    </tr>\n",
       "  </thead>\n",
       "  <tbody>\n",
       "    <tr>\n",
       "      <th>0</th>\n",
       "      <td>2014</td>\n",
       "      <td>0</td>\n",
       "      <td>1</td>\n",
       "      <td>1003000134</td>\n",
       "      <td>Pathology</td>\n",
       "      <td>Y</td>\n",
       "      <td>13</td>\n",
       "      <td>8643.0</td>\n",
       "      <td>4276</td>\n",
       "      <td>1357139.00</td>\n",
       "      <td>...</td>\n",
       "      <td>20.0</td>\n",
       "      <td>53.0</td>\n",
       "      <td>57.0</td>\n",
       "      <td>28.0</td>\n",
       "      <td>9.0</td>\n",
       "      <td>37.0</td>\n",
       "      <td>1.0</td>\n",
       "      <td>3.0</td>\n",
       "      <td>1.0007</td>\n",
       "      <td>2014</td>\n",
       "    </tr>\n",
       "    <tr>\n",
       "      <th>1</th>\n",
       "      <td>2014</td>\n",
       "      <td>1</td>\n",
       "      <td>19</td>\n",
       "      <td>1003001249</td>\n",
       "      <td>Physical Therapist</td>\n",
       "      <td>Y</td>\n",
       "      <td>4</td>\n",
       "      <td>1221.0</td>\n",
       "      <td>69</td>\n",
       "      <td>88686.28</td>\n",
       "      <td>...</td>\n",
       "      <td>39.0</td>\n",
       "      <td>64.0</td>\n",
       "      <td>75.0</td>\n",
       "      <td>32.0</td>\n",
       "      <td>NaN</td>\n",
       "      <td>68.0</td>\n",
       "      <td>NaN</td>\n",
       "      <td>NaN</td>\n",
       "      <td>1.1912</td>\n",
       "      <td>2014</td>\n",
       "    </tr>\n",
       "    <tr>\n",
       "      <th>2</th>\n",
       "      <td>2014</td>\n",
       "      <td>2</td>\n",
       "      <td>21</td>\n",
       "      <td>1003001322</td>\n",
       "      <td>Mass Immunization Roster Biller</td>\n",
       "      <td>Y</td>\n",
       "      <td>7</td>\n",
       "      <td>788.0</td>\n",
       "      <td>370</td>\n",
       "      <td>21640.24</td>\n",
       "      <td>...</td>\n",
       "      <td>18.0</td>\n",
       "      <td>42.0</td>\n",
       "      <td>49.0</td>\n",
       "      <td>24.0</td>\n",
       "      <td>5.0</td>\n",
       "      <td>25.0</td>\n",
       "      <td>NaN</td>\n",
       "      <td>3.0</td>\n",
       "      <td>0.8019</td>\n",
       "      <td>2014</td>\n",
       "    </tr>\n",
       "    <tr>\n",
       "      <th>3</th>\n",
       "      <td>2014</td>\n",
       "      <td>3</td>\n",
       "      <td>37</td>\n",
       "      <td>1003002486</td>\n",
       "      <td>Chiropractic</td>\n",
       "      <td>Y</td>\n",
       "      <td>2</td>\n",
       "      <td>142.0</td>\n",
       "      <td>22</td>\n",
       "      <td>7458.44</td>\n",
       "      <td>...</td>\n",
       "      <td>NaN</td>\n",
       "      <td>59.0</td>\n",
       "      <td>59.0</td>\n",
       "      <td>NaN</td>\n",
       "      <td>0.0</td>\n",
       "      <td>64.0</td>\n",
       "      <td>0.0</td>\n",
       "      <td>0.0</td>\n",
       "      <td>0.7920</td>\n",
       "      <td>2014</td>\n",
       "    </tr>\n",
       "    <tr>\n",
       "      <th>4</th>\n",
       "      <td>2014</td>\n",
       "      <td>4</td>\n",
       "      <td>73</td>\n",
       "      <td>1003005430</td>\n",
       "      <td>Clinical Psychologist</td>\n",
       "      <td>Y</td>\n",
       "      <td>3</td>\n",
       "      <td>130.0</td>\n",
       "      <td>11</td>\n",
       "      <td>20640.00</td>\n",
       "      <td>...</td>\n",
       "      <td>NaN</td>\n",
       "      <td>NaN</td>\n",
       "      <td>NaN</td>\n",
       "      <td>NaN</td>\n",
       "      <td>0.0</td>\n",
       "      <td>NaN</td>\n",
       "      <td>0.0</td>\n",
       "      <td>NaN</td>\n",
       "      <td>0.9718</td>\n",
       "      <td>2014</td>\n",
       "    </tr>\n",
       "  </tbody>\n",
       "</table>\n",
       "<p>5 rows × 62 columns</p>\n",
       "</div>"
      ],
      "text/plain": [
       "   level_0  level_1  nbr         npi                    provider_type  \\\n",
       "0     2014        0    1  1003000134                        Pathology   \n",
       "1     2014        1   19  1003001249               Physical Therapist   \n",
       "2     2014        2   21  1003001322  Mass Immunization Roster Biller   \n",
       "3     2014        3   37  1003002486                     Chiropractic   \n",
       "4     2014        4   73  1003005430            Clinical Psychologist   \n",
       "\n",
       "  medicare_participation_indicator  number_of_hcpcs  total_services  \\\n",
       "0                                Y               13          8643.0   \n",
       "1                                Y                4          1221.0   \n",
       "2                                Y                7           788.0   \n",
       "3                                Y                2           142.0   \n",
       "4                                Y                3           130.0   \n",
       "\n",
       "   total_unique_benes  total_submitted_chrg_amt  ...  \\\n",
       "0                4276                1357139.00  ...   \n",
       "1                  69                  88686.28  ...   \n",
       "2                 370                  21640.24  ...   \n",
       "3                  22                   7458.44  ...   \n",
       "4                  11                  20640.00  ...   \n",
       "\n",
       "   beneficiary_cc_diab_percent  beneficiary_cc_hyperl_percent  \\\n",
       "0                         20.0                           53.0   \n",
       "1                         39.0                           64.0   \n",
       "2                         18.0                           42.0   \n",
       "3                          NaN                           59.0   \n",
       "4                          NaN                            NaN   \n",
       "\n",
       "   beneficiary_cc_hypert_percent beneficiary_cc_ihd_percent  \\\n",
       "0                           57.0                       28.0   \n",
       "1                           75.0                       32.0   \n",
       "2                           49.0                       24.0   \n",
       "3                           59.0                        NaN   \n",
       "4                            NaN                        NaN   \n",
       "\n",
       "   beneficiary_cc_ost_percent  beneficiary_cc_raoa_percent  \\\n",
       "0                         9.0                         37.0   \n",
       "1                         NaN                         68.0   \n",
       "2                         5.0                         25.0   \n",
       "3                         0.0                         64.0   \n",
       "4                         0.0                          NaN   \n",
       "\n",
       "   beneficiary_cc_schiot_percent  beneficiary_cc_strk_percent  \\\n",
       "0                            1.0                          3.0   \n",
       "1                            NaN                          NaN   \n",
       "2                            NaN                          3.0   \n",
       "3                            0.0                          0.0   \n",
       "4                            0.0                          NaN   \n",
       "\n",
       "   beneficiary_average_risk_score  year  \n",
       "0                          1.0007  2014  \n",
       "1                          1.1912  2014  \n",
       "2                          0.8019  2014  \n",
       "3                          0.7920  2014  \n",
       "4                          0.9718  2014  \n",
       "\n",
       "[5 rows x 62 columns]"
      ]
     },
     "execution_count": 132,
     "metadata": {},
     "output_type": "execute_result"
    }
   ],
   "source": [
    "answer.head()"
   ]
  },
  {
   "cell_type": "code",
   "execution_count": 133,
   "metadata": {
    "nbgrader": {
     "grade": false,
     "grade_id": "01-solution",
     "locked": false,
     "schema_version": 1,
     "solution": true
    }
   },
   "outputs": [],
   "source": [
    "#drop unneeded columns\n",
    "answer= answer.drop(columns=['level_0','level_1'])"
   ]
  },
  {
   "cell_type": "code",
   "execution_count": 134,
   "metadata": {
    "nbgrader": {
     "grade": true,
     "grade_id": "01-tests",
     "locked": true,
     "points": 5,
     "schema_version": 1,
     "solution": false
    }
   },
   "outputs": [],
   "source": [
    "assert(answer.shape == (193862, 60))\n",
    "assert(list(answer['year'].unique()) == [2014,2015,2016])\n",
    "assert(set(answer.columns.str.lower()) == set(['year', 'nbr', 'npi', 'provider_type',\n",
    "       'medicare_participation_indicator', 'number_of_hcpcs', 'total_services',\n",
    "       'total_unique_benes', 'total_submitted_chrg_amt',\n",
    "       'total_medicare_allowed_amt', 'total_medicare_payment_amt',\n",
    "       'total_medicare_stnd_amt', 'drug_suppress_indicator',\n",
    "       'number_of_drug_hcpcs', 'total_drug_services',\n",
    "       'total_drug_unique_benes', 'total_drug_submitted_chrg_amt',\n",
    "       'total_drug_medicare_allowed_amt', 'total_drug_medicare_payment_amt',\n",
    "       'total_drug_medicare_stnd_amt', 'med_suppress_indicator',\n",
    "       'number_of_med_hcpcs', 'total_med_services', 'total_med_unique_benes',\n",
    "       'total_med_submitted_chrg_amt', 'total_med_medicare_allowed_amt',\n",
    "       'total_med_medicare_payment_amt', 'total_med_medicare_stnd_amt',\n",
    "       'beneficiary_average_age', 'beneficiary_age_less_65_count',\n",
    "       'beneficiary_age_65_74_count', 'beneficiary_age_75_84_count',\n",
    "       'beneficiary_age_greater_84_count', 'beneficiary_female_count',\n",
    "       'beneficiary_male_count', 'beneficiary_race_white_count',\n",
    "       'beneficiary_race_black_count', 'beneficiary_race_api_count',\n",
    "       'beneficiary_race_hispanic_count', 'beneficiary_race_natind_count',\n",
    "       'beneficiary_race_other_count', 'beneficiary_nondual_count',\n",
    "       'beneficiary_dual_count', 'beneficiary_cc_afib_percent',\n",
    "       'beneficiary_cc_alzrdsd_percent', 'beneficiary_cc_asthma_percent',\n",
    "       'beneficiary_cc_cancer_percent', 'beneficiary_cc_chf_percent',\n",
    "       'beneficiary_cc_ckd_percent', 'beneficiary_cc_copd_percent',\n",
    "       'beneficiary_cc_depr_percent', 'beneficiary_cc_diab_percent',\n",
    "       'beneficiary_cc_hyperl_percent', 'beneficiary_cc_hypert_percent',\n",
    "       'beneficiary_cc_ihd_percent', 'beneficiary_cc_ost_percent',\n",
    "       'beneficiary_cc_raoa_percent', 'beneficiary_cc_schiot_percent',\n",
    "       'beneficiary_cc_strk_percent', 'beneficiary_average_risk_score']))"
   ]
  },
  {
   "cell_type": "markdown",
   "metadata": {
    "nbgrader": {
     "grade": false,
     "grade_id": "02-intro",
     "locked": true,
     "schema_version": 1,
     "solution": false
    }
   },
   "source": [
    "## Part 2\n",
    "\n",
    "In this next part, we're going to join the **cms** data with the provider information in the **/data/npidata.csv** file.  In this join, we don't want to lose any records from the **cms** files, even if no matching provider exists in the **npidata** file.  However, we don't care about any providers from the **npidata** file that don't have records in the **cms** files.  Those providers can be ignored.\n",
    "\n",
    "Join the data files together to create one unified data frame called `answer`.  This dataframe should have all the columns from both **cms** and **npidata** files, joined together using the `npi` column.  \n",
    "\n",
    "Note that `npi` is unique in the **npidata** file."
   ]
  },
  {
   "cell_type": "code",
   "execution_count": 135,
   "metadata": {
    "nbgrader": {
     "grade": false,
     "grade_id": "02-solution",
     "locked": false,
     "schema_version": 1,
     "solution": true
    }
   },
   "outputs": [
    {
     "data": {
      "text/plain": [
       "Index(['row', 'NPI', 'Entity Type Code', 'Replacement NPI',\n",
       "       'Employer Identification Number (EIN)',\n",
       "       'Provider Organization Name (Legal Business Name)',\n",
       "       'Provider Last Name (Legal Name)', 'Provider First Name',\n",
       "       'Provider Middle Name', 'Provider Name Prefix Text',\n",
       "       'Provider Name Suffix Text', 'Provider Credential Text',\n",
       "       'Provider Other Organization Name',\n",
       "       'Provider Other Organization Name Type Code',\n",
       "       'Provider Other Last Name', 'Provider Other First Name',\n",
       "       'Provider Other Middle Name', 'Provider Other Name Prefix Text',\n",
       "       'Provider Other Name Suffix Text', 'Provider Other Credential Text',\n",
       "       'Provider Other Last Name Type Code',\n",
       "       'Provider First Line Business Mailing Address',\n",
       "       'Provider Second Line Business Mailing Address',\n",
       "       'Provider Business Mailing Address City Name',\n",
       "       'Provider Business Mailing Address State Name',\n",
       "       'Provider Business Mailing Address Postal Code',\n",
       "       'Provider Business Mailing Address Country Code (If outside U.S.)',\n",
       "       'Provider Business Mailing Address Telephone Number',\n",
       "       'Provider Business Mailing Address Fax Number',\n",
       "       'Provider First Line Business Practice Location Address',\n",
       "       'Provider Second Line Business Practice Location Address',\n",
       "       'Provider Business Practice Location Address City Name',\n",
       "       'Provider Business Practice Location Address State Name',\n",
       "       'Provider Business Practice Location Address Postal Code',\n",
       "       'Provider Business Practice Location Address Country Code (If outside U.S.)',\n",
       "       'Provider Business Practice Location Address Telephone Number',\n",
       "       'Provider Business Practice Location Address Fax Number',\n",
       "       'Provider Enumeration Date', 'Last Update Date',\n",
       "       'NPI Deactivation Reason Code', 'NPI Deactivation Date',\n",
       "       'NPI Reactivation Date', 'Provider Gender Code'],\n",
       "      dtype='object')"
      ]
     },
     "execution_count": 135,
     "metadata": {},
     "output_type": "execute_result"
    }
   ],
   "source": [
    "npidata.columns"
   ]
  },
  {
   "cell_type": "code",
   "execution_count": 136,
   "metadata": {
    "nbgrader": {
     "grade": false,
     "grade_id": "02-solution",
     "locked": false,
     "schema_version": 1,
     "solution": true
    }
   },
   "outputs": [],
   "source": [
    "### SOLUTION\n",
    "answer = pd.merge(answer,npidata, left_on='npi', right_on = 'NPI', how='left')"
   ]
  },
  {
   "cell_type": "code",
   "execution_count": 137,
   "metadata": {
    "nbgrader": {
     "grade": false,
     "grade_id": "02-solution",
     "locked": false,
     "schema_version": 1,
     "solution": true
    }
   },
   "outputs": [
    {
     "data": {
      "text/html": [
       "<div>\n",
       "<style scoped>\n",
       "    .dataframe tbody tr th:only-of-type {\n",
       "        vertical-align: middle;\n",
       "    }\n",
       "\n",
       "    .dataframe tbody tr th {\n",
       "        vertical-align: top;\n",
       "    }\n",
       "\n",
       "    .dataframe thead th {\n",
       "        text-align: right;\n",
       "    }\n",
       "</style>\n",
       "<table border=\"1\" class=\"dataframe\">\n",
       "  <thead>\n",
       "    <tr style=\"text-align: right;\">\n",
       "      <th></th>\n",
       "      <th>nbr</th>\n",
       "      <th>npi</th>\n",
       "      <th>provider_type</th>\n",
       "      <th>medicare_participation_indicator</th>\n",
       "      <th>number_of_hcpcs</th>\n",
       "      <th>total_services</th>\n",
       "      <th>total_unique_benes</th>\n",
       "      <th>total_submitted_chrg_amt</th>\n",
       "      <th>total_medicare_allowed_amt</th>\n",
       "      <th>total_medicare_payment_amt</th>\n",
       "      <th>...</th>\n",
       "      <th>Provider Business Practice Location Address Postal Code</th>\n",
       "      <th>Provider Business Practice Location Address Country Code (If outside U.S.)</th>\n",
       "      <th>Provider Business Practice Location Address Telephone Number</th>\n",
       "      <th>Provider Business Practice Location Address Fax Number</th>\n",
       "      <th>Provider Enumeration Date</th>\n",
       "      <th>Last Update Date</th>\n",
       "      <th>NPI Deactivation Reason Code</th>\n",
       "      <th>NPI Deactivation Date</th>\n",
       "      <th>NPI Reactivation Date</th>\n",
       "      <th>Provider Gender Code</th>\n",
       "    </tr>\n",
       "  </thead>\n",
       "  <tbody>\n",
       "    <tr>\n",
       "      <th>0</th>\n",
       "      <td>1</td>\n",
       "      <td>1003000134</td>\n",
       "      <td>Pathology</td>\n",
       "      <td>Y</td>\n",
       "      <td>13</td>\n",
       "      <td>8643.0</td>\n",
       "      <td>4276</td>\n",
       "      <td>1357139.00</td>\n",
       "      <td>321641.88</td>\n",
       "      <td>245364.34</td>\n",
       "      <td>...</td>\n",
       "      <td>602011718</td>\n",
       "      <td>US</td>\n",
       "      <td>8475702040</td>\n",
       "      <td>8.477335e+09</td>\n",
       "      <td>08/31/2007</td>\n",
       "      <td>08/06/2008</td>\n",
       "      <td>NaN</td>\n",
       "      <td>NaN</td>\n",
       "      <td>NaN</td>\n",
       "      <td>M</td>\n",
       "    </tr>\n",
       "    <tr>\n",
       "      <th>1</th>\n",
       "      <td>19</td>\n",
       "      <td>1003001249</td>\n",
       "      <td>Physical Therapist</td>\n",
       "      <td>Y</td>\n",
       "      <td>4</td>\n",
       "      <td>1221.0</td>\n",
       "      <td>69</td>\n",
       "      <td>88686.28</td>\n",
       "      <td>34060.09</td>\n",
       "      <td>26055.17</td>\n",
       "      <td>...</td>\n",
       "      <td>618321159</td>\n",
       "      <td>US</td>\n",
       "      <td>2174467878</td>\n",
       "      <td>2.174468e+09</td>\n",
       "      <td>09/11/2007</td>\n",
       "      <td>07/13/2010</td>\n",
       "      <td>NaN</td>\n",
       "      <td>NaN</td>\n",
       "      <td>NaN</td>\n",
       "      <td>M</td>\n",
       "    </tr>\n",
       "    <tr>\n",
       "      <th>2</th>\n",
       "      <td>21</td>\n",
       "      <td>1003001322</td>\n",
       "      <td>Mass Immunization Roster Biller</td>\n",
       "      <td>Y</td>\n",
       "      <td>7</td>\n",
       "      <td>788.0</td>\n",
       "      <td>370</td>\n",
       "      <td>21640.24</td>\n",
       "      <td>21634.91</td>\n",
       "      <td>21199.22</td>\n",
       "      <td>...</td>\n",
       "      <td>644681610</td>\n",
       "      <td>US</td>\n",
       "      <td>6605622755</td>\n",
       "      <td>6.605625e+09</td>\n",
       "      <td>09/10/2007</td>\n",
       "      <td>09/10/2007</td>\n",
       "      <td>NaN</td>\n",
       "      <td>NaN</td>\n",
       "      <td>NaN</td>\n",
       "      <td>NaN</td>\n",
       "    </tr>\n",
       "    <tr>\n",
       "      <th>3</th>\n",
       "      <td>37</td>\n",
       "      <td>1003002486</td>\n",
       "      <td>Chiropractic</td>\n",
       "      <td>Y</td>\n",
       "      <td>2</td>\n",
       "      <td>142.0</td>\n",
       "      <td>22</td>\n",
       "      <td>7458.44</td>\n",
       "      <td>5037.51</td>\n",
       "      <td>3727.01</td>\n",
       "      <td>...</td>\n",
       "      <td>630903303</td>\n",
       "      <td>US</td>\n",
       "      <td>6362399997</td>\n",
       "      <td>6.362400e+09</td>\n",
       "      <td>09/19/2007</td>\n",
       "      <td>02/19/2019</td>\n",
       "      <td>NaN</td>\n",
       "      <td>NaN</td>\n",
       "      <td>NaN</td>\n",
       "      <td>F</td>\n",
       "    </tr>\n",
       "    <tr>\n",
       "      <th>4</th>\n",
       "      <td>73</td>\n",
       "      <td>1003005430</td>\n",
       "      <td>Clinical Psychologist</td>\n",
       "      <td>Y</td>\n",
       "      <td>3</td>\n",
       "      <td>130.0</td>\n",
       "      <td>11</td>\n",
       "      <td>20640.00</td>\n",
       "      <td>14968.22</td>\n",
       "      <td>11334.69</td>\n",
       "      <td>...</td>\n",
       "      <td>60463</td>\n",
       "      <td>US</td>\n",
       "      <td>7089237400</td>\n",
       "      <td>7.089237e+09</td>\n",
       "      <td>10/22/2007</td>\n",
       "      <td>10/22/2007</td>\n",
       "      <td>NaN</td>\n",
       "      <td>NaN</td>\n",
       "      <td>NaN</td>\n",
       "      <td>F</td>\n",
       "    </tr>\n",
       "  </tbody>\n",
       "</table>\n",
       "<p>5 rows × 103 columns</p>\n",
       "</div>"
      ],
      "text/plain": [
       "   nbr         npi                    provider_type  \\\n",
       "0    1  1003000134                        Pathology   \n",
       "1   19  1003001249               Physical Therapist   \n",
       "2   21  1003001322  Mass Immunization Roster Biller   \n",
       "3   37  1003002486                     Chiropractic   \n",
       "4   73  1003005430            Clinical Psychologist   \n",
       "\n",
       "  medicare_participation_indicator  number_of_hcpcs  total_services  \\\n",
       "0                                Y               13          8643.0   \n",
       "1                                Y                4          1221.0   \n",
       "2                                Y                7           788.0   \n",
       "3                                Y                2           142.0   \n",
       "4                                Y                3           130.0   \n",
       "\n",
       "   total_unique_benes  total_submitted_chrg_amt  total_medicare_allowed_amt  \\\n",
       "0                4276                1357139.00                   321641.88   \n",
       "1                  69                  88686.28                    34060.09   \n",
       "2                 370                  21640.24                    21634.91   \n",
       "3                  22                   7458.44                     5037.51   \n",
       "4                  11                  20640.00                    14968.22   \n",
       "\n",
       "   total_medicare_payment_amt  ...  \\\n",
       "0                   245364.34  ...   \n",
       "1                    26055.17  ...   \n",
       "2                    21199.22  ...   \n",
       "3                     3727.01  ...   \n",
       "4                    11334.69  ...   \n",
       "\n",
       "   Provider Business Practice Location Address Postal Code  \\\n",
       "0                                          602011718         \n",
       "1                                          618321159         \n",
       "2                                          644681610         \n",
       "3                                          630903303         \n",
       "4                                              60463         \n",
       "\n",
       "  Provider Business Practice Location Address Country Code (If outside U.S.)  \\\n",
       "0                                                 US                           \n",
       "1                                                 US                           \n",
       "2                                                 US                           \n",
       "3                                                 US                           \n",
       "4                                                 US                           \n",
       "\n",
       "   Provider Business Practice Location Address Telephone Number  \\\n",
       "0                                         8475702040              \n",
       "1                                         2174467878              \n",
       "2                                         6605622755              \n",
       "3                                         6362399997              \n",
       "4                                         7089237400              \n",
       "\n",
       "   Provider Business Practice Location Address Fax Number  \\\n",
       "0                                       8.477335e+09        \n",
       "1                                       2.174468e+09        \n",
       "2                                       6.605625e+09        \n",
       "3                                       6.362400e+09        \n",
       "4                                       7.089237e+09        \n",
       "\n",
       "   Provider Enumeration Date  Last Update Date  NPI Deactivation Reason Code  \\\n",
       "0                 08/31/2007        08/06/2008                           NaN   \n",
       "1                 09/11/2007        07/13/2010                           NaN   \n",
       "2                 09/10/2007        09/10/2007                           NaN   \n",
       "3                 09/19/2007        02/19/2019                           NaN   \n",
       "4                 10/22/2007        10/22/2007                           NaN   \n",
       "\n",
       "   NPI Deactivation Date  NPI Reactivation Date Provider Gender Code  \n",
       "0                    NaN                    NaN                    M  \n",
       "1                    NaN                    NaN                    M  \n",
       "2                    NaN                    NaN                  NaN  \n",
       "3                    NaN                    NaN                    F  \n",
       "4                    NaN                    NaN                    F  \n",
       "\n",
       "[5 rows x 103 columns]"
      ]
     },
     "execution_count": 137,
     "metadata": {},
     "output_type": "execute_result"
    }
   ],
   "source": [
    "answer.head()"
   ]
  },
  {
   "cell_type": "code",
   "execution_count": 138,
   "metadata": {
    "nbgrader": {
     "grade": true,
     "grade_id": "02-tests",
     "locked": true,
     "points": 5,
     "schema_version": 1,
     "solution": false
    }
   },
   "outputs": [],
   "source": [
    "import numpy\n",
    "assert(answer.shape == (193862, 103))\n",
    "assert(list(answer['Provider Business Mailing Address State Name'].unique()) == ['IL','MO',numpy.nan,'WY'])\n",
    "assert(list(answer.groupby('Provider Business Mailing Address State Name').NPI.count()) == [111520, 53366, 4805])"
   ]
  },
  {
   "cell_type": "markdown",
   "metadata": {
    "nbgrader": {
     "grade": false,
     "grade_id": "03-intro",
     "locked": true,
     "schema_version": 1,
     "solution": false
    }
   },
   "source": [
    "## Part 3\n",
    "\n",
    "If you did everything right above, you'll notice that grouping by a column with NaN in it will cause some rows to disappear from the aggregation test.  So, let's create a new column called `'State'` that has the same value as whatever is in the `'Provider Business Mailing Address State Name'` column or a value of `'XX'` if there is no state information.\n",
    "\n",
    "Set `answer` to be your final data frame with the new `'State'` column added."
   ]
  },
  {
   "cell_type": "code",
   "execution_count": 139,
   "metadata": {
    "nbgrader": {
     "grade": false,
     "grade_id": "03-solution",
     "locked": false,
     "schema_version": 1,
     "solution": true
    }
   },
   "outputs": [],
   "source": [
    "### SOLUTION\n",
    "answer['State'] = answer['Provider Business Mailing Address State Name'].fillna('XX')"
   ]
  },
  {
   "cell_type": "code",
   "execution_count": 140,
   "metadata": {
    "nbgrader": {
     "grade": false,
     "grade_id": "03-solution",
     "locked": false,
     "schema_version": 1,
     "solution": true
    }
   },
   "outputs": [
    {
     "data": {
      "text/plain": [
       "IL    111520\n",
       "MO     53366\n",
       "WY      4805\n",
       "Name: Provider Business Mailing Address State Name, dtype: int64"
      ]
     },
     "execution_count": 140,
     "metadata": {},
     "output_type": "execute_result"
    }
   ],
   "source": [
    "answer['Provider Business Mailing Address State Name'].value_counts()"
   ]
  },
  {
   "cell_type": "code",
   "execution_count": 141,
   "metadata": {
    "nbgrader": {
     "grade": false,
     "grade_id": "03-solution",
     "locked": false,
     "schema_version": 1,
     "solution": true
    }
   },
   "outputs": [
    {
     "data": {
      "text/plain": [
       "IL    111520\n",
       "MO     53366\n",
       "XX     24171\n",
       "WY      4805\n",
       "Name: State, dtype: int64"
      ]
     },
     "execution_count": 141,
     "metadata": {},
     "output_type": "execute_result"
    }
   ],
   "source": [
    "answer['State'].value_counts()"
   ]
  },
  {
   "cell_type": "code",
   "execution_count": 142,
   "metadata": {
    "nbgrader": {
     "grade": true,
     "grade_id": "03-tests",
     "locked": true,
     "points": 5,
     "schema_version": 1,
     "solution": false
    }
   },
   "outputs": [],
   "source": [
    "assert(list(answer.groupby('State').npi.count()) == [111520, 53366, 4805, 24171])\n",
    "assert(answer.shape == (193862, 104))"
   ]
  },
  {
   "cell_type": "code",
   "execution_count": 143,
   "metadata": {
    "nbgrader": {
     "grade": true,
     "grade_id": "03-tests",
     "locked": true,
     "points": 5,
     "schema_version": 1,
     "solution": false
    }
   },
   "outputs": [
    {
     "data": {
      "text/plain": [
       "Index(['nbr', 'npi', 'provider_type', 'medicare_participation_indicator',\n",
       "       'number_of_hcpcs', 'total_services', 'total_unique_benes',\n",
       "       'total_submitted_chrg_amt', 'total_medicare_allowed_amt',\n",
       "       'total_medicare_payment_amt',\n",
       "       ...\n",
       "       'Provider Business Practice Location Address Country Code (If outside U.S.)',\n",
       "       'Provider Business Practice Location Address Telephone Number',\n",
       "       'Provider Business Practice Location Address Fax Number',\n",
       "       'Provider Enumeration Date', 'Last Update Date',\n",
       "       'NPI Deactivation Reason Code', 'NPI Deactivation Date',\n",
       "       'NPI Reactivation Date', 'Provider Gender Code', 'State'],\n",
       "      dtype='object', length=104)"
      ]
     },
     "execution_count": 143,
     "metadata": {},
     "output_type": "execute_result"
    }
   ],
   "source": [
    "answer.columns"
   ]
  },
  {
   "cell_type": "markdown",
   "metadata": {
    "nbgrader": {
     "grade": false,
     "grade_id": "04-intro",
     "locked": true,
     "schema_version": 1,
     "solution": false
    }
   },
   "source": [
    "## Part 4\n",
    "\n",
    "Next, let's summarize the data by year and by State.  Create a pivot table that contains one row for each state and one column for each year.  Within the pivot table, put a sum of total services as the values.\n",
    "\n",
    "Assign `answer` to be that resulting pivot table.  In the tests, I'm going to plot a bar chart of your pivot table."
   ]
  },
  {
   "cell_type": "code",
   "execution_count": 144,
   "metadata": {
    "nbgrader": {
     "grade": false,
     "grade_id": "04-solution",
     "locked": false,
     "schema_version": 1,
     "solution": true
    }
   },
   "outputs": [],
   "source": [
    "%matplotlib inline\n",
    "\n",
    "\n",
    "### SOLUTION\n",
    "import numpy as np\n",
    "answer = answer.pivot_table(\n",
    "    values='total_services', \n",
    "    index='State', \n",
    "    columns='year', \n",
    "    aggfunc=np.ma.sum, \n",
    "    fill_value=0)"
   ]
  },
  {
   "cell_type": "code",
   "execution_count": 145,
   "metadata": {
    "nbgrader": {
     "grade": false,
     "grade_id": "04-solution",
     "locked": false,
     "schema_version": 1,
     "solution": true
    }
   },
   "outputs": [
    {
     "data": {
      "text/html": [
       "<div>\n",
       "<style scoped>\n",
       "    .dataframe tbody tr th:only-of-type {\n",
       "        vertical-align: middle;\n",
       "    }\n",
       "\n",
       "    .dataframe tbody tr th {\n",
       "        vertical-align: top;\n",
       "    }\n",
       "\n",
       "    .dataframe thead th {\n",
       "        text-align: right;\n",
       "    }\n",
       "</style>\n",
       "<table border=\"1\" class=\"dataframe\">\n",
       "  <thead>\n",
       "    <tr style=\"text-align: right;\">\n",
       "      <th>year</th>\n",
       "      <th>2014</th>\n",
       "      <th>2015</th>\n",
       "      <th>2016</th>\n",
       "    </tr>\n",
       "    <tr>\n",
       "      <th>State</th>\n",
       "      <th></th>\n",
       "      <th></th>\n",
       "      <th></th>\n",
       "    </tr>\n",
       "  </thead>\n",
       "  <tbody>\n",
       "    <tr>\n",
       "      <th>IL</th>\n",
       "      <td>101393758.4</td>\n",
       "      <td>103048716.3</td>\n",
       "      <td>105432032.4</td>\n",
       "    </tr>\n",
       "    <tr>\n",
       "      <th>MO</th>\n",
       "      <td>48577227.1</td>\n",
       "      <td>50808468.0</td>\n",
       "      <td>50854632.1</td>\n",
       "    </tr>\n",
       "    <tr>\n",
       "      <th>WY</th>\n",
       "      <td>3487240.6</td>\n",
       "      <td>3800978.9</td>\n",
       "      <td>3604487.9</td>\n",
       "    </tr>\n",
       "    <tr>\n",
       "      <th>XX</th>\n",
       "      <td>14938636.4</td>\n",
       "      <td>16533705.2</td>\n",
       "      <td>16705781.4</td>\n",
       "    </tr>\n",
       "  </tbody>\n",
       "</table>\n",
       "</div>"
      ],
      "text/plain": [
       "year          2014         2015         2016\n",
       "State                                       \n",
       "IL     101393758.4  103048716.3  105432032.4\n",
       "MO      48577227.1   50808468.0   50854632.1\n",
       "WY       3487240.6    3800978.9    3604487.9\n",
       "XX      14938636.4   16533705.2   16705781.4"
      ]
     },
     "execution_count": 145,
     "metadata": {},
     "output_type": "execute_result"
    }
   ],
   "source": [
    "answer"
   ]
  },
  {
   "cell_type": "code",
   "execution_count": 147,
   "metadata": {
    "nbgrader": {
     "grade": true,
     "grade_id": "04-tests",
     "locked": true,
     "points": 5,
     "schema_version": 1,
     "solution": false
    }
   },
   "outputs": [
    {
     "ename": "AssertionError",
     "evalue": "",
     "output_type": "error",
     "traceback": [
      "\u001b[0;31m---------------------------------------------------------------------------\u001b[0m",
      "\u001b[0;31mAssertionError\u001b[0m                            Traceback (most recent call last)",
      "\u001b[0;32m<ipython-input-147-4bc8bb8e4b95>\u001b[0m in \u001b[0;36m<module>\u001b[0;34m\u001b[0m\n\u001b[1;32m      1\u001b[0m \u001b[0;32massert\u001b[0m\u001b[0;34m(\u001b[0m\u001b[0manswer\u001b[0m\u001b[0;34m.\u001b[0m\u001b[0mshape\u001b[0m \u001b[0;34m==\u001b[0m \u001b[0;34m(\u001b[0m\u001b[0;36m4\u001b[0m\u001b[0;34m,\u001b[0m\u001b[0;36m3\u001b[0m\u001b[0;34m)\u001b[0m\u001b[0;34m)\u001b[0m\u001b[0;34m\u001b[0m\u001b[0;34m\u001b[0m\u001b[0m\n\u001b[1;32m      2\u001b[0m \u001b[0;31m#assert(answer.sum().sum() == 519185664.6999999)\u001b[0m\u001b[0;34m\u001b[0m\u001b[0;34m\u001b[0m\u001b[0;34m\u001b[0m\u001b[0m\n\u001b[0;32m----> 3\u001b[0;31m \u001b[0;32massert\u001b[0m\u001b[0;34m(\u001b[0m\u001b[0manswer\u001b[0m\u001b[0;34m[\u001b[0m\u001b[0;36m2016\u001b[0m\u001b[0;34m]\u001b[0m\u001b[0;34m.\u001b[0m\u001b[0msum\u001b[0m\u001b[0;34m(\u001b[0m\u001b[0;34m)\u001b[0m \u001b[0;34m==\u001b[0m \u001b[0;36m176596933.80000004\u001b[0m\u001b[0;34m)\u001b[0m\u001b[0;34m\u001b[0m\u001b[0;34m\u001b[0m\u001b[0m\n\u001b[0m\u001b[1;32m      4\u001b[0m \u001b[0;32massert\u001b[0m\u001b[0;34m(\u001b[0m\u001b[0manswer\u001b[0m\u001b[0;34m.\u001b[0m\u001b[0mloc\u001b[0m\u001b[0;34m[\u001b[0m\u001b[0;34m'WY'\u001b[0m\u001b[0;34m]\u001b[0m\u001b[0;34m.\u001b[0m\u001b[0msum\u001b[0m\u001b[0;34m(\u001b[0m\u001b[0;34m)\u001b[0m \u001b[0;34m==\u001b[0m \u001b[0;36m10892707.4\u001b[0m\u001b[0;34m)\u001b[0m\u001b[0;34m\u001b[0m\u001b[0;34m\u001b[0m\u001b[0m\n",
      "\u001b[0;31mAssertionError\u001b[0m: "
     ]
    }
   ],
   "source": [
    "assert(answer.shape == (4,3))\n",
    "assert(answer.sum().sum() == 519185664.6999999)\n",
    "assert(answer[2016].sum() == 176596933.80000004)\n",
    "assert(answer.loc['WY'].sum() == 10892707.4)"
   ]
  },
  {
   "cell_type": "code",
   "execution_count": 148,
   "metadata": {},
   "outputs": [
    {
     "data": {
      "text/plain": [
       "<matplotlib.axes._subplots.AxesSubplot at 0x7f40c7e86588>"
      ]
     },
     "execution_count": 148,
     "metadata": {},
     "output_type": "execute_result"
    },
    {
     "data": {
      "image/png": "[encoded data removed]",
      "text/plain": [
       "<Figure size 432x288 with 1 Axes>"
      ]
     },
     "metadata": {
      "needs_background": "light"
     },
     "output_type": "display_data"
    }
   ],
   "source": [
    "%matplotlib inline\n",
    "answer.plot.bar()"
   ]
  },
  {
   "cell_type": "code",
   "execution_count": null,
   "metadata": {},
   "outputs": [],
   "source": []
  },
  {
   "cell_type": "markdown",
   "metadata": {},
   "source": [
    "\n",
    "\n",
    "---\n",
    "\n",
    "\n",
    "\n",
    "## Submitting Your Work\n",
    "\n",
    "In order to submit your work, you'll need to use the `git` command line program to **add** your homework file (this file) to your local repository, **commit** your changes to your local repository, and then **push** those changes up to github.com.  From there, I'll be able to **pull** the changes down and do my grading.  I'll provide some feedback, **commit** and **push** my comments back to you.  Next week, I'll show you how to **pull** down my comments.\n",
    "\n",
    "To run through everything one last time and submit your work:\n",
    "1. Use the `Kernel` -> `Restart Kernel and Run All Cells` menu option to run everything from top to bottom and stop here.\n",
    "2. Follow the instruction on the prompt below to either ssave and submit your work, or continue working.\n",
    "\n",
    "If anything fails along the way with this submission part of the process, let me know.  I'll help you troubleshoort."
   ]
  },
  {
   "cell_type": "markdown",
   "metadata": {},
   "source": [
    "---"
   ]
  },
  {
   "cell_type": "code",
   "execution_count": 1,
   "metadata": {
    "jupyter": {
     "source_hidden": true
    }
   },
   "outputs": [
    {
     "name": "stdin",
     "output_type": "stream",
     "text": [
      "\n",
      "Are you ready to submit your work?\n",
      "1. Click the Save icon (or do Ctrl-S / Cmd-S)\n",
      "2. Type \"yes\" or \"no\" below\n",
      "3. Press Enter\n",
      "\n",
      " \n"
     ]
    },
    {
     "name": "stdout",
     "output_type": "stream",
     "text": [
      "\n",
      "    \n",
      "OK. We can wait.\n",
      "\n"
     ]
    }
   ],
   "source": [
    "a=input('''\n",
    "Are you ready to submit your work?\n",
    "1. Click the Save icon (or do Ctrl-S / Cmd-S)\n",
    "2. Type \"yes\" or \"no\" below\n",
    "3. Press Enter\n",
    "\n",
    "''')\n",
    "\n",
    "if a=='yes':\n",
    "    !git pull\n",
    "    !git add week14_assignment.ipynb\n",
    "    !git commit -a -m \"Submitting the week 14 programming assignment\"\n",
    "    !git push\n",
    "else:\n",
    "    print('''\n",
    "    \n",
    "OK. We can wait.\n",
    "''')"
   ]
  },
  {
   "cell_type": "code",
   "execution_count": null,
   "metadata": {},
   "outputs": [],
   "source": []
  }
 ],
 "metadata": {
  "celltoolbar": "Create Assignment",
  "kernelspec": {
   "display_name": "Python 3",
   "language": "python",
   "name": "python3"
  },
  "language_info": {
   "codemirror_mode": {
    "name": "ipython",
    "version": 3
   },
   "file_extension": ".py",
   "mimetype": "text/x-python",
   "name": "python",
   "nbconvert_exporter": "python",
   "pygments_lexer": "ipython3",
   "version": "3.6.7"
  }
 },
 "nbformat": 4,
 "nbformat_minor": 2
}
