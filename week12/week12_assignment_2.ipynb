{
 "cells": [
  {
   "cell_type": "markdown",
   "metadata": {
    "nbgrader": {
     "grade": false,
     "grade_id": "intro",
     "locked": true,
     "schema_version": 1,
     "solution": false
    }
   },
   "source": [
    "# Week 12 Assignment\n",
    "\n",
    "# PART 1 - Pivoting Data for Fun!\n",
    "\n",
    "In this exercise, we're going to work with data about condemned buildings in St. Louis.  This data set is in `/data/condemn.txt` in CSV format."
   ]
  },
  {
   "cell_type": "markdown",
   "metadata": {
    "nbgrader": {
     "grade": false,
     "grade_id": "q1-intro",
     "locked": true,
     "schema_version": 1,
     "solution": false
    }
   },
   "source": [
    "## STEP 1: Load and Filter data\n",
    "\n",
    "For this analysis, we want to look only at a relevent range of years and only years that are in teh past.  So, let's first take a look at the data between 1986 and 2014 (inclusive of those dates).\n",
    "\n",
    "At the end of this step, you should have a data frame loaded from the condemnations file and filtered down to only the data between 1986 and 2014.  Put that into a dataframe named `condemnations`\n",
    "\n",
    "**Some helpful notes:**\n",
    "* Use the columns `InspectDate` to filter this date range"
   ]
  },
  {
   "cell_type": "code",
   "execution_count": 63,
   "metadata": {
    "nbgrader": {
     "grade": false,
     "grade_id": "q1-solution",
     "locked": false,
     "schema_version": 1,
     "solution": true
    }
   },
   "outputs": [
    {
     "name": "stderr",
     "output_type": "stream",
     "text": [
      "/opt/tljh/user/lib/python3.6/site-packages/IPython/core/interactiveshell.py:3051: DtypeWarning: Columns (2,8,35,36) have mixed types.Specify dtype option on import or set low_memory=False.\n",
      "  interactivity=interactivity, compiler=compiler, result=result)\n"
     ]
    },
    {
     "data": {
      "text/plain": [
       "(32586, 40)"
      ]
     },
     "execution_count": 63,
     "metadata": {},
     "output_type": "execute_result"
    }
   ],
   "source": [
    "%matplotlib inline\n",
    "import pandas as pd\n",
    "\n",
    "condemnations = pd.read_csv('/data/condemn.txt')\n",
    "condemnations.shape"
   ]
  },
  {
   "cell_type": "code",
   "execution_count": 64,
   "metadata": {},
   "outputs": [
    {
     "data": {
      "text/plain": [
       "Index(['AcctNum', 'PrclErr', 'AddrAdjusted', 'CityBlock', 'Parcel',\n",
       "       'OwnerCode', 'Handle', 'Parcel9', 'AddrNum', 'AddrSuf', 'StDir',\n",
       "       'StName', 'StType', 'InspectDate', 'InspectType', 'CondLetterSent',\n",
       "       'Status', 'OwnerCompany', 'OwnerName', 'OwnerAddr', 'OwnerCity',\n",
       "       'OwnerState', 'OwnerZIP', 'GeoCityBLockPart', 'Ward00', 'Precinct02',\n",
       "       'Nbrhd', 'CDADist', 'CDASubDist', 'PoliceDist', 'CensBlock00',\n",
       "       'AsrNbrhd', 'ImpactCode', 'NLC', 'Parity', 'Inspector', 'Images',\n",
       "       'FirstDate', 'LastDate', 'UpDateGeo'],\n",
       "      dtype='object')"
      ]
     },
     "execution_count": 64,
     "metadata": {},
     "output_type": "execute_result"
    }
   ],
   "source": [
    "#examine columns in dataframe\n",
    "condemnations.columns"
   ]
  },
  {
   "cell_type": "code",
   "execution_count": 65,
   "metadata": {},
   "outputs": [
    {
     "data": {
      "text/plain": [
       "2013-06-27 23:34:00    66\n",
       "2013-06-27 23:29:00    63\n",
       "2013-06-27 23:28:00    58\n",
       "2013-06-27 23:27:00    57\n",
       "2013-06-27 23:23:00    56\n",
       "                       ..\n",
       "2017-08-23 11:22:00     1\n",
       "2018-01-04 17:32:00     1\n",
       "2008-12-30 00:00:00     1\n",
       "1992-08-07 00:00:00     1\n",
       "2013-08-12 08:25:00     1\n",
       "Name: InspectDate, Length: 9345, dtype: int64"
      ]
     },
     "execution_count": 65,
     "metadata": {},
     "output_type": "execute_result"
    }
   ],
   "source": [
    "#examine dates in dataframe\n",
    "condemnations['InspectDate'].value_counts()"
   ]
  },
  {
   "cell_type": "code",
   "execution_count": 66,
   "metadata": {},
   "outputs": [],
   "source": [
    "#create filter for inspection dates in or after 1986\n",
    "condemn_1986 = condemnations['InspectDate'] >=  '1986'"
   ]
  },
  {
   "cell_type": "code",
   "execution_count": 67,
   "metadata": {},
   "outputs": [],
   "source": [
    "#create filter for inspection dates before 2015\n",
    "condemn_2014= condemnations['InspectDate']  <  '2015'"
   ]
  },
  {
   "cell_type": "code",
   "execution_count": 68,
   "metadata": {},
   "outputs": [],
   "source": [
    "#create new dataframe with dates only between 1986-2014\n",
    "condemnations = condemnations[condemn_1986 & condemn_2014]"
   ]
  },
  {
   "cell_type": "code",
   "execution_count": 129,
   "metadata": {},
   "outputs": [
    {
     "data": {
      "text/plain": [
       "2013-06-27 23:34:00    66\n",
       "2013-06-27 23:29:00    63\n",
       "2013-06-27 23:28:00    58\n",
       "2013-06-27 23:27:00    57\n",
       "2013-06-27 23:30:00    56\n",
       "                       ..\n",
       "1991-06-18 00:00:00     1\n",
       "1999-05-09 00:00:00     1\n",
       "1995-10-11 00:00:00     1\n",
       "2014-04-24 19:27:00     1\n",
       "1993-02-22 00:00:00     1\n",
       "Name: InspectDate, Length: 7051, dtype: int64"
      ]
     },
     "execution_count": 129,
     "metadata": {},
     "output_type": "execute_result"
    }
   ],
   "source": [
    "#verify that dates only include those in filter\n",
    "condemnations['InspectDate'].value_counts()"
   ]
  },
  {
   "cell_type": "code",
   "execution_count": 70,
   "metadata": {
    "nbgrader": {
     "grade": true,
     "grade_id": "q1-tests",
     "locked": true,
     "points": 6,
     "schema_version": 1,
     "solution": false
    }
   },
   "outputs": [],
   "source": [
    "assert(condemnations.shape == (30232, 40))\n",
    "assert(len(condemnations[condemnations['InspectDate'] < '1986'])==0)\n",
    "assert(len(condemnations[condemnations['InspectDate'] >= '2015'])==0)"
   ]
  },
  {
   "cell_type": "markdown",
   "metadata": {
    "nbgrader": {
     "grade": false,
     "grade_id": "q2-intro",
     "locked": true,
     "schema_version": 1,
     "solution": false
    }
   },
   "source": [
    "## STEP 2: Pivot and Summarize\n",
    "\n",
    "In this step we want to pivot our data so that we have one row per year, a column for each value that appears in the `Status` column, and a count of how many condemnations occurred of each type in each year.  Put your summary pivot table into a variable called `by_year`.\n",
    "\n",
    "**Some helpful notes:**\n",
    "* For some reason, Pandas is just kind of stubborn about count being the aggregate function.  You may need to tell it to `np.ma.count` specifically.  I've imported Numpy as np for you."
   ]
  },
  {
   "cell_type": "code",
   "execution_count": 74,
   "metadata": {},
   "outputs": [],
   "source": [
    "#create a Year variable to use as index in pivot table\n",
    "condemnations['Year'] = condemnations['InspectDate'].str[0:4]"
   ]
  },
  {
   "cell_type": "code",
   "execution_count": 87,
   "metadata": {},
   "outputs": [],
   "source": [
    "import numpy as np\n",
    "\n",
    "by_year = condemnations.pivot_table(\n",
    "    values = 'AcctNum',\n",
    "    index ='Year',\n",
    "    columns = 'Status',\n",
    "    aggfunc = np.ma.count,\n",
    "    fill_value=0)"
   ]
  },
  {
   "cell_type": "code",
   "execution_count": 88,
   "metadata": {},
   "outputs": [
    {
     "data": {
      "text/html": [
       "<div>\n",
       "<style scoped>\n",
       "    .dataframe tbody tr th:only-of-type {\n",
       "        vertical-align: middle;\n",
       "    }\n",
       "\n",
       "    .dataframe tbody tr th {\n",
       "        vertical-align: top;\n",
       "    }\n",
       "\n",
       "    .dataframe thead th {\n",
       "        text-align: right;\n",
       "    }\n",
       "</style>\n",
       "<table border=\"1\" class=\"dataframe\">\n",
       "  <thead>\n",
       "    <tr style=\"text-align: right;\">\n",
       "      <th>Status</th>\n",
       "      <th>B</th>\n",
       "      <th>L</th>\n",
       "      <th>R</th>\n",
       "      <th>W</th>\n",
       "    </tr>\n",
       "    <tr>\n",
       "      <th>Year</th>\n",
       "      <th></th>\n",
       "      <th></th>\n",
       "      <th></th>\n",
       "      <th></th>\n",
       "    </tr>\n",
       "  </thead>\n",
       "  <tbody>\n",
       "    <tr>\n",
       "      <th>1986</th>\n",
       "      <td>22</td>\n",
       "      <td>12</td>\n",
       "      <td>19</td>\n",
       "      <td>112</td>\n",
       "    </tr>\n",
       "    <tr>\n",
       "      <th>1987</th>\n",
       "      <td>91</td>\n",
       "      <td>20</td>\n",
       "      <td>8</td>\n",
       "      <td>361</td>\n",
       "    </tr>\n",
       "    <tr>\n",
       "      <th>1988</th>\n",
       "      <td>215</td>\n",
       "      <td>16</td>\n",
       "      <td>15</td>\n",
       "      <td>297</td>\n",
       "    </tr>\n",
       "    <tr>\n",
       "      <th>1989</th>\n",
       "      <td>277</td>\n",
       "      <td>15</td>\n",
       "      <td>11</td>\n",
       "      <td>432</td>\n",
       "    </tr>\n",
       "    <tr>\n",
       "      <th>1990</th>\n",
       "      <td>119</td>\n",
       "      <td>29</td>\n",
       "      <td>8</td>\n",
       "      <td>322</td>\n",
       "    </tr>\n",
       "    <tr>\n",
       "      <th>1991</th>\n",
       "      <td>139</td>\n",
       "      <td>18</td>\n",
       "      <td>4</td>\n",
       "      <td>351</td>\n",
       "    </tr>\n",
       "    <tr>\n",
       "      <th>1992</th>\n",
       "      <td>204</td>\n",
       "      <td>30</td>\n",
       "      <td>4</td>\n",
       "      <td>258</td>\n",
       "    </tr>\n",
       "    <tr>\n",
       "      <th>1993</th>\n",
       "      <td>185</td>\n",
       "      <td>47</td>\n",
       "      <td>2</td>\n",
       "      <td>193</td>\n",
       "    </tr>\n",
       "    <tr>\n",
       "      <th>1994</th>\n",
       "      <td>208</td>\n",
       "      <td>94</td>\n",
       "      <td>5</td>\n",
       "      <td>293</td>\n",
       "    </tr>\n",
       "    <tr>\n",
       "      <th>1995</th>\n",
       "      <td>176</td>\n",
       "      <td>127</td>\n",
       "      <td>0</td>\n",
       "      <td>268</td>\n",
       "    </tr>\n",
       "    <tr>\n",
       "      <th>1996</th>\n",
       "      <td>214</td>\n",
       "      <td>171</td>\n",
       "      <td>0</td>\n",
       "      <td>794</td>\n",
       "    </tr>\n",
       "    <tr>\n",
       "      <th>1997</th>\n",
       "      <td>281</td>\n",
       "      <td>328</td>\n",
       "      <td>0</td>\n",
       "      <td>878</td>\n",
       "    </tr>\n",
       "    <tr>\n",
       "      <th>1998</th>\n",
       "      <td>254</td>\n",
       "      <td>343</td>\n",
       "      <td>0</td>\n",
       "      <td>599</td>\n",
       "    </tr>\n",
       "    <tr>\n",
       "      <th>1999</th>\n",
       "      <td>272</td>\n",
       "      <td>283</td>\n",
       "      <td>0</td>\n",
       "      <td>826</td>\n",
       "    </tr>\n",
       "    <tr>\n",
       "      <th>2000</th>\n",
       "      <td>320</td>\n",
       "      <td>268</td>\n",
       "      <td>0</td>\n",
       "      <td>529</td>\n",
       "    </tr>\n",
       "    <tr>\n",
       "      <th>2001</th>\n",
       "      <td>381</td>\n",
       "      <td>262</td>\n",
       "      <td>0</td>\n",
       "      <td>296</td>\n",
       "    </tr>\n",
       "    <tr>\n",
       "      <th>2002</th>\n",
       "      <td>383</td>\n",
       "      <td>227</td>\n",
       "      <td>0</td>\n",
       "      <td>317</td>\n",
       "    </tr>\n",
       "    <tr>\n",
       "      <th>2003</th>\n",
       "      <td>361</td>\n",
       "      <td>201</td>\n",
       "      <td>0</td>\n",
       "      <td>282</td>\n",
       "    </tr>\n",
       "    <tr>\n",
       "      <th>2004</th>\n",
       "      <td>354</td>\n",
       "      <td>204</td>\n",
       "      <td>0</td>\n",
       "      <td>381</td>\n",
       "    </tr>\n",
       "    <tr>\n",
       "      <th>2005</th>\n",
       "      <td>410</td>\n",
       "      <td>237</td>\n",
       "      <td>0</td>\n",
       "      <td>345</td>\n",
       "    </tr>\n",
       "    <tr>\n",
       "      <th>2006</th>\n",
       "      <td>479</td>\n",
       "      <td>233</td>\n",
       "      <td>20</td>\n",
       "      <td>370</td>\n",
       "    </tr>\n",
       "    <tr>\n",
       "      <th>2007</th>\n",
       "      <td>613</td>\n",
       "      <td>262</td>\n",
       "      <td>0</td>\n",
       "      <td>341</td>\n",
       "    </tr>\n",
       "    <tr>\n",
       "      <th>2008</th>\n",
       "      <td>700</td>\n",
       "      <td>254</td>\n",
       "      <td>0</td>\n",
       "      <td>334</td>\n",
       "    </tr>\n",
       "    <tr>\n",
       "      <th>2009</th>\n",
       "      <td>785</td>\n",
       "      <td>223</td>\n",
       "      <td>0</td>\n",
       "      <td>200</td>\n",
       "    </tr>\n",
       "    <tr>\n",
       "      <th>2010</th>\n",
       "      <td>1161</td>\n",
       "      <td>193</td>\n",
       "      <td>0</td>\n",
       "      <td>154</td>\n",
       "    </tr>\n",
       "    <tr>\n",
       "      <th>2011</th>\n",
       "      <td>1028</td>\n",
       "      <td>275</td>\n",
       "      <td>0</td>\n",
       "      <td>107</td>\n",
       "    </tr>\n",
       "    <tr>\n",
       "      <th>2012</th>\n",
       "      <td>738</td>\n",
       "      <td>257</td>\n",
       "      <td>1</td>\n",
       "      <td>28</td>\n",
       "    </tr>\n",
       "    <tr>\n",
       "      <th>2013</th>\n",
       "      <td>185</td>\n",
       "      <td>209</td>\n",
       "      <td>1</td>\n",
       "      <td>2</td>\n",
       "    </tr>\n",
       "    <tr>\n",
       "      <th>2014</th>\n",
       "      <td>17</td>\n",
       "      <td>128</td>\n",
       "      <td>0</td>\n",
       "      <td>0</td>\n",
       "    </tr>\n",
       "  </tbody>\n",
       "</table>\n",
       "</div>"
      ],
      "text/plain": [
       "Status     B    L   R    W\n",
       "Year                      \n",
       "1986      22   12  19  112\n",
       "1987      91   20   8  361\n",
       "1988     215   16  15  297\n",
       "1989     277   15  11  432\n",
       "1990     119   29   8  322\n",
       "1991     139   18   4  351\n",
       "1992     204   30   4  258\n",
       "1993     185   47   2  193\n",
       "1994     208   94   5  293\n",
       "1995     176  127   0  268\n",
       "1996     214  171   0  794\n",
       "1997     281  328   0  878\n",
       "1998     254  343   0  599\n",
       "1999     272  283   0  826\n",
       "2000     320  268   0  529\n",
       "2001     381  262   0  296\n",
       "2002     383  227   0  317\n",
       "2003     361  201   0  282\n",
       "2004     354  204   0  381\n",
       "2005     410  237   0  345\n",
       "2006     479  233  20  370\n",
       "2007     613  262   0  341\n",
       "2008     700  254   0  334\n",
       "2009     785  223   0  200\n",
       "2010    1161  193   0  154\n",
       "2011    1028  275   0  107\n",
       "2012     738  257   1   28\n",
       "2013     185  209   1    2\n",
       "2014      17  128   0    0"
      ]
     },
     "execution_count": 88,
     "metadata": {},
     "output_type": "execute_result"
    }
   ],
   "source": [
    "#inspect new dataframe\n",
    "by_year"
   ]
  },
  {
   "cell_type": "code",
   "execution_count": 89,
   "metadata": {
    "nbgrader": {
     "grade": true,
     "grade_id": "q2-tests",
     "locked": true,
     "points": 6,
     "schema_version": 1,
     "solution": false
    }
   },
   "outputs": [],
   "source": [
    "assert(by_year.shape == (29, 4))\n",
    "assert(list(by_year.columns) == ['B', 'L', 'R', 'W'])\n",
    "assert(list(by_year.sum()) == [10572, 4966, 98, 9670])"
   ]
  },
  {
   "cell_type": "markdown",
   "metadata": {
    "nbgrader": {
     "grade": false,
     "grade_id": "q3-intro",
     "locked": true,
     "schema_version": 1,
     "solution": false
    }
   },
   "source": [
    "## STEP 3: Plot and see what you see\n",
    "\n",
    "Use Pandas built-in plotting capabilities to visualize this information in way that you think makes sense.  It might be that plotting a simple multi-series line chart would give you some insights.  Show your plot in the cell below, then use the text cell below that to write a few sentences about what you see.\n"
   ]
  },
  {
   "cell_type": "code",
   "execution_count": 91,
   "metadata": {
    "nbgrader": {
     "grade": true,
     "grade_id": "q3-manual",
     "locked": false,
     "points": 5,
     "schema_version": 1,
     "solution": true
    }
   },
   "outputs": [
    {
     "data": {
      "text/plain": [
       "<matplotlib.axes._subplots.AxesSubplot at 0x7f86f022ef28>"
      ]
     },
     "execution_count": 91,
     "metadata": {},
     "output_type": "execute_result"
    },
    {
     "data": {
      "image/png": "[encoded data removed]",
      "text/plain": [
       "<Figure size 1440x612 with 1 Axes>"
      ]
     },
     "metadata": {
      "needs_background": "light"
     },
     "output_type": "display_data"
    }
   ],
   "source": [
    "%matplotlib inline\n",
    "by_year.plot(figsize=(20,8.5))"
   ]
  },
  {
   "cell_type": "markdown",
   "metadata": {},
   "source": [
    "---"
   ]
  },
  {
   "cell_type": "markdown",
   "metadata": {},
   "source": [
    "It's clear the most common status type of condemnations have changed over time.  There was a large increase in status B from about 2007 to 2013, whereas status W had more from aroun 1995 to 2000.  Status L had almost none until about 1997 and has remained stable since then.  There are rarely ever any condemnations in status R.  The changes in the number by status may reflect changes in city protocols or staffing during those specific times. "
   ]
  },
  {
   "cell_type": "code",
   "execution_count": null,
   "metadata": {},
   "outputs": [],
   "source": []
  },
  {
   "cell_type": "markdown",
   "metadata": {},
   "source": [
    "# PART 2 - Video Conference Usage\n",
    "\n",
    "In this next part of the assignment, we'll be looking at how video conference usage changed during the beginning of COVID-19.  This real data.  Please don't judge anyone based on the information here.  ;)  The data is in the `/data/meetings.csv` file.\n",
    "\n",
    "For the assignment, I want you to compare (by person) the number of meetings hosted by each user for the last two weeks of February and the last two weeks of March.  This might be a little complicated to think through HOW to do that, so the steps below are one approach.\n",
    "\n",
    "1. Create a new column called startDate that contains just the day part of the startTime column in the data.  You can do that using datetime functions if you want, but you'll notice that the date in this file is a string formatted YYYY-MM-DD-HH:mm:ss, so it's probably easier just to pull out the first 10 characters of the string instead.  `meetings['startTime'].str[0:10]`\n",
    "2. Create another new column.  This one should contain a label like \"BEFORE\" for the week 2/17 - 2/28 and \"DURING\" for the week of 3/16 - 3/27.  A hand tip on this is that you can set values for some rows in a data frame using `meetings.loc[row_filter,'Column Name'] = 'Value'` if you've created a `row_filter` as we discussed in prior weeks.\n",
    "3. From here, using `pivot_table()` is one good way to summarize the information.\n",
    "\n",
    "**FINAL RESULT**\n",
    "\n",
    "For a final result, I'd like you to produce a data frame named **summary** that contains:\n",
    "* One ROW for each userName.  The userName can either be the row index or a column in the data frame.\n",
    "* One COLUMN for the \"BEFORE\" week and one COLUMN for the \"DURING\" week.  Name those columns 'Before' and 'During'.\n",
    "* One more calculated column that shows the percent increase from BEFORE to DURING.  Name that column 'pctChange'.\n"
   ]
  },
  {
   "cell_type": "code",
   "execution_count": 92,
   "metadata": {},
   "outputs": [],
   "source": [
    "import pandas as pd\n",
    "meetings = pd.read_csv('/data/meetings.csv')\n",
    "meetings.shape"
   ]
  },
  {
   "cell_type": "code",
   "execution_count": 96,
   "metadata": {},
   "outputs": [
    {
     "data": {
      "text/html": [
       "<div>\n",
       "<style scoped>\n",
       "    .dataframe tbody tr th:only-of-type {\n",
       "        vertical-align: middle;\n",
       "    }\n",
       "\n",
       "    .dataframe tbody tr th {\n",
       "        vertical-align: top;\n",
       "    }\n",
       "\n",
       "    .dataframe thead th {\n",
       "        text-align: right;\n",
       "    }\n",
       "</style>\n",
       "<table border=\"1\" class=\"dataframe\">\n",
       "  <thead>\n",
       "    <tr style=\"text-align: right;\">\n",
       "      <th></th>\n",
       "      <th>meeting_uuid</th>\n",
       "      <th>meetingTitle</th>\n",
       "      <th>meetingId</th>\n",
       "      <th>userName</th>\n",
       "      <th>user_id</th>\n",
       "      <th>user_tags</th>\n",
       "      <th>endTime</th>\n",
       "      <th>startTime</th>\n",
       "      <th>email</th>\n",
       "      <th>participantSeconds</th>\n",
       "      <th>...</th>\n",
       "      <th>meetingDurationMinutes</th>\n",
       "      <th>popId</th>\n",
       "      <th>userType</th>\n",
       "      <th>billable</th>\n",
       "      <th>moderatorLess</th>\n",
       "      <th>start_time</th>\n",
       "      <th>total_highlights_created</th>\n",
       "      <th>smart_meeting</th>\n",
       "      <th>transcription_used</th>\n",
       "      <th>total_transcription_duration_minutes</th>\n",
       "    </tr>\n",
       "  </thead>\n",
       "  <tbody>\n",
       "    <tr>\n",
       "      <th>0</th>\n",
       "      <td>418897-3b9f0feb-f8f4-4ae7-9464-eb983c30af60</td>\n",
       "      <td>Review Payer Websites</td>\n",
       "      <td>681568231</td>\n",
       "      <td>chris.rogers.amitechsolutions</td>\n",
       "      <td>3180644</td>\n",
       "      <td>NaN</td>\n",
       "      <td>2020-03-31 22:21:35</td>\n",
       "      <td>2020-03-31 21:00:22</td>\n",
       "      <td>chris.rogers@amitechsolutions.com</td>\n",
       "      <td>19386</td>\n",
       "      <td>...</td>\n",
       "      <td>81.2167</td>\n",
       "      <td>26</td>\n",
       "      <td>ENTERPRISE_PAID</td>\n",
       "      <td>True</td>\n",
       "      <td>True</td>\n",
       "      <td>2020-03-31 21:00:22.0</td>\n",
       "      <td>NaN</td>\n",
       "      <td>NaN</td>\n",
       "      <td>NaN</td>\n",
       "      <td>NaN</td>\n",
       "    </tr>\n",
       "    <tr>\n",
       "      <th>1</th>\n",
       "      <td>418897-14587f14-faf0-4879-9756-fe335357b413</td>\n",
       "      <td>Drew's Meeting</td>\n",
       "      <td>258719784</td>\n",
       "      <td>Drew.Marco</td>\n",
       "      <td>2717893</td>\n",
       "      <td>NaN</td>\n",
       "      <td>2020-03-31 21:30:37</td>\n",
       "      <td>2020-03-31 20:58:41</td>\n",
       "      <td>Drew.Marco@AmitechSolutions.com</td>\n",
       "      <td>7242</td>\n",
       "      <td>...</td>\n",
       "      <td>31.9333</td>\n",
       "      <td>25</td>\n",
       "      <td>ENTERPRISE_PAID</td>\n",
       "      <td>True</td>\n",
       "      <td>True</td>\n",
       "      <td>2020-03-31 20:58:41.0</td>\n",
       "      <td>NaN</td>\n",
       "      <td>NaN</td>\n",
       "      <td>NaN</td>\n",
       "      <td>NaN</td>\n",
       "    </tr>\n",
       "    <tr>\n",
       "      <th>2</th>\n",
       "      <td>418897-aa82b3f0-e3df-456a-80d5-daef7902c232</td>\n",
       "      <td>St. Luke's Project Discussion</td>\n",
       "      <td>415828450</td>\n",
       "      <td>eric.keeney</td>\n",
       "      <td>2692908</td>\n",
       "      <td>NaN</td>\n",
       "      <td>2020-03-31 22:48:43</td>\n",
       "      <td>2020-03-31 20:57:51</td>\n",
       "      <td>eric.keeney@amitechsolutions.com</td>\n",
       "      <td>38469</td>\n",
       "      <td>...</td>\n",
       "      <td>110.8667</td>\n",
       "      <td>25</td>\n",
       "      <td>ENTERPRISE_PAID</td>\n",
       "      <td>True</td>\n",
       "      <td>True</td>\n",
       "      <td>2020-03-31 20:57:51.0</td>\n",
       "      <td>NaN</td>\n",
       "      <td>NaN</td>\n",
       "      <td>NaN</td>\n",
       "      <td>NaN</td>\n",
       "    </tr>\n",
       "    <tr>\n",
       "      <th>3</th>\n",
       "      <td>418867-f5fadea7-75f8-4860-9a1e-090805ff6346</td>\n",
       "      <td>Amit's Meeting</td>\n",
       "      <td>275007771</td>\n",
       "      <td>amit.bhagat</td>\n",
       "      <td>2756615</td>\n",
       "      <td>NaN</td>\n",
       "      <td>2020-03-31 21:02:28</td>\n",
       "      <td>2020-03-31 20:34:43</td>\n",
       "      <td>amit.bhagat@amitechsolutions.com</td>\n",
       "      <td>6394</td>\n",
       "      <td>...</td>\n",
       "      <td>27.7500</td>\n",
       "      <td>110</td>\n",
       "      <td>ENTERPRISE_PAID</td>\n",
       "      <td>True</td>\n",
       "      <td>True</td>\n",
       "      <td>2020-03-31 20:34:43.0</td>\n",
       "      <td>NaN</td>\n",
       "      <td>NaN</td>\n",
       "      <td>NaN</td>\n",
       "      <td>NaN</td>\n",
       "    </tr>\n",
       "    <tr>\n",
       "      <th>4</th>\n",
       "      <td>418894-3a911019-1a97-4058-8bd4-035245c73bda</td>\n",
       "      <td>Andrea's Meeting</td>\n",
       "      <td>791412043</td>\n",
       "      <td>andrea.bryant.amitechsolutions</td>\n",
       "      <td>2673353</td>\n",
       "      <td>NaN</td>\n",
       "      <td>2020-03-31 20:49:46</td>\n",
       "      <td>2020-03-31 20:30:02</td>\n",
       "      <td>hr-dept@amitechsolutions.com</td>\n",
       "      <td>3363</td>\n",
       "      <td>...</td>\n",
       "      <td>19.7333</td>\n",
       "      <td>25</td>\n",
       "      <td>ENTERPRISE_PAID</td>\n",
       "      <td>True</td>\n",
       "      <td>True</td>\n",
       "      <td>2020-03-31 20:30:02.0</td>\n",
       "      <td>NaN</td>\n",
       "      <td>NaN</td>\n",
       "      <td>NaN</td>\n",
       "      <td>NaN</td>\n",
       "    </tr>\n",
       "  </tbody>\n",
       "</table>\n",
       "<p>5 rows × 25 columns</p>\n",
       "</div>"
      ],
      "text/plain": [
       "                                  meeting_uuid                   meetingTitle  \\\n",
       "0  418897-3b9f0feb-f8f4-4ae7-9464-eb983c30af60          Review Payer Websites   \n",
       "1  418897-14587f14-faf0-4879-9756-fe335357b413                 Drew's Meeting   \n",
       "2  418897-aa82b3f0-e3df-456a-80d5-daef7902c232  St. Luke's Project Discussion   \n",
       "3  418867-f5fadea7-75f8-4860-9a1e-090805ff6346                 Amit's Meeting   \n",
       "4  418894-3a911019-1a97-4058-8bd4-035245c73bda               Andrea's Meeting   \n",
       "\n",
       "   meetingId                        userName  user_id  user_tags  \\\n",
       "0  681568231   chris.rogers.amitechsolutions  3180644        NaN   \n",
       "1  258719784                      Drew.Marco  2717893        NaN   \n",
       "2  415828450                     eric.keeney  2692908        NaN   \n",
       "3  275007771                     amit.bhagat  2756615        NaN   \n",
       "4  791412043  andrea.bryant.amitechsolutions  2673353        NaN   \n",
       "\n",
       "               endTime            startTime  \\\n",
       "0  2020-03-31 22:21:35  2020-03-31 21:00:22   \n",
       "1  2020-03-31 21:30:37  2020-03-31 20:58:41   \n",
       "2  2020-03-31 22:48:43  2020-03-31 20:57:51   \n",
       "3  2020-03-31 21:02:28  2020-03-31 20:34:43   \n",
       "4  2020-03-31 20:49:46  2020-03-31 20:30:02   \n",
       "\n",
       "                               email  participantSeconds  ...  \\\n",
       "0  chris.rogers@amitechsolutions.com               19386  ...   \n",
       "1    Drew.Marco@AmitechSolutions.com                7242  ...   \n",
       "2   eric.keeney@amitechsolutions.com               38469  ...   \n",
       "3   amit.bhagat@amitechsolutions.com                6394  ...   \n",
       "4       hr-dept@amitechsolutions.com                3363  ...   \n",
       "\n",
       "  meetingDurationMinutes popId         userType  billable  moderatorLess  \\\n",
       "0                81.2167    26  ENTERPRISE_PAID      True           True   \n",
       "1                31.9333    25  ENTERPRISE_PAID      True           True   \n",
       "2               110.8667    25  ENTERPRISE_PAID      True           True   \n",
       "3                27.7500   110  ENTERPRISE_PAID      True           True   \n",
       "4                19.7333    25  ENTERPRISE_PAID      True           True   \n",
       "\n",
       "              start_time  total_highlights_created smart_meeting  \\\n",
       "0  2020-03-31 21:00:22.0                       NaN           NaN   \n",
       "1  2020-03-31 20:58:41.0                       NaN           NaN   \n",
       "2  2020-03-31 20:57:51.0                       NaN           NaN   \n",
       "3  2020-03-31 20:34:43.0                       NaN           NaN   \n",
       "4  2020-03-31 20:30:02.0                       NaN           NaN   \n",
       "\n",
       "   transcription_used  total_transcription_duration_minutes  \n",
       "0                 NaN                                   NaN  \n",
       "1                 NaN                                   NaN  \n",
       "2                 NaN                                   NaN  \n",
       "3                 NaN                                   NaN  \n",
       "4                 NaN                                   NaN  \n",
       "\n",
       "[5 rows x 25 columns]"
      ]
     },
     "execution_count": 96,
     "metadata": {},
     "output_type": "execute_result"
    }
   ],
   "source": [
    "meetings.head()"
   ]
  },
  {
   "cell_type": "code",
   "execution_count": 120,
   "metadata": {},
   "outputs": [
    {
     "data": {
      "text/plain": [
       "Index(['meeting_uuid', 'meetingTitle', 'meetingId', 'userName', 'user_id',\n",
       "       'user_tags', 'endTime', 'startTime', 'email', 'participantSeconds',\n",
       "       'joinDate', 'joinWeek', 'joinMonth', 'participants',\n",
       "       'participantMinutes', 'meetingDurationMinutes', 'popId', 'userType',\n",
       "       'billable', 'moderatorLess', 'start_time', 'total_highlights_created',\n",
       "       'smart_meeting', 'transcription_used',\n",
       "       'total_transcription_duration_minutes', 'startDate', 'TIMEFRAME'],\n",
       "      dtype='object')"
      ]
     },
     "execution_count": 120,
     "metadata": {},
     "output_type": "execute_result"
    }
   ],
   "source": [
    "meetings.columns"
   ]
  },
  {
   "cell_type": "code",
   "execution_count": 98,
   "metadata": {},
   "outputs": [],
   "source": [
    "#create new startDate variable\n",
    "meetings['startDate'] = meetings['startTime'].str[0:10]"
   ]
  },
  {
   "cell_type": "code",
   "execution_count": 99,
   "metadata": {},
   "outputs": [],
   "source": [
    "meetings.head()"
   ]
  },
  {
   "cell_type": "code",
   "execution_count": 104,
   "metadata": {},
   "outputs": [
    {
     "data": {
      "text/plain": [
       "2020-03-23    42\n",
       "2020-03-26    34\n",
       "2020-02-18    33\n",
       "2020-03-24    32\n",
       "2020-03-30    30\n",
       "              ..\n",
       "2020-02-09     1\n",
       "2020-02-23     1\n",
       "2020-01-25     1\n",
       "2020-03-22     1\n",
       "2020-01-18     1\n",
       "Name: startDate, Length: 72, dtype: int64"
      ]
     },
     "execution_count": 104,
     "metadata": {},
     "output_type": "execute_result"
    }
   ],
   "source": [
    "#inspect new startDate variable\n",
    "meetings['startDate'].value_counts()"
   ]
  },
  {
   "cell_type": "code",
   "execution_count": 109,
   "metadata": {},
   "outputs": [],
   "source": [
    "#create function to create new timeframe variable of before and after based on startDate\n",
    "def f(row):\n",
    "    if row['startDate'] == '2020-02-17' or row['startDate'] == '2020-02-18' or row['startDate'] == '2020-02-19' or row['startDate'] == '2020-02-20' or row['startDate'] == '2020-02-21'  or row['startDate'] == '2020-02-22' or row['startDate'] == '2020-02-23' or row['startDate'] == '2020-02-24' or row['startDate'] == '2020-02-25' or row['startDate'] == '2020-02-26' or row['startDate'] == '2020-02-27' or row['startDate'] == '2020-02-28':\n",
    "        val ='BEFORE'\n",
    "    elif row['startDate'] == '2020-03-16' or row['startDate'] == '2020-03-17' or row['startDate'] == '2020-03-18' or row['startDate'] == '2020-03-19'or row['startDate'] == '2020-03-20'  or row['startDate'] == '2020-03-21' or row['startDate'] == '2020-03-22' or row['startDate'] == '2020-03-23' or row['startDate'] == '2020-03-24' or row['startDate'] == '2020-03-25' or row['startDate'] == '2020-03-26' or row['startDate'] == '2020-03-27':\n",
    "        val = 'DURING' \n",
    "    else:\n",
    "        val = \"exclude\"\n",
    "    return val"
   ]
  },
  {
   "cell_type": "code",
   "execution_count": 110,
   "metadata": {},
   "outputs": [],
   "source": [
    "#create new TIMEFRAME varialbe to flag if date was before or during timeframe of interest\n",
    "meetings['TIMEFRAME'] = meetings.apply(f, axis = 1)"
   ]
  },
  {
   "cell_type": "code",
   "execution_count": 131,
   "metadata": {},
   "outputs": [
    {
     "data": {
      "text/plain": [
       "DURING    278\n",
       "BEFORE    179\n",
       "Name: TIMEFRAME, dtype: int64"
      ]
     },
     "execution_count": 131,
     "metadata": {},
     "output_type": "execute_result"
    }
   ],
   "source": [
    "meetings['TIMEFRAME'].value_counts()"
   ]
  },
  {
   "cell_type": "code",
   "execution_count": 114,
   "metadata": {},
   "outputs": [],
   "source": [
    "meeting_before= meetings['TIMEFRAME'] == 'BEFORE'"
   ]
  },
  {
   "cell_type": "code",
   "execution_count": 115,
   "metadata": {},
   "outputs": [],
   "source": [
    "meeting_during= meetings['TIMEFRAME'] == 'DURING'"
   ]
  },
  {
   "cell_type": "code",
   "execution_count": 117,
   "metadata": {},
   "outputs": [],
   "source": [
    "#create dateframe to only inlude dates before or during timeframe in scope\n",
    "meetings = meetings[meeting_before | meeting_during]"
   ]
  },
  {
   "cell_type": "code",
   "execution_count": 123,
   "metadata": {},
   "outputs": [],
   "source": [
    "import numpy as np\n",
    "\n",
    "summary = meetings.pivot_table(\n",
    "    values = 'participantSeconds',\n",
    "    index = 'userName',\n",
    "    columns = 'TIMEFRAME',\n",
    "    aggfunc = np.ma.count,\n",
    "    fill_value=0)"
   ]
  },
  {
   "cell_type": "code",
   "execution_count": 124,
   "metadata": {},
   "outputs": [
    {
     "data": {
      "text/html": [
       "<div>\n",
       "<style scoped>\n",
       "    .dataframe tbody tr th:only-of-type {\n",
       "        vertical-align: middle;\n",
       "    }\n",
       "\n",
       "    .dataframe tbody tr th {\n",
       "        vertical-align: top;\n",
       "    }\n",
       "\n",
       "    .dataframe thead th {\n",
       "        text-align: right;\n",
       "    }\n",
       "</style>\n",
       "<table border=\"1\" class=\"dataframe\">\n",
       "  <thead>\n",
       "    <tr style=\"text-align: right;\">\n",
       "      <th>TIMEFRAME</th>\n",
       "      <th>BEFORE</th>\n",
       "      <th>DURING</th>\n",
       "    </tr>\n",
       "    <tr>\n",
       "      <th>userName</th>\n",
       "      <th></th>\n",
       "      <th></th>\n",
       "    </tr>\n",
       "  </thead>\n",
       "  <tbody>\n",
       "    <tr>\n",
       "      <th>Drew.Marco</th>\n",
       "      <td>12</td>\n",
       "      <td>19</td>\n",
       "    </tr>\n",
       "    <tr>\n",
       "      <th>amit.bhagat</th>\n",
       "      <td>17</td>\n",
       "      <td>30</td>\n",
       "    </tr>\n",
       "    <tr>\n",
       "      <th>andrea.bryant.amitechsolutions</th>\n",
       "      <td>5</td>\n",
       "      <td>3</td>\n",
       "    </tr>\n",
       "    <tr>\n",
       "      <th>angie.warren</th>\n",
       "      <td>5</td>\n",
       "      <td>9</td>\n",
       "    </tr>\n",
       "    <tr>\n",
       "      <th>chris.rogers.amitechsolutions</th>\n",
       "      <td>4</td>\n",
       "      <td>3</td>\n",
       "    </tr>\n",
       "    <tr>\n",
       "      <th>eric.keeney</th>\n",
       "      <td>15</td>\n",
       "      <td>27</td>\n",
       "    </tr>\n",
       "    <tr>\n",
       "      <th>eric.rodman</th>\n",
       "      <td>4</td>\n",
       "      <td>12</td>\n",
       "    </tr>\n",
       "    <tr>\n",
       "      <th>jeff.hatfield.amitechsolutions</th>\n",
       "      <td>13</td>\n",
       "      <td>26</td>\n",
       "    </tr>\n",
       "    <tr>\n",
       "      <th>jennifer.patton.amitechs</th>\n",
       "      <td>5</td>\n",
       "      <td>7</td>\n",
       "    </tr>\n",
       "    <tr>\n",
       "      <th>jessica.sikora</th>\n",
       "      <td>3</td>\n",
       "      <td>7</td>\n",
       "    </tr>\n",
       "    <tr>\n",
       "      <th>matt.allsup</th>\n",
       "      <td>5</td>\n",
       "      <td>0</td>\n",
       "    </tr>\n",
       "    <tr>\n",
       "      <th>matt.brown.amitechsolutions</th>\n",
       "      <td>1</td>\n",
       "      <td>2</td>\n",
       "    </tr>\n",
       "    <tr>\n",
       "      <th>melissa.menne</th>\n",
       "      <td>10</td>\n",
       "      <td>9</td>\n",
       "    </tr>\n",
       "    <tr>\n",
       "      <th>michael.demos</th>\n",
       "      <td>5</td>\n",
       "      <td>11</td>\n",
       "    </tr>\n",
       "    <tr>\n",
       "      <th>paul.boal</th>\n",
       "      <td>15</td>\n",
       "      <td>35</td>\n",
       "    </tr>\n",
       "    <tr>\n",
       "      <th>paul.smith.amitechsolutions</th>\n",
       "      <td>23</td>\n",
       "      <td>10</td>\n",
       "    </tr>\n",
       "    <tr>\n",
       "      <th>pete.cornwell</th>\n",
       "      <td>1</td>\n",
       "      <td>9</td>\n",
       "    </tr>\n",
       "    <tr>\n",
       "      <th>raghavender.tuniki</th>\n",
       "      <td>6</td>\n",
       "      <td>2</td>\n",
       "    </tr>\n",
       "    <tr>\n",
       "      <th>sandip.shaw</th>\n",
       "      <td>9</td>\n",
       "      <td>2</td>\n",
       "    </tr>\n",
       "    <tr>\n",
       "      <th>santhosh.kanala</th>\n",
       "      <td>2</td>\n",
       "      <td>6</td>\n",
       "    </tr>\n",
       "    <tr>\n",
       "      <th>shawn.reilly.amitechsolutions</th>\n",
       "      <td>7</td>\n",
       "      <td>10</td>\n",
       "    </tr>\n",
       "    <tr>\n",
       "      <th>tejus.maduskar</th>\n",
       "      <td>12</td>\n",
       "      <td>39</td>\n",
       "    </tr>\n",
       "  </tbody>\n",
       "</table>\n",
       "</div>"
      ],
      "text/plain": [
       "TIMEFRAME                       BEFORE  DURING\n",
       "userName                                      \n",
       "Drew.Marco                          12      19\n",
       "amit.bhagat                         17      30\n",
       "andrea.bryant.amitechsolutions       5       3\n",
       "angie.warren                         5       9\n",
       "chris.rogers.amitechsolutions        4       3\n",
       "eric.keeney                         15      27\n",
       "eric.rodman                          4      12\n",
       "jeff.hatfield.amitechsolutions      13      26\n",
       "jennifer.patton.amitechs             5       7\n",
       "jessica.sikora                       3       7\n",
       "matt.allsup                          5       0\n",
       "matt.brown.amitechsolutions          1       2\n",
       "melissa.menne                       10       9\n",
       "michael.demos                        5      11\n",
       "paul.boal                           15      35\n",
       "paul.smith.amitechsolutions         23      10\n",
       "pete.cornwell                        1       9\n",
       "raghavender.tuniki                   6       2\n",
       "sandip.shaw                          9       2\n",
       "santhosh.kanala                      2       6\n",
       "shawn.reilly.amitechsolutions        7      10\n",
       "tejus.maduskar                      12      39"
      ]
     },
     "execution_count": 124,
     "metadata": {},
     "output_type": "execute_result"
    }
   ],
   "source": [
    "summary"
   ]
  },
  {
   "cell_type": "markdown",
   "metadata": {},
   "source": [
    "---"
   ]
  },
  {
   "cell_type": "code",
   "execution_count": 126,
   "metadata": {},
   "outputs": [],
   "source": [
    "#create pctChange variable\n",
    "summary['pctChange'] = (summary['DURING'] - summary['BEFORE'])/summary['BEFORE']"
   ]
  },
  {
   "cell_type": "code",
   "execution_count": 127,
   "metadata": {},
   "outputs": [
    {
     "data": {
      "text/html": [
       "<div>\n",
       "<style scoped>\n",
       "    .dataframe tbody tr th:only-of-type {\n",
       "        vertical-align: middle;\n",
       "    }\n",
       "\n",
       "    .dataframe tbody tr th {\n",
       "        vertical-align: top;\n",
       "    }\n",
       "\n",
       "    .dataframe thead th {\n",
       "        text-align: right;\n",
       "    }\n",
       "</style>\n",
       "<table border=\"1\" class=\"dataframe\">\n",
       "  <thead>\n",
       "    <tr style=\"text-align: right;\">\n",
       "      <th>TIMEFRAME</th>\n",
       "      <th>BEFORE</th>\n",
       "      <th>DURING</th>\n",
       "      <th>pctChange</th>\n",
       "    </tr>\n",
       "    <tr>\n",
       "      <th>userName</th>\n",
       "      <th></th>\n",
       "      <th></th>\n",
       "      <th></th>\n",
       "    </tr>\n",
       "  </thead>\n",
       "  <tbody>\n",
       "    <tr>\n",
       "      <th>Drew.Marco</th>\n",
       "      <td>12</td>\n",
       "      <td>19</td>\n",
       "      <td>0.583333</td>\n",
       "    </tr>\n",
       "    <tr>\n",
       "      <th>amit.bhagat</th>\n",
       "      <td>17</td>\n",
       "      <td>30</td>\n",
       "      <td>0.764706</td>\n",
       "    </tr>\n",
       "    <tr>\n",
       "      <th>andrea.bryant.amitechsolutions</th>\n",
       "      <td>5</td>\n",
       "      <td>3</td>\n",
       "      <td>-0.400000</td>\n",
       "    </tr>\n",
       "    <tr>\n",
       "      <th>angie.warren</th>\n",
       "      <td>5</td>\n",
       "      <td>9</td>\n",
       "      <td>0.800000</td>\n",
       "    </tr>\n",
       "    <tr>\n",
       "      <th>chris.rogers.amitechsolutions</th>\n",
       "      <td>4</td>\n",
       "      <td>3</td>\n",
       "      <td>-0.250000</td>\n",
       "    </tr>\n",
       "    <tr>\n",
       "      <th>eric.keeney</th>\n",
       "      <td>15</td>\n",
       "      <td>27</td>\n",
       "      <td>0.800000</td>\n",
       "    </tr>\n",
       "    <tr>\n",
       "      <th>eric.rodman</th>\n",
       "      <td>4</td>\n",
       "      <td>12</td>\n",
       "      <td>2.000000</td>\n",
       "    </tr>\n",
       "    <tr>\n",
       "      <th>jeff.hatfield.amitechsolutions</th>\n",
       "      <td>13</td>\n",
       "      <td>26</td>\n",
       "      <td>1.000000</td>\n",
       "    </tr>\n",
       "    <tr>\n",
       "      <th>jennifer.patton.amitechs</th>\n",
       "      <td>5</td>\n",
       "      <td>7</td>\n",
       "      <td>0.400000</td>\n",
       "    </tr>\n",
       "    <tr>\n",
       "      <th>jessica.sikora</th>\n",
       "      <td>3</td>\n",
       "      <td>7</td>\n",
       "      <td>1.333333</td>\n",
       "    </tr>\n",
       "    <tr>\n",
       "      <th>matt.allsup</th>\n",
       "      <td>5</td>\n",
       "      <td>0</td>\n",
       "      <td>-1.000000</td>\n",
       "    </tr>\n",
       "    <tr>\n",
       "      <th>matt.brown.amitechsolutions</th>\n",
       "      <td>1</td>\n",
       "      <td>2</td>\n",
       "      <td>1.000000</td>\n",
       "    </tr>\n",
       "    <tr>\n",
       "      <th>melissa.menne</th>\n",
       "      <td>10</td>\n",
       "      <td>9</td>\n",
       "      <td>-0.100000</td>\n",
       "    </tr>\n",
       "    <tr>\n",
       "      <th>michael.demos</th>\n",
       "      <td>5</td>\n",
       "      <td>11</td>\n",
       "      <td>1.200000</td>\n",
       "    </tr>\n",
       "    <tr>\n",
       "      <th>paul.boal</th>\n",
       "      <td>15</td>\n",
       "      <td>35</td>\n",
       "      <td>1.333333</td>\n",
       "    </tr>\n",
       "    <tr>\n",
       "      <th>paul.smith.amitechsolutions</th>\n",
       "      <td>23</td>\n",
       "      <td>10</td>\n",
       "      <td>-0.565217</td>\n",
       "    </tr>\n",
       "    <tr>\n",
       "      <th>pete.cornwell</th>\n",
       "      <td>1</td>\n",
       "      <td>9</td>\n",
       "      <td>8.000000</td>\n",
       "    </tr>\n",
       "    <tr>\n",
       "      <th>raghavender.tuniki</th>\n",
       "      <td>6</td>\n",
       "      <td>2</td>\n",
       "      <td>-0.666667</td>\n",
       "    </tr>\n",
       "    <tr>\n",
       "      <th>sandip.shaw</th>\n",
       "      <td>9</td>\n",
       "      <td>2</td>\n",
       "      <td>-0.777778</td>\n",
       "    </tr>\n",
       "    <tr>\n",
       "      <th>santhosh.kanala</th>\n",
       "      <td>2</td>\n",
       "      <td>6</td>\n",
       "      <td>2.000000</td>\n",
       "    </tr>\n",
       "    <tr>\n",
       "      <th>shawn.reilly.amitechsolutions</th>\n",
       "      <td>7</td>\n",
       "      <td>10</td>\n",
       "      <td>0.428571</td>\n",
       "    </tr>\n",
       "    <tr>\n",
       "      <th>tejus.maduskar</th>\n",
       "      <td>12</td>\n",
       "      <td>39</td>\n",
       "      <td>2.250000</td>\n",
       "    </tr>\n",
       "  </tbody>\n",
       "</table>\n",
       "</div>"
      ],
      "text/plain": [
       "TIMEFRAME                       BEFORE  DURING  pctChange\n",
       "userName                                                 \n",
       "Drew.Marco                          12      19   0.583333\n",
       "amit.bhagat                         17      30   0.764706\n",
       "andrea.bryant.amitechsolutions       5       3  -0.400000\n",
       "angie.warren                         5       9   0.800000\n",
       "chris.rogers.amitechsolutions        4       3  -0.250000\n",
       "eric.keeney                         15      27   0.800000\n",
       "eric.rodman                          4      12   2.000000\n",
       "jeff.hatfield.amitechsolutions      13      26   1.000000\n",
       "jennifer.patton.amitechs             5       7   0.400000\n",
       "jessica.sikora                       3       7   1.333333\n",
       "matt.allsup                          5       0  -1.000000\n",
       "matt.brown.amitechsolutions          1       2   1.000000\n",
       "melissa.menne                       10       9  -0.100000\n",
       "michael.demos                        5      11   1.200000\n",
       "paul.boal                           15      35   1.333333\n",
       "paul.smith.amitechsolutions         23      10  -0.565217\n",
       "pete.cornwell                        1       9   8.000000\n",
       "raghavender.tuniki                   6       2  -0.666667\n",
       "sandip.shaw                          9       2  -0.777778\n",
       "santhosh.kanala                      2       6   2.000000\n",
       "shawn.reilly.amitechsolutions        7      10   0.428571\n",
       "tejus.maduskar                      12      39   2.250000"
      ]
     },
     "execution_count": 127,
     "metadata": {},
     "output_type": "execute_result"
    }
   ],
   "source": [
    "summary"
   ]
  },
  {
   "cell_type": "markdown",
   "metadata": {},
   "source": [
    "assert(len(summary) == 22)"
   ]
  },
  {
   "cell_type": "code",
   "execution_count": 128,
   "metadata": {},
   "outputs": [],
   "source": [
    "assert(summary['pctChange'].mean().round(2) == 0.92)"
   ]
  },
  {
   "cell_type": "code",
   "execution_count": null,
   "metadata": {},
   "outputs": [],
   "source": []
  },
  {
   "cell_type": "markdown",
   "metadata": {},
   "source": [
    "\n",
    "\n",
    "---\n",
    "\n",
    "\n",
    "\n",
    "## Submitting Your Work\n",
    "\n",
    "In order to submit your work, you'll need to use the `git` command line program to **add** your homework file (this file) to your local repository, **commit** your changes to your local repository, and then **push** those changes up to github.com.  From there, I'll be able to **pull** the changes down and do my grading.  I'll provide some feedback, **commit** and **push** my comments back to you.  Next week, I'll show you how to **pull** down my comments.\n",
    "\n",
    "To run through everything one last time and submit your work:\n",
    "1. Use the `Kernel` -> `Restart Kernel and Run All Cells` menu option to run everything from top to bottom and stop here.\n",
    "2. Follow the instruction on the prompt below to either ssave and submit your work, or continue working.\n",
    "\n",
    "If anything fails along the way with this submission part of the process, let me know.  I'll help you troubleshoort."
   ]
  },
  {
   "cell_type": "markdown",
   "metadata": {},
   "source": [
    "---"
   ]
  },
  {
   "cell_type": "code",
   "execution_count": 130,
   "metadata": {
    "jupyter": {
     "source_hidden": true
    }
   },
   "outputs": [
    {
     "name": "stdin",
     "output_type": "stream",
     "text": [
      "\n",
      "Are you ready to submit your work?\n",
      "1. Click the Save icon (or do Ctrl-S / Cmd-S)\n",
      "2. Type \"yes\" or \"no\" below\n",
      "3. Press Enter\n",
      "\n",
      " yes\n"
     ]
    },
    {
     "name": "stdout",
     "output_type": "stream",
     "text": [
      "[main 70327e4] Submitting the week 12 programming assignment\n",
      " 2 files changed, 1655 insertions(+), 10 deletions(-)\n",
      " create mode 100644 week12/week12_assignment_2.ipynb\n",
      "Counting objects: 6, done.\n",
      "Delta compression using up to 2 threads.\n",
      "Compressing objects: 100% (6/6), done.\n",
      "Writing objects: 100% (6/6), 67.56 KiB | 9.65 MiB/s, done.\n",
      "Total 6 (delta 3), reused 0 (delta 0)\n",
      "remote: Resolving deltas: 100% (3/3), completed with 3 local objects.\u001b[K\n",
      "To github.com:msimkins7/hds5210-2022.git\n",
      "   6a5b87d..70327e4  main -> main\n"
     ]
    }
   ],
   "source": [
    "a=input('''\n",
    "Are you ready to submit your work?\n",
    "1. Click the Save icon (or do Ctrl-S / Cmd-S)\n",
    "2. Type \"yes\" or \"no\" below\n",
    "3. Press Enter\n",
    "\n",
    "''')\n",
    "\n",
    "if a=='yes':\n",
    "    !git add week12_assignment_2.ipynb\n",
    "    !git commit -a -m \"Submitting the week 12 programming assignment\"\n",
    "    !git push\n",
    "else:\n",
    "    print('''\n",
    "    \n",
    "OK. We can wait.\n",
    "''')"
   ]
  },
  {
   "cell_type": "code",
   "execution_count": null,
   "metadata": {},
   "outputs": [],
   "source": []
  },
  {
   "cell_type": "code",
   "execution_count": null,
   "metadata": {},
   "outputs": [],
   "source": []
  }
 ],
 "metadata": {
  "celltoolbar": "Create Assignment",
  "kernelspec": {
   "display_name": "Python 3",
   "language": "python",
   "name": "python3"
  },
  "language_info": {
   "codemirror_mode": {
    "name": "ipython",
    "version": 3
   },
   "file_extension": ".py",
   "mimetype": "text/x-python",
   "name": "python",
   "nbconvert_exporter": "python",
   "pygments_lexer": "ipython3",
   "version": "3.6.7"
  }
 },
 "nbformat": 4,
 "nbformat_minor": 2
}
